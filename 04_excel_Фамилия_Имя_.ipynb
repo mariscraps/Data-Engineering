{
  "cells": [
    {
      "cell_type": "markdown",
      "metadata": {
        "id": "gYV72zsqaN82"
      },
      "source": [
        "# Работа с Excel"
      ]
    },
    {
      "cell_type": "markdown",
      "metadata": {
        "id": "jTYDm23AaN84"
      },
      "source": [
        "Материалы:\n",
        "* Макрушин С.В. Лекция 7: Работа с Excel\n",
        "* https://docs.xlwings.org/en/stable/quickstart.html\n",
        "* https://nbviewer.jupyter.org/github/pybokeh/jupyter_notebooks/blob/master/xlwings/Excel_Formatting.ipynb#search_text\n"
      ]
    },
    {
      "cell_type": "markdown",
      "metadata": {
        "id": "m4omRo2baN84"
      },
      "source": [
        "## Задачи для совместного разбора"
      ]
    },
    {
      "cell_type": "markdown",
      "metadata": {
        "id": "vPi8sTzhaN84"
      },
      "source": [
        "1. На листе \"Рецептура\" файла `себестоимостьА_в1.xlsx` для области \"Пшеничный хлеб\" рассчитать себестоимость всех видов продукции."
      ]
    },
    {
      "cell_type": "code",
      "execution_count": null,
      "metadata": {
        "id": "o5ucgx3RaN85",
        "outputId": "580dee4c-b920-4674-e121-01977f443331"
      },
      "outputs": [
        {
          "name": "stdout",
          "output_type": "stream",
          "text": [
            "Себестоимость Хлеб Венгерский = 2.35\n",
            "Себестоимость Хлеб \"Барбари\" = 11.28\n",
            "Себестоимость Багет парижский = 8.46\n",
            "Себестоимость Чиабатта = 1.37\n"
          ]
        }
      ],
      "source": [
        "import openpyxl\n",
        "\n",
        "wb = openpyxl.load_workbook('себестоимостьА_в1.xlsx')\n",
        "\n",
        "# лист \"Рецепт\"\n",
        "ws = wb['Рецептура']\n",
        "\n",
        "#информация о цене ресурсов и среднем физическом расходе\n",
        "price = ws['G14':'O14']\n",
        "consumption = ws['G15':'O15']\n",
        "\n",
        "# рассчет себестоимость производства для каждого продукта\n",
        "cost = []\n",
        "for i in range(len(price[0])):\n",
        "    cost.append(price[0][i].value * consumption[0][i].value)\n",
        "\n",
        "#вес каждого продукта.\n",
        "weight = [ws['D' + str(j)].value for j in range(7, 11)]\n",
        "\n",
        "#себестоимость продукции за единицу веса\n",
        "unit_cost = [c / w for c, w in zip(cost, weight)]\n",
        "\n",
        "for i, c in enumerate(unit_cost):\n",
        "    print(f'Себестоимость {ws[\"C\" + str(7 + i)].value} = {c:.2f}')\n"
      ]
    },
    {
      "cell_type": "markdown",
      "metadata": {
        "id": "vYoKMMxTaN86"
      },
      "source": [
        "2. Результаты расчетов 1.1 сохранить в отдельном столбце области \"Пшеничный хлеб\""
      ]
    },
    {
      "cell_type": "code",
      "execution_count": null,
      "metadata": {
        "id": "lJA9bQheaN86",
        "outputId": "5eaa95a2-7ef7-4a58-8f16-b485c845a200"
      },
      "outputs": [
        {
          "name": "stdout",
          "output_type": "stream",
          "text": [
            "2.345\n",
            "11.28\n",
            "8.464\n",
            "1.368\n"
          ]
        }
      ],
      "source": [
        "# результаты в отдельной колонке раздела \"Пшеничный хлеб\".\n",
        "for i, c in enumerate(unit_cost):\n",
        "    ws['P' + str(7 + i)] = c\n",
        "\n",
        "wb.save('себестоимостьА_в1.xlsx')\n",
        "for i in range(4):\n",
        "    print(ws['P' + str(7 + i)].value)\n",
        "\n"
      ]
    },
    {
      "cell_type": "markdown",
      "metadata": {
        "id": "fRsN6xT0aN86"
      },
      "source": [
        "3. Приблизить форматирование столбца, добавленного в задаче 2 к оформлению всей области."
      ]
    },
    {
      "cell_type": "code",
      "execution_count": null,
      "metadata": {
        "id": "ZeLF-IhYaN87"
      },
      "outputs": [],
      "source": [
        "from openpyxl.styles import Alignment\n",
        "\n",
        "# Получаем столбец P\n",
        "column_p = ws['P']\n",
        "\n",
        "# Применяем форматирование\n",
        "for cell in column_p:\n",
        "    cell.alignment = Alignment(horizontal='center', vertical='center')\n",
        "\n",
        "wb.save('себестоимостьА_в1.xlsx')"
      ]
    },
    {
      "cell_type": "markdown",
      "metadata": {
        "id": "RLXZA3XgaN87"
      },
      "source": [
        "4. Выполнить 3 с помощью \"протягиваемых\" формул."
      ]
    },
    {
      "cell_type": "code",
      "execution_count": null,
      "metadata": {
        "id": "4ws1TCWmaN87"
      },
      "outputs": [],
      "source": [
        "for cell in ws['P7:P10']:\n",
        "    for c in cell:\n",
        "        c.number_format = '0.00'\n",
        "\n",
        "wb.save('себестоимостьА_в1.xlsx')"
      ]
    },
    {
      "cell_type": "markdown",
      "metadata": {
        "id": "lxDWUFTqaN87"
      },
      "source": [
        "## Лабораторная работа 7.1"
      ]
    },
    {
      "cell_type": "markdown",
      "metadata": {
        "id": "seXD-V0xaN87"
      },
      "source": [
        "1. Загрузите данные из файлов `reviews_sample.csv` (__ЛР2__) и `recipes_sample.csv` (__ЛР5__) в виде `pd.DataFrame`. Обратите внимание на корректное считывание столбца(ов) с индексами. Оставьте в таблице с рецептами следующие столбцы: `id`, `name`, `minutes`, `submitted`, `description`, `n_ingredients`"
      ]
    },
    {
      "cell_type": "code",
      "execution_count": null,
      "metadata": {
        "id": "ygmGMBVAaN87",
        "outputId": "93394098-60ea-4499-ef91-c747ecb115fb"
      },
      "outputs": [
        {
          "name": "stdout",
          "output_type": "stream",
          "text": [
            "                                             id  minutes   submitted  \\\n",
            "name                                                                   \n",
            "george s at the cove  black bean soup     44123       90  2002-10-25   \n",
            "healthy for them  yogurt popsicles        67664       10  2003-07-26   \n",
            "i can t believe it s spinach              38798       30  2002-08-29   \n",
            "italian  gut busters                      35173       45  2002-07-27   \n",
            "love is in the air  beef fondue   sauces  84797       25  2004-02-23   \n",
            "\n",
            "                                                                                description  \\\n",
            "name                                                                                          \n",
            "george s at the cove  black bean soup     an original recipe created by chef scott meska...   \n",
            "healthy for them  yogurt popsicles        my children and their friends ask for my homem...   \n",
            "i can t believe it s spinach                        these were so go, it surprised even me.   \n",
            "italian  gut busters                      my sister-in-law made these for us at a family...   \n",
            "love is in the air  beef fondue   sauces  i think a fondue is a very romantic casual din...   \n",
            "\n",
            "                                          n_ingredients  \n",
            "name                                                     \n",
            "george s at the cove  black bean soup              18.0  \n",
            "healthy for them  yogurt popsicles                  NaN  \n",
            "i can t believe it s spinach                        8.0  \n",
            "italian  gut busters                                NaN  \n",
            "love is in the air  beef fondue   sauces            NaN  \n"
          ]
        }
      ],
      "source": [
        "import pandas as pd\n",
        "\n",
        "# загрузка данных из файла reviews_sample.csv\n",
        "reviews_df = pd.read_csv(\"reviews_sample.csv\", index_col=0)\n",
        "\n",
        "# загрузка данных из файла recipes_sample.csv\n",
        "recipes_df = pd.read_csv(\"recipes_sample.csv\", index_col=0)\n",
        "# удаление столбцов\n",
        "recipes_df = recipes_df.drop(columns=['contributor_id', 'n_steps'])\n",
        "\n",
        "# первые несколько строк данных о рецептах\n",
        "print(recipes_df.head())"
      ]
    },
    {
      "cell_type": "markdown",
      "metadata": {
        "id": "KX_oGDw2aN88"
      },
      "source": [
        "2. Случайным образом выберите 5% строк из каждой таблицы и сохраните две таблицы на разные листы в один файл `recipes.xlsx`. Дайте листам названия \"Рецепты\" и \"Отзывы\", соответствующие содержанию таблиц."
      ]
    },
    {
      "cell_type": "code",
      "execution_count": null,
      "metadata": {
        "id": "AbQlX5a9aN88",
        "outputId": "f36188e0-8eae-473e-92d9-9ab4a9fab1d8"
      },
      "outputs": [
        {
          "name": "stdout",
          "output_type": "stream",
          "text": [
            "Отзывы:\n",
            "       Unnamed: 0     user_id  recipe_id        date  rating  \\\n",
            "18078      688791      422893     181857  2008-02-12       4   \n",
            "97504      217760     2246289      21688  2017-04-21       2   \n",
            "42610      579823      133174     179397  2006-08-27       5   \n",
            "80574      933453      183386     272253  2009-12-08       5   \n",
            "59221      467927  2001482226     119152  2018-08-20       5   \n",
            "\n",
            "                                                  review  \n",
            "18078  Nice combo, I also added a bit of red onion fo...  \n",
            "97504  Too bland. Next time I will add some Italian s...  \n",
            "42610  The intro says it all:  \"A yummy and different...  \n",
            "80574  Very well received by my family.  I will defin...  \n",
            "59221  Followed recipe amounts exactly. Made my coffe...  \n",
            "Рецепты:\n",
            "                                     name      id  minutes  contributor_id  \\\n",
            "15575  lamb and cheese stuffed sandwiches  379182      130           37449   \n",
            "1202              asian braised duck legs   85960      140           52282   \n",
            "6524             chocolate chip ice cream   15903       30            6357   \n",
            "17529                       mexican soupa   11170       30           15656   \n",
            "14936       jeff probst s oscar s delight  313304       26          171084   \n",
            "\n",
            "        submitted  n_steps                                        description  \\\n",
            "15575  2009-06-26      NaN  oh, i think you're gonna like this one! you ca...   \n",
            "1202   2004-03-06     14.0  i made this last night in my quest for great d...   \n",
            "6524   2001-12-16      9.0  found this recipe in a magazine, its yummy!!!!...   \n",
            "17529  2001-08-29      NaN  this recipe comes from a friend of mine. i too...   \n",
            "14936  2008-07-11      8.0  watched this dish being prepared on live with ...   \n",
            "\n",
            "       n_ingredients  \n",
            "15575            NaN  \n",
            "1202             NaN  \n",
            "6524             NaN  \n",
            "17529            9.0  \n",
            "14936            6.0  \n"
          ]
        }
      ],
      "source": [
        "recipes_number_of_strings = recipes.shape[0]  # 30000\n",
        "\n",
        "# => 5% строк это 30000 * 0,05 = 1500\n",
        "random_recipes = recipes.sample(n=1500)\n",
        "\n",
        "\n",
        "reviews_number_of_strings = reviews.shape[0]  # 126696\n",
        "# => 5% строк это 126696 * 0,05 = 6335\n",
        "random_reviews = reviews.sample(n=6335)\n",
        "\n",
        "with pd.ExcelWriter('recipes.xlsx') as writer:\n",
        "    random_recipes.to_excel(writer, sheet_name=\"Рецепты\", index=False)\n",
        "    random_reviews.to_excel(writer, sheet_name=\"Отзывы\", index=False)"
      ]
    },
    {
      "cell_type": "markdown",
      "metadata": {
        "id": "kL4ipmGqaN88"
      },
      "source": [
        "3. Используя `xlwings`, добавьте на лист `Рецепты` столбец `seconds_assign`, показывающий время выполнения рецепта в секундах. Выполните задание при помощи присваивания массива значений диапазону ячеек."
      ]
    },
    {
      "cell_type": "code",
      "execution_count": null,
      "metadata": {
        "id": "D5YxWe1JaN88",
        "outputId": "cf4e8c8e-a0e6-4a3c-8c4a-095340dd23f6"
      },
      "outputs": [
        {
          "name": "stdout",
          "output_type": "stream",
          "text": [
            "Name: lamb and cheese stuffed sandwiches,seconds: 7800.0\n",
            "Name: asian braised duck legs,seconds: 8400.0\n",
            "Name: chocolate chip ice cream,seconds: 1800.0\n",
            "Name: mexican soupa,seconds: 1800.0\n",
            "Name: jeff probst s oscar s delight,seconds: 1560.0\n"
          ]
        }
      ],
      "source": [
        "import xlwings as xw\n",
        "\n",
        "seconds_assign_list = [i * 60 for i in random_recipes['minutes']]\n",
        "wb = xw.Book('recipes.xlsx')  # connect to a file that is open or in the current working directory\n",
        "sheet_recipes = wb.sheets['Рецепты'] # instantiate a sheet object:\n",
        "sheet_recipes['G1'].value = \"secong_assign\"\n",
        "\n",
        "#sht_recipes.range('H1').value = 'seconds_assign'\n",
        "#sht_recipes.range('H2').options(transpose=True).value = seconds_arr\n",
        "wb.save()\n",
        "wb.close()"
      ]
    },
    {
      "cell_type": "markdown",
      "metadata": {
        "id": "frcvdBTMaN88"
      },
      "source": [
        "4. Используя `xlwings`, добавьте на лист `Рецепты` столбец `seconds_formula`, показывающий время выполнения рецепта в секундах. Выполните задание при помощи формул Excel."
      ]
    },
    {
      "cell_type": "code",
      "execution_count": null,
      "metadata": {
        "id": "f6sDtSfpaN88",
        "outputId": "0950d46e-8ff6-4a58-fc76-7a81559f6e88"
      },
      "outputs": [
        {
          "name": "stdout",
          "output_type": "stream",
          "text": [
            "Name: lamb and cheese stuffed sandwiches, seconds: 7800.0\n",
            "Name: asian braised duck legs, seconds: 8400.0\n",
            "Name: chocolate chip ice cream, seconds: 1800.0\n",
            "Name: mexican soupa, seconds: 1800.0\n",
            "Name: jeff probst s oscar s delight, seconds: 1560.0\n"
          ]
        }
      ],
      "source": [
        "wb = xw.Book('Книга1.xlsx')\n",
        "sht_recipes = wb.sheets['Рецепты']\n",
        "sht_recipes.range('I1').value = 'seconds_formula'\n",
        "for i in range(2, len(random_recipes['minutes']) + 2):\n",
        "    sht_recipes.range('I'+ str(i)).value = '=D' + str(i) + '*60'\n",
        "wb.save()\n",
        "wb.close()"
      ]
    },
    {
      "cell_type": "markdown",
      "metadata": {
        "id": "todgTqJtaN89"
      },
      "source": [
        "5. Сделайте названия всех добавленных столбцов полужирными и выровняйте по центру ячейки."
      ]
    },
    {
      "cell_type": "code",
      "execution_count": null,
      "metadata": {
        "id": "h3EVvNxmaN89"
      },
      "outputs": [],
      "source": [
        "wb = xw.Book('Книга1.xlsx')\n",
        "sht_recipes = wb.sheets['Рецепты']\n",
        "sht_recipes.range('A1:I1').font.bold = True\n",
        "sht_recipes.range('A1:I1').api.HorizontalAlignment = xw.constants.HAlign.xlHAlignCenter\n",
        "sht_reviews = wb.sheets['Отзывы']\n",
        "sht_reviews.range('A1:I1').font.bold = True\n",
        "sht_reviews.range('A1:I1').api.HorizontalAlignment = xw.constants.HAlign.xlHAlignCenter\n",
        "wb.save()\n",
        "wb.close()"
      ]
    },
    {
      "cell_type": "markdown",
      "metadata": {
        "id": "tM7F5gt0aN89"
      },
      "source": [
        "6. Раскрасьте ячейки столбца `minutes` в соответствии со следующим правилом: если рецепт выполняется быстрее 5 минут, то цвет - зеленый; от 5 до 10 минут - жёлтый; и больше 10 - красный."
      ]
    },
    {
      "cell_type": "code",
      "execution_count": null,
      "metadata": {
        "id": "GenCKxeVaN89"
      },
      "outputs": [],
      "source": [
        "wb = xw.Book('Книга1.xlsx')\n",
        "sht_recipes = wb.sheets['Рецепты']\n",
        "for i in range(2, len(random_recipes['minutes']) + 2):\n",
        "    if sht_recipes.range('D' + str(i)).value < 5:\n",
        "        sht_recipes.range('D' + str(i)).color = (0,255,0)\n",
        "    elif sht_recipes.range('D' + str(i)).value > 10:\n",
        "        sht_recipes.range('D' + str(i)).color = (255,0,0)\n",
        "    else:\n",
        "        sht_recipes.range('D' + str(i)).color = (255,255,0)\n",
        "\n",
        "wb.save()\n",
        "wb.close()"
      ]
    },
    {
      "cell_type": "markdown",
      "metadata": {
        "id": "AuZuJYI0aN89"
      },
      "source": [
        "7. Добавьте на лист `Рецепты`  столбец `n_reviews`, содержащий кол-во отзывов для этого рецепта. Выполните задание при помощи формул Excel."
      ]
    },
    {
      "cell_type": "code",
      "execution_count": null,
      "metadata": {
        "id": "6Mg7otGxaN89"
      },
      "outputs": [],
      "source": [
        "wb = xw.Book('Книга1.xlsx')\n",
        "sht_recipes = wb.sheets['Рецепты']\n",
        "sht_recipes.range('J1').value = 'n_reviews'\n",
        "for i in range(2, len(random_recipes['minutes']) + 2):\n",
        "    sht_recipes.range(f'J{i}').formula = f'=COUNTIF(Отзывы!D:D,C{i})'\n",
        "wb.save()\n",
        "wb.close()"
      ]
    },
    {
      "cell_type": "markdown",
      "metadata": {
        "id": "25XwmcWXaN89"
      },
      "source": [
        "## Лабораторная работа 7.2"
      ]
    },
    {
      "cell_type": "markdown",
      "metadata": {
        "id": "C478Z810aN89"
      },
      "source": [
        "8. Напишите функцию `validate()`, которая проверяет соответствие всех строк из листа `Отзывы` следующим правилам:\n",
        "    * Рейтинг - это число от 0 до 5 включительно\n",
        "    * Соответствующий рецепт имеется на листе `Рецепты`\n",
        "    \n",
        "В случае несоответствия этим правилам, выделите строку красным цветом"
      ]
    },
    {
      "cell_type": "code",
      "execution_count": null,
      "metadata": {
        "id": "BsQGjoMTaN89"
      },
      "outputs": [],
      "source": [
        "def validate():\n",
        "    wb = openpyxl.load_workbook('recipes.xlsx')\n",
        "    reviews = wb['Отзывы']\n",
        "    recipes = wb['Рецепты']\n",
        "\n",
        "    for row in reviews.iter_rows(min_row=2, max_row=reviews.max_row, min_col=1, max_col=3):\n",
        "        # получаем рейтинг и рецепт из текущей строки\n",
        "        rating = row[2].value\n",
        "        recipe = row[3].value\n",
        "        # если рейтинг не в диапазоне от 0 до 5, закрашиваем ячейку с рейтингом\n",
        "        if not (rating >= 0 and rating <= 5):\n",
        "            reviews.cell(row=row[0].row, column=3).fill = PatternFill(start_color=start_color, end_color=end_color, fill_type=\"solid\")\n",
        "        # если рецепт не существует в листе \"Рецепты\", закрашиваем ячейку с рецептом\n",
        "        if recipe not in [r[1].value for r in recipes.iter_rows(min_row=2, max_row=recipes.max_row, min_col=1, max_col=2)]:\n",
        "            reviews.cell(row=row[0].row, column=4).fill = PatternFill(start_color=start_color, end_color=end_color, fill_type=\"solid\")\n",
        "\n",
        "    wb.save('recipes.xlsx')"
      ]
    },
    {
      "cell_type": "markdown",
      "metadata": {
        "id": "mTJ9l2JcaN8-"
      },
      "source": [
        "9. В файле `recipes_model.csv` находится модель данных предметной области \"рецепты\". При помощи пакета `csv` считайте эти данные. При помощи пакета `xlwings` запишите данные на лист `Модель` книги `recipes_model.xlsx`, начиная с ячейки `A2`, не используя циклы. Сделайте скриншот текущего состояния листа и прикрепите в ячейку ноутбука."
      ]
    },
    {
      "cell_type": "code",
      "execution_count": null,
      "metadata": {
        "id": "LCl5AbwpaN8-"
      },
      "outputs": [],
      "source": [
        "import csv\n",
        "import xlwings as xw\n",
        "# открываем CSV\n",
        "with open('recipes_model.csv', 'r') as file:\n",
        "    reader = csv.reader(file)\n",
        "    data = list(reader)\n",
        "\n",
        "with xw.App() as app:\n",
        "    wb = xw.Book('recipes_model.xlsx')\n",
        "    sht = wb.sheets['Модель']\n",
        "    # записываем данные в диапазон A2\n",
        "    sht.range('A2').value = data\n",
        "    wb.save()"
      ]
    },
    {
      "cell_type": "markdown",
      "metadata": {
        "id": "o0l5trSRaN8-"
      },
      "source": [
        "![%D0%A1%D0%BD%D0%B8%D0%BC%D0%BE%D0%BA%20%D1%8D%D0%BA%D1%80%D0%B0%D0%BD%D0%B0%202024-04-15%20074220.png](attachment:%D0%A1%D0%BD%D0%B8%D0%BC%D0%BE%D0%BA%20%D1%8D%D0%BA%D1%80%D0%B0%D0%BD%D0%B0%202024-04-15%20074220.png)"
      ]
    },
    {
      "cell_type": "markdown",
      "metadata": {
        "id": "rdO8ZnvRaN8-"
      },
      "source": [
        "10. При помощи пакета `xlwings` добавьте в столбец J формулу для описания столбца на языке SQL. Формула должна реализовывать следующую логику:\n",
        "\n",
        "    1\\. в начале строки идут значения из столбцов В и C (значение столбца С приведено к верхнему регистру), разделенные пробелом\n",
        "    \n",
        "    2\\. далее идут слова на основе столбца \"Ключ\"\n",
        "        2.1 если в столбце \"Ключ\" указано значение \"PK\", то дальше через пробел идет ключевое слово \"PRIMARY KEY\"\n",
        "        2.2 если в столбце \"Ключ\" указано значение \"FK\", то дальше через пробел идет ключевое слово \"REFERENCES\", затем значения столбцов H и I в формате \"название_таблицы(название_столбца)\"\n",
        "        \n",
        "    3\\. если в столбце \"Обязательно к заполнению\" указано значение \"Y\" и в столбце \"Ключ\" указано не \"PK\", то дальше через пробел идет ключевое слово \"NOT NULL\".\n",
        "\n",
        "Заполните этой формулой необходимое количество строк, используя \"протягивание\". Количество строк для протягивания определите на основе данных.\n",
        "\n",
        "Сделайте скриншот текущего состояния листа и прикрепите в ячейку ноутбука."
      ]
    },
    {
      "cell_type": "code",
      "execution_count": null,
      "metadata": {
        "id": "YlX475NPaN8-"
      },
      "outputs": [],
      "source": [
        "import xlwings as xw\n",
        "\n",
        "wb = xw.Book('recipes_model.xlsx')\n",
        "sht = wb.sheets['Модель']\n",
        "\n",
        "# формируем формулу для столбца 'J'\n",
        "formula = '=B2 & \" \" & UPPER(C2) & \" \" & IF(G2=\"PK\",\"PRIMARY KEY\",IF(G2=\"FK\",\"REFERENCES \" & H2 & \"(\" & I2 & \")\",IF(D2=\"Y\" & A2<>\"PK\",\"NOT NULL\",\"\")))'\n",
        "\n",
        "# находим последнюю строку с данными в столбце 'B'\n",
        "last_row = sht.range('B' + str(sht.cells.last_cell.row)).end('up').row\n",
        "# записываем формулу в диапазон ячеек\n",
        "sht.range('J1:J' + str(last_row)).formula = formula\n",
        "\n",
        "wb.save()"
      ]
    },
    {
      "cell_type": "markdown",
      "metadata": {
        "id": "M3ka43esaN8-"
      },
      "source": [
        "![%D0%A1%D0%BD%D0%B8%D0%BC%D0%BE%D0%BA%20%D1%8D%D0%BA%D1%80%D0%B0%D0%BD%D0%B0%202024-04-28%20223730.png](attachment:%D0%A1%D0%BD%D0%B8%D0%BC%D0%BE%D0%BA%20%D1%8D%D0%BA%D1%80%D0%B0%D0%BD%D0%B0%202024-04-28%20223730.png)"
      ]
    },
    {
      "cell_type": "markdown",
      "metadata": {
        "id": "tLrw91tvaN8-"
      },
      "source": [
        "11. При помощи пакета `xlwings` измените стилизацию листа `Модель`.\n",
        "* для заголовков добавьте заливку цвета `00ccff`\n",
        "* примените автоподбор ширины столбца;\n",
        "* сделайте шрифт заголовков полужирным;\n",
        "* добавьте таблице автофильтр.\n",
        "\n",
        "Сделайте скриншот текущего состояния листа и прикрепите в ячейку ноутбука."
      ]
    },
    {
      "cell_type": "code",
      "execution_count": null,
      "metadata": {
        "id": "8KehDfgwaN8_"
      },
      "outputs": [],
      "source": [
        "import xlwings as xw\n",
        "\n",
        "wb = xw.Book('recipes_model.xlsx')\n",
        "sht = wb.sheets['Модель']\n",
        "\n",
        "# задаём цвет фона для диапазона ячеек 'A2:F2'\n",
        "sht.range('A2:F2').api.Interior.Color = 0x00ccff\n",
        "# растягиваем ширину столбцов\n",
        "sht.range('A1:F1').api.EntireColumn.AutoFit()\n",
        "# задаём жирный шрифт\n",
        "sht.range('A1:F1').api.Font.Bold = True\n",
        "# отключаем автофильтр для текущего листа\n",
        "sht.api.AutoFilterMode = False\n",
        "# включаем автофильтр для столбца 'A' с критерием '>0'\n",
        "sht.api.Range('A1:F1').AutoFilter(Field := 1, Criteria1 := '>0')\n",
        "\n",
        "wb.save()"
      ]
    },
    {
      "cell_type": "markdown",
      "metadata": {
        "id": "6m4RiFewaN8_"
      },
      "source": [
        "![%D0%A1%D0%BD%D0%B8%D0%BC%D0%BE%D0%BA%20%D1%8D%D0%BA%D1%80%D0%B0%D0%BD%D0%B0%202024-04-28%20224724.png](attachment:%D0%A1%D0%BD%D0%B8%D0%BC%D0%BE%D0%BA%20%D1%8D%D0%BA%D1%80%D0%B0%D0%BD%D0%B0%202024-04-28%20224724.png)"
      ]
    },
    {
      "cell_type": "markdown",
      "metadata": {
        "id": "FxUzQBqbaN8_"
      },
      "source": [
        "12. Посчитайте количество атрибутов для каждой из сущностей. Создайте лист `Статистика` и запишите в него результат группировки, начиная с ячейки \"А1\". Визуализируйте полученный результат при помощи столбчатой диаграммы. Сохраните полученную визуализацию на лист `Статистика`, начиная с ячейки \"E2\".  Сделайте скриншот листа `Статистика` и прикрепите в ячейку ноутбука.\n",
        "\n",
        "* Вы можете воспользоваться методами для визуализации, которые поставляются вместе с объектами `pandas` (см. https://pandas.pydata.org/docs/reference/api/pandas.DataFrame.plot)"
      ]
    },
    {
      "cell_type": "code",
      "execution_count": null,
      "metadata": {
        "id": "lRRO8X9aaN9D"
      },
      "outputs": [],
      "source": [
        "import matplotlib.pyplot as plt\n",
        "import pandas as pd\n",
        "# создаём объект книги Excel и открываем лист 'Модель' в файле 'recipes_model.xlsx'\n",
        "wb = xw.Book('recipes_model.xlsx')\n",
        "data = wb.sheets['Модель'].range('A:B').options(pd.DataFrame, header=1, index=False).value\n",
        "# переименовываем столбцы DataFrame в 'Entity' и 'Attribute'\n",
        "data.columns = ['Entity', 'Attribute']\n",
        "# группируем данные по столбцу 'Entity' и подсчитываем количество уникальных значений в столбце 'Attribute'\n",
        "grouped_data = data.groupby('Entity')['Attribute'].count()\n",
        "# записываем полученные данные в ячейку 'A1' листа 'Статистика' в активной книге Excel\n",
        "stat_sht = wb.sheets['Статистика']\n",
        "stat_sht.range('A1').value = grouped_data\n",
        "# визуализируем данные в виде столбчатой диаграммы\n",
        "ax = grouped_data.plot(xlabel='Entity', y='Attribute', ylabel='Кол-во атрибутов', kind='bar', legend=list(grouped_data.index.values))\n",
        "fig = ax.get_figure()\n",
        "stat_sht.pictures.add(fig, name='MyPlot', left=stat_sht.range('E2').left, top=stat_sht.range('E2').top, update=True)\n",
        "wb.save()"
      ]
    },
    {
      "cell_type": "markdown",
      "metadata": {
        "id": "2QbH9ZakaN9D"
      },
      "source": [
        "![%D0%A1%D0%BD%D0%B8%D0%BC%D0%BE%D0%BA%20%D1%8D%D0%BA%D1%80%D0%B0%D0%BD%D0%B0%202024-04-29%20010048.png](attachment:%D0%A1%D0%BD%D0%B8%D0%BC%D0%BE%D0%BA%20%D1%8D%D0%BA%D1%80%D0%B0%D0%BD%D0%B0%202024-04-29%20010048.png)"
      ]
    }
  ],
  "metadata": {
    "kernelspec": {
      "display_name": "Python 3 (ipykernel)",
      "language": "python",
      "name": "python3"
    },
    "language_info": {
      "codemirror_mode": {
        "name": "ipython",
        "version": 3
      },
      "file_extension": ".py",
      "mimetype": "text/x-python",
      "name": "python",
      "nbconvert_exporter": "python",
      "pygments_lexer": "ipython3",
      "version": "3.11.5"
    },
    "colab": {
      "provenance": []
    }
  },
  "nbformat": 4,
  "nbformat_minor": 0
}