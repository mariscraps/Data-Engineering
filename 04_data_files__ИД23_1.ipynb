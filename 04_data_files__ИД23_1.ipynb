{
  "cells": [
    {
      "cell_type": "markdown",
      "metadata": {
        "id": "2qrKwH3DsfVn"
      },
      "source": [
        "# Форматы данных (1)"
      ]
    },
    {
      "cell_type": "markdown",
      "metadata": {
        "id": "ELrxBNwisfWE"
      },
      "source": [
        "Материалы:\n",
        "* Макрушин С.В. \"Лекция 4: Форматы данных\"\n",
        "* https://docs.python.org/3/library/json.html\n",
        "* https://docs.python.org/3/library/pickle.html\n",
        "* https://www.crummy.com/software/BeautifulSoup/bs4/doc.ru/bs4ru.html\n",
        "* Уэс Маккини. Python и анализ данных"
      ]
    },
    {
      "cell_type": "markdown",
      "metadata": {
        "id": "nfKd0GqdsfWG"
      },
      "source": [
        "## Задачи для совместного разбора"
      ]
    },
    {
      "cell_type": "markdown",
      "metadata": {
        "id": "MwQSneGhsfWG"
      },
      "source": [
        "1. Вывести все адреса электронной почты, содержащиеся в адресной книге `addres-book.json`"
      ]
    },
    {
      "cell_type": "code",
      "source": [
        "import json\n",
        "with open(\"addres-book.json\", mode=\"r\", encoding=\"utf-8\") as f:\n",
        "  data = json.load(f)\n",
        "\n",
        "print(data, \"\\n\")\n",
        "\n",
        "print(data[0][\"email\"])\n",
        "print(data[1][\"email\"])"
      ],
      "metadata": {
        "colab": {
          "base_uri": "https://localhost:8080/"
        },
        "id": "Df3Tzodpsp_x",
        "outputId": "342d9550-ae10-465b-e608-b82ee8c7dd15"
      },
      "execution_count": null,
      "outputs": [
        {
          "output_type": "stream",
          "name": "stdout",
          "text": [
            "[{'name': 'Faina Lee', 'email': 'faina@mail.ru', 'birthday': '22.08.1994', 'phones': [{'phone': '232-19-55'}, {'phone': '+7 (916) 232-19-55'}]}, {'name': 'Robert Lee', 'email': 'robert@mail.ru', 'birthday': '22.08.1994', 'phones': [{'phone': '111-19-55'}, {'phone': '+7 (916) 445-19-55'}]}] \n",
            "\n",
            "faina@mail.ru\n",
            "robert@mail.ru\n"
          ]
        }
      ]
    },
    {
      "cell_type": "markdown",
      "metadata": {
        "id": "8RtFyntQsfWH"
      },
      "source": [
        "2. Вывести телефоны, содержащиеся в адресной книге `addres-book.json`"
      ]
    },
    {
      "cell_type": "code",
      "source": [
        "import json\n",
        "with open(\"addres-book.json\", mode=\"r\", encoding=\"utf-8\") as f:\n",
        "  data = json.load(f)\n",
        "\n",
        "\n",
        "for i in data:\n",
        "  phone_numbers = i.get(\"phones\")\n",
        "  for j in range(len(phone_numbers)):\n",
        "    stringg = phone_numbers[j]\n",
        "    print(*list(stringg.values()))"
      ],
      "metadata": {
        "colab": {
          "base_uri": "https://localhost:8080/"
        },
        "id": "K_kimgnaoNGR",
        "outputId": "564fcb4f-507e-4aea-e831-20eefb42b9b8"
      },
      "execution_count": null,
      "outputs": [
        {
          "output_type": "stream",
          "name": "stdout",
          "text": [
            "232-19-55\n",
            "+7 (916) 232-19-55\n",
            "111-19-55\n",
            "+7 (916) 445-19-55\n"
          ]
        }
      ]
    },
    {
      "cell_type": "markdown",
      "metadata": {
        "id": "lhc8oXKSsfWH"
      },
      "source": [
        "3. По данным из файла `addres-book-q.xml` сформировать список словарей с телефонами каждого из людей."
      ]
    },
    {
      "cell_type": "code",
      "source": [
        "from nltk import flatten\n",
        "\n",
        "from bs4 import BeautifulSoup\n",
        "with open(\"addres-book-q.xml\") as f:\n",
        "  ab = BeautifulSoup(f, \"xml\")\n",
        "\n",
        "addresses = ab.findAll('address')\n",
        "names = ab.findAll(\"name\")\n",
        "\n",
        "name_list = []\n",
        "\n",
        "phones_dict = {}\n",
        "\n",
        "for i in names:\n",
        "  name_list.append(i.text)\n",
        "\n",
        "count = - 1\n",
        "\n",
        "for i in addresses:\n",
        "  count += 1\n",
        "  phones = i.findAll(\"phone\")\n",
        "\n",
        "  for j in phones:\n",
        "    if name_list[count] not in phones_dict:\n",
        "      phones_dict[name_list[count]] = j.text\n",
        "    else:\n",
        "      phones_dict[name_list[count]] = flatten(list([phones_dict[name_list[count]], j.text]))\n",
        "\n",
        "\n",
        "phones_dict"
      ],
      "metadata": {
        "colab": {
          "base_uri": "https://localhost:8080/"
        },
        "id": "rBMAGAhNpqe2",
        "outputId": "6f5dc3c4-bc12-4c9e-eac0-cfac9b334661"
      },
      "execution_count": null,
      "outputs": [
        {
          "output_type": "execute_result",
          "data": {
            "text/plain": [
              "{'Aicha Barki': ['+ (213) 6150 4015', '+ (213) 2173 5247'],\n",
              " 'Francisco Domingos': ['+ (244-2) 325 023', '+ (244-2) 325 023'],\n",
              " 'Maria Luisa': '+ (244) 4232 2836',\n",
              " 'Abraao Chanda': ['+ (244-2) 325 023', '+ (244-2) 325 023'],\n",
              " 'Beatriz Busaniche': '+ (54-11) 4784 1159',\n",
              " 'Francesca Beddie': ['+ (61-2) 6274 9500', '+ (61-2) 6274 9513'],\n",
              " 'Graham John Smith': '+ (61-3) 9807 4702'}"
            ]
          },
          "metadata": {},
          "execution_count": 17
        }
      ]
    },
    {
      "cell_type": "markdown",
      "metadata": {
        "id": "aSnBvnyFsfWI"
      },
      "source": [
        "## Лабораторная работа №4"
      ]
    },
    {
      "cell_type": "markdown",
      "metadata": {
        "id": "k7uqIVMfsfWI"
      },
      "source": [
        "### JSON"
      ]
    },
    {
      "cell_type": "markdown",
      "metadata": {
        "id": "xbDEMefFsfWI"
      },
      "source": [
        "1.1 Считайте файл `contributors_sample.json`. Воспользовавшись модулем `json`, преобразуйте содержимое файла в соответствующие объекты python. Выведите на экран информацию о первых 3 пользователях."
      ]
    },
    {
      "cell_type": "code",
      "source": [
        "import json\n",
        "with open(\"contributors_sample.json\", mode=\"r\", encoding=\"utf-8\") as f:\n",
        "  data = json.load(f)\n",
        "\n",
        "for i in range(3):\n",
        "  print(data[i])\n"
      ],
      "metadata": {
        "colab": {
          "base_uri": "https://localhost:8080/"
        },
        "id": "1G9eTD2y1tLm",
        "outputId": "fc8ab758-fb7f-4a57-95d9-af1add8af30d"
      },
      "execution_count": null,
      "outputs": [
        {
          "output_type": "stream",
          "name": "stdout",
          "text": [
            "{'username': 'uhebert', 'name': 'Lindsey Nguyen', 'sex': 'F', 'address': '01261 Cameron Spring\\nTaylorfurt, AK 97791', 'mail': 'jsalazar@gmail.com', 'jobs': ['Energy engineer', 'Engineer, site', 'Environmental health practitioner', 'Biomedical scientist', 'Jewellery designer'], 'id': 35193}\n",
            "{'username': 'vickitaylor', 'name': 'Cheryl Lewis', 'sex': 'F', 'address': '66992 Welch Brooks\\nMarshallshire, ID 56004', 'mail': 'bhudson@gmail.com', 'jobs': ['Music therapist', 'Volunteer coordinator', 'Designer, interior/spatial'], 'id': 91970}\n",
            "{'username': 'sheilaadams', 'name': 'Julia Allen', 'sex': 'F', 'address': 'Unit 1632 Box 2971\\nDPO AE 23297', 'mail': 'darren44@yahoo.com', 'jobs': ['Management consultant', 'Engineer, structural', 'Lecturer, higher education', 'Theatre manager', 'Designer, textile'], 'id': 1848091}\n"
          ]
        }
      ]
    },
    {
      "cell_type": "markdown",
      "metadata": {
        "id": "nXyzbbmdsfWJ"
      },
      "source": [
        "1.2 Выведите уникальные почтовые домены, содержащиеся в почтовых адресах людей"
      ]
    },
    {
      "cell_type": "code",
      "source": [
        "import json\n",
        "with open(\"contributors_sample.json\", mode=\"r\", encoding=\"utf-8\") as f:\n",
        "  data = json.load(f)\n",
        "\n",
        "unique_mail = []\n",
        "\n",
        "for i in range(len(data)):\n",
        "  address_sign = str(data[i].get(\"mail\")).index(\"@\")\n",
        "  if data[i].get(\"mail\")[address_sign + 1:] not in unique_mail:\n",
        "    unique_mail.append(data[i].get(\"mail\")[address_sign + 1:])\n",
        "\n",
        "unique_mail"
      ],
      "metadata": {
        "colab": {
          "base_uri": "https://localhost:8080/"
        },
        "id": "klNPiK8V2VZ9",
        "outputId": "e9707465-81a4-4c2d-de11-ef1d44343010"
      },
      "execution_count": null,
      "outputs": [
        {
          "output_type": "execute_result",
          "data": {
            "text/plain": [
              "['gmail.com', 'yahoo.com', 'hotmail.com']"
            ]
          },
          "metadata": {},
          "execution_count": 18
        }
      ]
    },
    {
      "cell_type": "markdown",
      "metadata": {
        "id": "K6br7_jfsfWJ"
      },
      "source": [
        "1.3 Напишите функцию, которая по `username` ищет человека и выводит информацию о нем. Если пользователь с заданным `username` отсутствует, возбудите исключение `ValueError`"
      ]
    },
    {
      "cell_type": "code",
      "source": [
        "import json\n",
        "with open(\"contributors_sample.json\", mode=\"r\", encoding=\"utf-8\") as f:\n",
        "  data = json.load(f)\n",
        "\n",
        "\n",
        "def find_user(username):\n",
        "  for i in data:\n",
        "    if username == i[\"username\"]:\n",
        "      print(i)\n",
        "      return \"\"\n",
        "\n",
        "  raise ValueError(f'Пользователь с username: {username} не найден.')\n",
        "\n",
        "\n",
        "try:\n",
        "  username = input(\"Введите username: \")\n",
        "  print(find_user(username))\n",
        "\n",
        "except ValueError as e:\n",
        "  print(e)"
      ],
      "metadata": {
        "colab": {
          "base_uri": "https://localhost:8080/"
        },
        "id": "ZbCeRKpM4nyX",
        "outputId": "3e8e494f-9dcf-4975-a264-2cd82edaf479"
      },
      "execution_count": null,
      "outputs": [
        {
          "output_type": "stream",
          "name": "stdout",
          "text": [
            "Введите username: gfdgdfg\n",
            "Пользователь с username: gfdgdfg не найден.\n"
          ]
        }
      ]
    },
    {
      "cell_type": "markdown",
      "metadata": {
        "id": "BugpwgkbsfWK"
      },
      "source": [
        "1.4 Посчитайте, сколько мужчин и женщин присутсвует в этом наборе данных."
      ]
    },
    {
      "cell_type": "code",
      "source": [
        "import json\n",
        "with open(\"contributors_sample.json\", mode=\"r\", encoding=\"utf-8\") as f:\n",
        "  data = json.load(f)\n",
        "\n",
        "male = 0\n",
        "female = 0\n",
        "\n",
        "for i in data:\n",
        "  if i[\"sex\"] == \"F\":\n",
        "    female += 1\n",
        "  else:\n",
        "    male += 1\n",
        "\n",
        "print(female)\n",
        "print(male)"
      ],
      "metadata": {
        "colab": {
          "base_uri": "https://localhost:8080/"
        },
        "id": "eLjKcned6iYf",
        "outputId": "50d11ba4-482f-42b7-f1b6-f0bfdb3fc9ee"
      },
      "execution_count": null,
      "outputs": [
        {
          "output_type": "stream",
          "name": "stdout",
          "text": [
            "2136\n",
            "2064\n"
          ]
        }
      ]
    },
    {
      "cell_type": "markdown",
      "metadata": {
        "id": "219JtYAgsfWK"
      },
      "source": [
        "1.5 Создайте `pd.DataFrame` `contributors`, имеющий столбцы `id`, `username` и `sex`."
      ]
    },
    {
      "cell_type": "code",
      "source": [
        "import pandas as pd\n",
        "\n",
        "import json\n",
        "with open(\"contributors_sample.json\", mode=\"r\", encoding=\"utf-8\") as f:\n",
        "  data = json.load(f)\n",
        "\n",
        "contributors = pd.concat((pd.json_normalize(d) for d in data), axis=0)\n",
        "contributors = contributors[['id', 'username', 'sex']]\n",
        "contributors"
      ],
      "metadata": {
        "colab": {
          "base_uri": "https://localhost:8080/",
          "height": 423
        },
        "id": "PXYUi2aD690x",
        "outputId": "9145d096-05b1-4037-e896-fc46e08d72bb"
      },
      "execution_count": null,
      "outputs": [
        {
          "output_type": "execute_result",
          "data": {
            "text/plain": [
              "         id       username sex\n",
              "0     35193        uhebert   F\n",
              "0     91970    vickitaylor   F\n",
              "0   1848091    sheilaadams   F\n",
              "0     50969       nicole82   F\n",
              "0    676820         jean67   M\n",
              "..      ...            ...  ..\n",
              "0    423555  stevenspencer   F\n",
              "0     35251      rwilliams   M\n",
              "0    135887      lmartinez   F\n",
              "0    212714     brendahill   M\n",
              "0    344321       mistyray   F\n",
              "\n",
              "[4200 rows x 3 columns]"
            ],
            "text/html": [
              "\n",
              "  <div id=\"df-770a039e-f773-41f1-a4a4-8040425d97cc\" class=\"colab-df-container\">\n",
              "    <div>\n",
              "<style scoped>\n",
              "    .dataframe tbody tr th:only-of-type {\n",
              "        vertical-align: middle;\n",
              "    }\n",
              "\n",
              "    .dataframe tbody tr th {\n",
              "        vertical-align: top;\n",
              "    }\n",
              "\n",
              "    .dataframe thead th {\n",
              "        text-align: right;\n",
              "    }\n",
              "</style>\n",
              "<table border=\"1\" class=\"dataframe\">\n",
              "  <thead>\n",
              "    <tr style=\"text-align: right;\">\n",
              "      <th></th>\n",
              "      <th>id</th>\n",
              "      <th>username</th>\n",
              "      <th>sex</th>\n",
              "    </tr>\n",
              "  </thead>\n",
              "  <tbody>\n",
              "    <tr>\n",
              "      <th>0</th>\n",
              "      <td>35193</td>\n",
              "      <td>uhebert</td>\n",
              "      <td>F</td>\n",
              "    </tr>\n",
              "    <tr>\n",
              "      <th>0</th>\n",
              "      <td>91970</td>\n",
              "      <td>vickitaylor</td>\n",
              "      <td>F</td>\n",
              "    </tr>\n",
              "    <tr>\n",
              "      <th>0</th>\n",
              "      <td>1848091</td>\n",
              "      <td>sheilaadams</td>\n",
              "      <td>F</td>\n",
              "    </tr>\n",
              "    <tr>\n",
              "      <th>0</th>\n",
              "      <td>50969</td>\n",
              "      <td>nicole82</td>\n",
              "      <td>F</td>\n",
              "    </tr>\n",
              "    <tr>\n",
              "      <th>0</th>\n",
              "      <td>676820</td>\n",
              "      <td>jean67</td>\n",
              "      <td>M</td>\n",
              "    </tr>\n",
              "    <tr>\n",
              "      <th>...</th>\n",
              "      <td>...</td>\n",
              "      <td>...</td>\n",
              "      <td>...</td>\n",
              "    </tr>\n",
              "    <tr>\n",
              "      <th>0</th>\n",
              "      <td>423555</td>\n",
              "      <td>stevenspencer</td>\n",
              "      <td>F</td>\n",
              "    </tr>\n",
              "    <tr>\n",
              "      <th>0</th>\n",
              "      <td>35251</td>\n",
              "      <td>rwilliams</td>\n",
              "      <td>M</td>\n",
              "    </tr>\n",
              "    <tr>\n",
              "      <th>0</th>\n",
              "      <td>135887</td>\n",
              "      <td>lmartinez</td>\n",
              "      <td>F</td>\n",
              "    </tr>\n",
              "    <tr>\n",
              "      <th>0</th>\n",
              "      <td>212714</td>\n",
              "      <td>brendahill</td>\n",
              "      <td>M</td>\n",
              "    </tr>\n",
              "    <tr>\n",
              "      <th>0</th>\n",
              "      <td>344321</td>\n",
              "      <td>mistyray</td>\n",
              "      <td>F</td>\n",
              "    </tr>\n",
              "  </tbody>\n",
              "</table>\n",
              "<p>4200 rows × 3 columns</p>\n",
              "</div>\n",
              "    <div class=\"colab-df-buttons\">\n",
              "\n",
              "  <div class=\"colab-df-container\">\n",
              "    <button class=\"colab-df-convert\" onclick=\"convertToInteractive('df-770a039e-f773-41f1-a4a4-8040425d97cc')\"\n",
              "            title=\"Convert this dataframe to an interactive table.\"\n",
              "            style=\"display:none;\">\n",
              "\n",
              "  <svg xmlns=\"http://www.w3.org/2000/svg\" height=\"24px\" viewBox=\"0 -960 960 960\">\n",
              "    <path d=\"M120-120v-720h720v720H120Zm60-500h600v-160H180v160Zm220 220h160v-160H400v160Zm0 220h160v-160H400v160ZM180-400h160v-160H180v160Zm440 0h160v-160H620v160ZM180-180h160v-160H180v160Zm440 0h160v-160H620v160Z\"/>\n",
              "  </svg>\n",
              "    </button>\n",
              "\n",
              "  <style>\n",
              "    .colab-df-container {\n",
              "      display:flex;\n",
              "      gap: 12px;\n",
              "    }\n",
              "\n",
              "    .colab-df-convert {\n",
              "      background-color: #E8F0FE;\n",
              "      border: none;\n",
              "      border-radius: 50%;\n",
              "      cursor: pointer;\n",
              "      display: none;\n",
              "      fill: #1967D2;\n",
              "      height: 32px;\n",
              "      padding: 0 0 0 0;\n",
              "      width: 32px;\n",
              "    }\n",
              "\n",
              "    .colab-df-convert:hover {\n",
              "      background-color: #E2EBFA;\n",
              "      box-shadow: 0px 1px 2px rgba(60, 64, 67, 0.3), 0px 1px 3px 1px rgba(60, 64, 67, 0.15);\n",
              "      fill: #174EA6;\n",
              "    }\n",
              "\n",
              "    .colab-df-buttons div {\n",
              "      margin-bottom: 4px;\n",
              "    }\n",
              "\n",
              "    [theme=dark] .colab-df-convert {\n",
              "      background-color: #3B4455;\n",
              "      fill: #D2E3FC;\n",
              "    }\n",
              "\n",
              "    [theme=dark] .colab-df-convert:hover {\n",
              "      background-color: #434B5C;\n",
              "      box-shadow: 0px 1px 3px 1px rgba(0, 0, 0, 0.15);\n",
              "      filter: drop-shadow(0px 1px 2px rgba(0, 0, 0, 0.3));\n",
              "      fill: #FFFFFF;\n",
              "    }\n",
              "  </style>\n",
              "\n",
              "    <script>\n",
              "      const buttonEl =\n",
              "        document.querySelector('#df-770a039e-f773-41f1-a4a4-8040425d97cc button.colab-df-convert');\n",
              "      buttonEl.style.display =\n",
              "        google.colab.kernel.accessAllowed ? 'block' : 'none';\n",
              "\n",
              "      async function convertToInteractive(key) {\n",
              "        const element = document.querySelector('#df-770a039e-f773-41f1-a4a4-8040425d97cc');\n",
              "        const dataTable =\n",
              "          await google.colab.kernel.invokeFunction('convertToInteractive',\n",
              "                                                    [key], {});\n",
              "        if (!dataTable) return;\n",
              "\n",
              "        const docLinkHtml = 'Like what you see? Visit the ' +\n",
              "          '<a target=\"_blank\" href=https://colab.research.google.com/notebooks/data_table.ipynb>data table notebook</a>'\n",
              "          + ' to learn more about interactive tables.';\n",
              "        element.innerHTML = '';\n",
              "        dataTable['output_type'] = 'display_data';\n",
              "        await google.colab.output.renderOutput(dataTable, element);\n",
              "        const docLink = document.createElement('div');\n",
              "        docLink.innerHTML = docLinkHtml;\n",
              "        element.appendChild(docLink);\n",
              "      }\n",
              "    </script>\n",
              "  </div>\n",
              "\n",
              "\n",
              "<div id=\"df-75180484-e7da-40de-9a0e-fd75f6e5e6e1\">\n",
              "  <button class=\"colab-df-quickchart\" onclick=\"quickchart('df-75180484-e7da-40de-9a0e-fd75f6e5e6e1')\"\n",
              "            title=\"Suggest charts\"\n",
              "            style=\"display:none;\">\n",
              "\n",
              "<svg xmlns=\"http://www.w3.org/2000/svg\" height=\"24px\"viewBox=\"0 0 24 24\"\n",
              "     width=\"24px\">\n",
              "    <g>\n",
              "        <path d=\"M19 3H5c-1.1 0-2 .9-2 2v14c0 1.1.9 2 2 2h14c1.1 0 2-.9 2-2V5c0-1.1-.9-2-2-2zM9 17H7v-7h2v7zm4 0h-2V7h2v10zm4 0h-2v-4h2v4z\"/>\n",
              "    </g>\n",
              "</svg>\n",
              "  </button>\n",
              "\n",
              "<style>\n",
              "  .colab-df-quickchart {\n",
              "      --bg-color: #E8F0FE;\n",
              "      --fill-color: #1967D2;\n",
              "      --hover-bg-color: #E2EBFA;\n",
              "      --hover-fill-color: #174EA6;\n",
              "      --disabled-fill-color: #AAA;\n",
              "      --disabled-bg-color: #DDD;\n",
              "  }\n",
              "\n",
              "  [theme=dark] .colab-df-quickchart {\n",
              "      --bg-color: #3B4455;\n",
              "      --fill-color: #D2E3FC;\n",
              "      --hover-bg-color: #434B5C;\n",
              "      --hover-fill-color: #FFFFFF;\n",
              "      --disabled-bg-color: #3B4455;\n",
              "      --disabled-fill-color: #666;\n",
              "  }\n",
              "\n",
              "  .colab-df-quickchart {\n",
              "    background-color: var(--bg-color);\n",
              "    border: none;\n",
              "    border-radius: 50%;\n",
              "    cursor: pointer;\n",
              "    display: none;\n",
              "    fill: var(--fill-color);\n",
              "    height: 32px;\n",
              "    padding: 0;\n",
              "    width: 32px;\n",
              "  }\n",
              "\n",
              "  .colab-df-quickchart:hover {\n",
              "    background-color: var(--hover-bg-color);\n",
              "    box-shadow: 0 1px 2px rgba(60, 64, 67, 0.3), 0 1px 3px 1px rgba(60, 64, 67, 0.15);\n",
              "    fill: var(--button-hover-fill-color);\n",
              "  }\n",
              "\n",
              "  .colab-df-quickchart-complete:disabled,\n",
              "  .colab-df-quickchart-complete:disabled:hover {\n",
              "    background-color: var(--disabled-bg-color);\n",
              "    fill: var(--disabled-fill-color);\n",
              "    box-shadow: none;\n",
              "  }\n",
              "\n",
              "  .colab-df-spinner {\n",
              "    border: 2px solid var(--fill-color);\n",
              "    border-color: transparent;\n",
              "    border-bottom-color: var(--fill-color);\n",
              "    animation:\n",
              "      spin 1s steps(1) infinite;\n",
              "  }\n",
              "\n",
              "  @keyframes spin {\n",
              "    0% {\n",
              "      border-color: transparent;\n",
              "      border-bottom-color: var(--fill-color);\n",
              "      border-left-color: var(--fill-color);\n",
              "    }\n",
              "    20% {\n",
              "      border-color: transparent;\n",
              "      border-left-color: var(--fill-color);\n",
              "      border-top-color: var(--fill-color);\n",
              "    }\n",
              "    30% {\n",
              "      border-color: transparent;\n",
              "      border-left-color: var(--fill-color);\n",
              "      border-top-color: var(--fill-color);\n",
              "      border-right-color: var(--fill-color);\n",
              "    }\n",
              "    40% {\n",
              "      border-color: transparent;\n",
              "      border-right-color: var(--fill-color);\n",
              "      border-top-color: var(--fill-color);\n",
              "    }\n",
              "    60% {\n",
              "      border-color: transparent;\n",
              "      border-right-color: var(--fill-color);\n",
              "    }\n",
              "    80% {\n",
              "      border-color: transparent;\n",
              "      border-right-color: var(--fill-color);\n",
              "      border-bottom-color: var(--fill-color);\n",
              "    }\n",
              "    90% {\n",
              "      border-color: transparent;\n",
              "      border-bottom-color: var(--fill-color);\n",
              "    }\n",
              "  }\n",
              "</style>\n",
              "\n",
              "  <script>\n",
              "    async function quickchart(key) {\n",
              "      const quickchartButtonEl =\n",
              "        document.querySelector('#' + key + ' button');\n",
              "      quickchartButtonEl.disabled = true;  // To prevent multiple clicks.\n",
              "      quickchartButtonEl.classList.add('colab-df-spinner');\n",
              "      try {\n",
              "        const charts = await google.colab.kernel.invokeFunction(\n",
              "            'suggestCharts', [key], {});\n",
              "      } catch (error) {\n",
              "        console.error('Error during call to suggestCharts:', error);\n",
              "      }\n",
              "      quickchartButtonEl.classList.remove('colab-df-spinner');\n",
              "      quickchartButtonEl.classList.add('colab-df-quickchart-complete');\n",
              "    }\n",
              "    (() => {\n",
              "      let quickchartButtonEl =\n",
              "        document.querySelector('#df-75180484-e7da-40de-9a0e-fd75f6e5e6e1 button');\n",
              "      quickchartButtonEl.style.display =\n",
              "        google.colab.kernel.accessAllowed ? 'block' : 'none';\n",
              "    })();\n",
              "  </script>\n",
              "</div>\n",
              "    </div>\n",
              "  </div>\n"
            ],
            "application/vnd.google.colaboratory.intrinsic+json": {
              "type": "dataframe",
              "variable_name": "contributors",
              "summary": "{\n  \"name\": \"contributors\",\n  \"rows\": 4200,\n  \"fields\": [\n    {\n      \"column\": \"id\",\n      \"properties\": {\n        \"dtype\": \"number\",\n        \"std\": 180782532,\n        \"min\": 1535,\n        \"max\": 2002247884,\n        \"num_unique_values\": 4200,\n        \"samples\": [\n          1621203,\n          738454,\n          1062471\n        ],\n        \"semantic_type\": \"\",\n        \"description\": \"\"\n      }\n    },\n    {\n      \"column\": \"username\",\n      \"properties\": {\n        \"dtype\": \"string\",\n        \"num_unique_values\": 4098,\n        \"samples\": [\n          \"qbuckley\",\n          \"wmoses\",\n          \"jennifer56\"\n        ],\n        \"semantic_type\": \"\",\n        \"description\": \"\"\n      }\n    },\n    {\n      \"column\": \"sex\",\n      \"properties\": {\n        \"dtype\": \"category\",\n        \"num_unique_values\": 2,\n        \"samples\": [\n          \"M\",\n          \"F\"\n        ],\n        \"semantic_type\": \"\",\n        \"description\": \"\"\n      }\n    }\n  ]\n}"
            }
          },
          "metadata": {},
          "execution_count": 8
        }
      ]
    },
    {
      "cell_type": "markdown",
      "metadata": {
        "id": "kvujGYPcsfWK"
      },
      "source": [
        "1.6 Загрузите данные из файла `recipes_sample.csv` (__ЛР2__) в таблицу `recipes`. Объедините `recipes` с таблицей `contributors` с сохранением строк в том случае, если информация о человеке отсутствует в JSON-файле. Для скольких человек информация отсутствует?"
      ]
    },
    {
      "cell_type": "code",
      "source": [],
      "metadata": {
        "id": "VlyV5EyfBoOw"
      },
      "execution_count": null,
      "outputs": []
    },
    {
      "cell_type": "markdown",
      "metadata": {
        "id": "x-EoiKj4sfWL"
      },
      "source": [
        "### pickle"
      ]
    },
    {
      "cell_type": "markdown",
      "metadata": {
        "id": "0miX3YWXsfWL"
      },
      "source": [
        "2.1 На основе файла `contributors_sample.json` создайте словарь следующего вида:\n",
        "```\n",
        "{\n",
        "    должность: [список username людей, занимавших эту должность]\n",
        "}\n",
        "```"
      ]
    },
    {
      "cell_type": "code",
      "source": [
        "from nltk import flatten\n",
        "import json\n",
        "with open(\"contributors_sample.json\", mode=\"r\", encoding=\"utf-8\") as f:\n",
        "  data = json.load(f)\n",
        "\n",
        "all_jobs = {}\n",
        "\n",
        "for i in data:\n",
        "  for j in i[\"jobs\"]:\n",
        "    if j not in all_jobs:\n",
        "      all_jobs[j] = [i[\"username\"]]\n",
        "    else:\n",
        "      all_jobs[j] = flatten(list([all_jobs[j], i[\"username\"]]))\n",
        "\n",
        "\n",
        "all_jobs\n"
      ],
      "metadata": {
        "id": "qo2pi-b__j5t"
      },
      "execution_count": null,
      "outputs": []
    },
    {
      "cell_type": "markdown",
      "metadata": {
        "id": "TV9Jz12IsfWL"
      },
      "source": [
        "2.2 Сохраните результаты в файл `job_people.pickle` и в файл `job_people.json` с использованием форматов pickle и JSON соответственно. Сравните объемы получившихся файлов. При сохранении в JSON укажите аргумент `indent`."
      ]
    },
    {
      "cell_type": "code",
      "source": [
        "import pickle\n",
        "import json\n",
        "import os\n",
        "\n",
        "#сохранение результата в файл pickle\n",
        "with open(\"job_people.pickle\", \"wb\") as f:\n",
        "  pickle.dump(all_jobs, f)\n",
        "\n",
        "# открываем этот файл, проверяем, что все сохранилось\n",
        "with open(\"job_people.pickle\", \"rb\") as f:\n",
        "  jobs_info = pickle.load(f)\n",
        "\n",
        "#jobs_info\n",
        "\n",
        "\n",
        "#сохранение результата в файл json\n",
        "with open(\"job_people.json\", mode=\"w\", encoding=\"utf-8\") as f:\n",
        "  json.dump(all_jobs, f, indent = 2)\n",
        "\n",
        "# открываем этот файл, проверяем, что все сохранилось\n",
        "with open(\"job_people.json\", mode=\"r\", encoding=\"utf-8\") as f:\n",
        "  for line in f:\n",
        "    pass\n",
        "    #print(line, end=\"\")\n",
        "\n",
        "pickle_file_size = os.path.getsize('job_people.pickle')\n",
        "print(\"Размер pickle файла:\", pickle_file_size, \"байт.\")\n",
        "\n",
        "json_file_size = os.path.getsize('job_people.json')\n",
        "print(\"Размер json файла:\", json_file_size, \"байт.\")\n",
        "\n",
        "if pickle_file_size == json_file_size:\n",
        "  print(\"Размеры файлов одинаковые\")\n",
        "\n",
        "elif pickle_file_size > json_file_size:\n",
        "  print(\"Файл pickle больше по объему, чем файл json\")\n",
        "\n",
        "elif pickle_file_size < json_file_size:\n",
        "  print(\"Файл json больше по объему, чем файл pickle\")"
      ],
      "metadata": {
        "colab": {
          "base_uri": "https://localhost:8080/"
        },
        "id": "C7r_HcRqBAFa",
        "outputId": "ef974b0d-f5b0-434b-d923-114facd90345"
      },
      "execution_count": null,
      "outputs": [
        {
          "output_type": "stream",
          "name": "stdout",
          "text": [
            "Размер pickle файла: 132272 байт.\n",
            "Размер json файла: 319991 байт.\n",
            "Файл json больше по объему, чем файл pickle\n"
          ]
        }
      ]
    },
    {
      "cell_type": "markdown",
      "metadata": {
        "id": "GCpfawhBsfWM"
      },
      "source": [
        "2.3 Считайте файл `job_people.pickle` и продемонстрируйте, что данные считались корректно."
      ]
    },
    {
      "cell_type": "code",
      "source": [
        "# открываем этот файл, проверяем, что все сохранилось\n",
        "with open(\"job_people.pickle\", \"rb\") as f:\n",
        "  jobs_info = pickle.load(f)\n",
        "\n",
        "jobs_info"
      ],
      "metadata": {
        "id": "8eZkGOF8GRCB"
      },
      "execution_count": null,
      "outputs": []
    },
    {
      "cell_type": "markdown",
      "metadata": {
        "id": "3DwQETUKsfWM"
      },
      "source": [
        "### XML"
      ]
    },
    {
      "cell_type": "markdown",
      "metadata": {
        "id": "lZq_9IA3sfWM"
      },
      "source": [
        "3.1 По данным файла `steps_sample.xml` сформируйте словарь с шагами по каждому рецепту вида `{id_рецепта: [\"шаг1\", \"шаг2\"]}`. Сохраните этот словарь в файл `steps_sample.json`"
      ]
    },
    {
      "cell_type": "code",
      "source": [
        "from nltk import flatten\n",
        "import json\n",
        "\n",
        "from bs4 import BeautifulSoup\n",
        "with open(\"steps_sample.xml\") as f:\n",
        "  ab = BeautifulSoup(f, \"xml\")\n",
        "\n",
        "recipes_dict = {}\n",
        "\n",
        "recipes = ab.findAll('recipe')\n",
        "\n",
        "ids = ab.findAll(\"id\")\n",
        "\n",
        "id_list = []\n",
        "\n",
        "for i in ids:\n",
        "  id_list.append(i.text)\n",
        "\n",
        "count = - 1\n",
        "\n",
        "for i in recipes:\n",
        "  count += 1\n",
        "  steps = i.findAll(\"step\")\n",
        "\n",
        "  for j in steps:\n",
        "    if id_list[count] not in recipes_dict:\n",
        "      recipes_dict[id_list[count]] = j.text\n",
        "    else:\n",
        "      recipes_dict[id_list[count]] = flatten(list([recipes_dict[id_list[count]], j.text]))\n",
        "\n",
        "# вывод первых четырех ключей и значений полученного словаря\n",
        "print(list(recipes_dict.keys())[0], list(recipes_dict.values())[0])\n",
        "print(list(recipes_dict.keys())[1], list(recipes_dict.values())[1])\n",
        "print(list(recipes_dict.keys())[2], list(recipes_dict.values())[2])\n",
        "print(list(recipes_dict.keys())[3], list(recipes_dict.values())[3])\n",
        "\n",
        "#сохранение результата в файл json\n",
        "with open(\"steps_sample.json\", mode=\"w\", encoding=\"utf-8\") as f:\n",
        "  json.dump(recipes_dict, f, indent = 2)\n",
        "\n",
        "# открываем этот файл, проверяем, что все сохранилось\n",
        "with open(\"steps_sample.json\", mode=\"r\", encoding=\"utf-8\") as f:\n",
        "  for line in f:\n",
        "    pass\n",
        "    #print(line, end=\"\")"
      ],
      "metadata": {
        "colab": {
          "base_uri": "https://localhost:8080/"
        },
        "id": "ZtVpyXtMaIJ8",
        "outputId": "df57cf75-3a5a-4aba-b361-49afb70fe3dc"
      },
      "execution_count": null,
      "outputs": [
        {
          "output_type": "stream",
          "name": "stdout",
          "text": [
            "44123 ['in 1 / 4 cup butter , saute carrots , onion , celery and broccoli stems for 5 minutes', 'add thyme , oregano and basil', 'saute 5 minutes more', 'add wine and deglaze pan', 'add hot chicken stock and reduce by one-third', 'add worcestershire sauce , tabasco , smoked chicken , beans and broccoli florets', 'simmer 5 minutes', 'add cream , simmer 5 minutes more and season to taste', 'drop in remaining butter , piece by piece , stirring until melted and serve immediately', 'smoked chicken: on a covered grill , slightly smoke boneless chicken , cooking to medium rare', 'chef meskan uses applewood chips and does not allow the grill to become too hot']\n",
            "67664 ['mix all the ingredients using a blender', 'pour into popsicle molds', 'freeze and enjoy !']\n",
            "38798 ['combine all ingredients in a large bowl and mix well', 'shape into one-inch balls', 'cover and refrigerate or freeze until ready to bake', 'preheat oven to 350 degrees', 'place on ungreased baking sheet and bake until light brown']\n",
            "35173 ['lay out sandwich rolls on jelly roll pans / cookie sheets', 'melt butter , mix in italian dressing mix', 'using a pastry or bbq brush , graciously apply seasoned butter to the top of the\"bottom bun\" and the top of the top bun', \"don't miss this step , i don't know why , but it does make a difference !\", 'here is where i create an assembly line w / the bottoms of the buns', 'layer each bun w / ham , then swiss cheese , turkey , then cheddar cheese , pepperoni , then mozzerella cheese', 'place\"lids\" on buns and place in 425 degree oven for approximly 12-15 minutes , or until you see the tops start to turn golden brown']\n"
          ]
        }
      ]
    },
    {
      "cell_type": "markdown",
      "metadata": {
        "id": "2CVQYASLsfWM"
      },
      "source": [
        "3.2 По данным файла `steps_sample.xml` сформируйте словарь следующего вида: `кол-во_шагов_в_рецепте: [список_id_рецептов]`"
      ]
    },
    {
      "cell_type": "code",
      "source": [
        "from nltk import flatten\n",
        "new_recipes_dict = {}\n",
        "\n",
        "for key in recipes_dict:\n",
        "  number_of_steps = len(recipes_dict[key])\n",
        "  if number_of_steps in new_recipes_dict:\n",
        "    new_recipes_dict[number_of_steps] = flatten(list([new_recipes_dict[number_of_steps], key]))\n",
        "  else:\n",
        "    new_recipes_dict[number_of_steps] = key\n",
        "\n",
        "\n",
        "# вывод первых четырех ключей и значений полученного словаря\n",
        "print(list(new_recipes_dict.keys())[0], list(new_recipes_dict.values())[0])\n",
        "print(list(new_recipes_dict.keys())[1], list(new_recipes_dict.values())[1])\n",
        "print(list(new_recipes_dict.keys())[2], list(new_recipes_dict.values())[2])\n",
        "print(list(new_recipes_dict.keys())[3], list(new_recipes_dict.values())[3])\n"
      ],
      "metadata": {
        "colab": {
          "base_uri": "https://localhost:8080/"
        },
        "id": "1hAw9DOutHI6",
        "outputId": "811c8c88-0c34-4e4f-b13b-1a1f12e61fba"
      },
      "execution_count": null,
      "outputs": [
        {
          "output_type": "stream",
          "name": "stdout",
          "text": [
            "11 ['44123', '302399', '375376', '140610', '374703', '111198', '257111', '432661', '114204', '63069', '165096', '33947', '250024', '330512', '315233', '25259', '331174', '407621', '263019', '112853', '383729', '13709', '336166', '143286', '387284', '290003', '370746', '34833', '11975', '426211', '373582', '88845', '456968', '14149', '507927', '73602', '91981', '175109', '390933', '193208', '83893', '243008', '259789', '303926', '410920', '446605', '32571', '74419', '308056', '78497', '111963', '361181', '302640', '356655', '53743', '57771', '420689', '74520', '50851', '176277', '266814', '27897', '189207', '138771', '279797', '177831', '32515', '256842', '95295', '383349', '109791', '332641', '116993', '173126', '187872', '177681', '249006', '314834', '283033', '117084', '49202', '284916', '247657', '313162', '424727', '227557', '431305', '263038', '439979', '443041', '241042', '258779', '66965', '200503', '109597', '503121', '290595', '401175', '169146', '282228', '316435', '248582', '504422', '196814', '153793', '36709', '158200', '410513', '191457', '82108', '157276', '28648', '176753', '8565', '300625', '45429', '65897', '102457', '476511', '7036', '449701', '405140', '42526', '360', '224714', '421620', '209347', '110941', '390645', '429589', '295611', '60877', '351891', '137873', '83572', '138305', '204963', '351642', '184280', '52100', '323574', '17782', '208078', '248015', '451177', '60476', '104632', '165769', '434085', '445456', '182234', '159843', '137263', '95284', '137031', '431954', '59257', '1075', '131027', '48378', '422595', '363299', '262605', '320218', '445628', '387882', '211279', '136589', '417786', '407145', '98988', '99034', '262188', '56366', '444125', '8765', '464745', '382880', '214206', '364032', '332582', '310605', '332822', '122527', '515641', '484413', '10869', '189860', '495331', '229779', '201338', '359664', '289766', '179690', '57408', '16407', '206824', '143396', '52089', '205831', '313058', '452758', '231928', '312998', '54945', '29618', '323013', '372807', '217210', '82678', '151210', '287887', '139971', '394247', '414491', '99649', '433349', '352200', '122070', '117238', '98530', '371606', '386601', '211473', '337971', '88060', '71804', '191965', '114023', '134026', '136364', '69389', '272841', '171041', '134263', '87226', '300644', '53757', '332540', '378226', '19664', '71975', '137727', '472794', '295769', '75835', '53445', '253666', '78195', '514138', '62530', '31730', '458694', '481770', '67252', '235218', '40045', '133992', '101752', '113176', '103408', '126610', '311511', '402757', '75066', '195954', '137902', '466342', '16209', '336795', '456864', '476209', '329752', '265167', '45455', '128604', '429328', '73743', '288266', '170339', '194571', '140498', '409348', '134260', '389964', '17602', '40888', '273470', '183829', '65802', '158312', '236879', '383588', '98007', '285076', '193649', '319720', '101036', '132678', '314281', '62166', '380695', '265953', '216859', '335134', '73335', '357845', '359086', '521815', '494677', '54383', '482954', '8444', '245634', '82339', '70274', '417510', '336955', '49511', '450542', '389504', '116299', '31049', '226959', '432667', '351403', '77152', '243335', '79461', '25396', '461136', '12548', '124256', '117192', '99986', '94410', '63564', '399381', '99073', '20482', '26378', '294898', '319962', '240', '19708', '356639', '449638', '316237', '211581', '288142', '497379', '336724', '238679', '391921', '93808', '169662', '138865', '425992', '315293', '229687', '334290', '335434', '221083', '68452', '465971', '48782', '253341', '467385', '161069', '315376', '330114', '125533', '66698', '95609', '279702', '203500', '277319', '74367', '136265', '23689', '296109', '148407', '141419', '283527', '59000', '467705', '357689', '352781', '152573', '364177', '159942', '90444', '239895', '93989', '168981', '139762', '205348', '91775', '161909', '70625', '19783', '199197', '483179', '127187', '118337', '345304', '404889', '4380', '259088', '286105', '81769', '506630', '395749', '337682', '283191', '107955', '437819', '104002', '326620', '410350', '366106', '196802', '392761', '373383', '144258', '369016', '455881', '127017', '51555', '449495', '401462', '443975', '65681', '219237', '385797', '27099', '457353', '104074', '61037', '122139', '416088', '484376', '118256', '235758', '42900', '14835', '38742', '47264', '413633', '467154', '380719', '180837', '54593', '62794', '291683', '447364', '253676', '115221', '127714', '85461', '13800', '58387', '197962', '195298', '180812', '8473', '77452', '154386', '30398', '140352', '312734', '241905', '64005', '30459', '125633', '119560', '292876', '105146', '147357', '384801', '484788', '95798', '460245', '31197', '36950', '204491', '266513', '326977', '266236', '278836', '104492', '256460', '154298', '146874', '142220', '64701', '167854', '191359', '304741', '280949', '230435', '24515', '475468', '251827', '123934', '257308', '197609', '317022', '81065', '64913', '360467', '58587', '329426', '191818', '388695', '263802', '341593', '424577', '95464', '63443', '200378', '98691', '401411', '13565', '325662', '11639', '413552', '340142', '432871', '221773', '194103', '41524', '109068', '439037', '228850', '448503', '392864', '251550', '453396', '133124', '25046', '136815', '12638', '381211', '178218', '117641', '189312', '289466', '59256', '414568', '152237', '98985', '328747', '85874', '198754', '44069', '276136', '88306', '12313', '114199', '308706', '327793', '635', '225660', '157901', '128964', '482034', '220329', '198071', '45709', '41681', '179663', '74703', '164245', '93048', '14637', '83885', '204958', '186466', '465453', '95569', '51801', '265632', '393637', '353660', '326058', '418258', '291158', '513160', '247728', '71154', '439316', '399482', '118383', '356320', '383670', '20176', '176482', '272854', '158353', '360031', '265578', '19070', '70263', '245850', '269030', '240127', '301905', '193972', '402061', '222739', '98061', '465388', '195998', '21197', '68566', '269340', '90804', '83484', '110848', '173635', '195881', '241196', '350933', '36806', '15250', '158322', '106677', '295675', '242821', '229455', '340197', '87801', '266070', '128167', '64704', '78216', '282901', '233781', '94555', '285641', '18201', '192825', '161798', '115713', '397621', '243947', '130768', '113657', '249646', '403928', '163713', '198730', '41295', '502882', '155815', '22240', '252028', '71358', '152368', '224084', '149818', '515670', '587', '244522', '129710', '343486', '65493', '279465', '90884', '86629', '387606', '312689', '298882', '165473', '446432', '460434', '171343', '54345', '30228', '439090', '262327', '243374', '476676', '292204', '238730', '237228', '15905', '85523', '156107', '207998', '278206', '259594', '102041', '363441', '146177', '423800', '80399', '154833', '257177', '134829', '425085', '98330', '209563', '219281', '325414', '325869', '102321', '57995', '68585', '424553', '84919', '57810', '393801', '278868', '65276', '86521', '212683', '68579', '114076', '296315', '70932', '274186', '40093', '201442', '406784', '71244', '186887', '177713', '364099', '170037', '462565', '503830', '327292', '226778', '220655', '68503', '30099', '217552', '137968', '136927', '148503', '99697', '307564', '364326', '70538', '248620', '318257', '109797', '450425', '174666', '180873', '143734', '39375', '372814', '319842', '240671', '56096', '368489', '33191', '177689', '210610', '405675', '95516', '361971', '370000', '122289', '155198', '195666', '64699', '183935', '158356', '461081', '176025', '53879', '187113', '449877', '34063', '85583', '232766', '139904', '48852', '446808', '367834', '84614', '133693', '32059', '482707', '192868', '53272', '47085', '429393', '248717', '423414', '190403', '483225', '469591', '231267', '285113', '294772', '396008', '153610', '95950', '470194', '6848', '239061', '238758', '32771', '509731', '426825', '443215', '132360', '313181', '131922', '58598', '141047', '222659', '207971', '480108', '75242', '358971', '486320', '16227', '79970', '30521', '138282', '210106', '105108', '140969', '61769', '158243', '390087', '52194', '340327', '124810', '197572', '79497', '102151', '506142', '209319', '214400', '58633', '504603', '190277', '419912', '196794', '229942', '484075', '111309', '335471', '254815', '519642', '465392', '230194', '270633', '457203', '473972', '189686', '51799', '17588', '211765', '190872', '472337', '343596', '227921', '186196', '278031', '426903', '147176', '384513', '103583', '387741', '123173', '217915', '369021', '126623', '38617', '482933', '441181', '49543', '110613', '42169', '409064', '106214', '313366', '333907', '324032', '90708', '171769', '256623', '60711', '221838', '495702', '399476', '171728', '218125', '313911', '119804', '194297', '191490', '74512', '382047', '164821', '337879', '76513', '488522', '242990', '34760', '73081', '208451', '235054', '344733', '186780', '102446', '103370', '457620', '318734', '289227', '308893', '246032', '427634', '135924', '21321', '221092', '138680', '4413', '212090', '140579', '125573', '338841', '97905', '62240', '89439', '505610', '251751', '51412', '97572', '298391', '323521', '203686', '104430', '86620', '381018', '327776', '90382', '259198', '358810', '154666', '288003', '142822', '241286', '6913', '226450', '513850', '404918', '394765', '84616', '348505', '61561', '169394', '74890', '24370', '58245', '274121', '56976', '384502', '363341', '227743', '322018', '213436', '12243', '299146', '241714', '200097', '327496', '190185', '146250', '57208', '169175', '149751', '423301', '73911', '82451', '189175', '399380', '256055', '479880', '235909', '333283', '464049', '329809', '79884', '104222', '316695', '455040', '323752', '272941', '295199', '216504', '104098', '418062', '190963', '133987', '294949', '349579', '400015', '17674', '472531', '336083', '359405', '153467', '131542', '139011', '304619', '320613', '364436', '131972', '337418', '290726', '236367', '69738', '12272', '104309', '39895', '220808', '15335', '245773', '265909', '203423', '397659', '4876', '16489', '147986', '135165', '48910', '466325', '324038', '425059', '512678', '230031', '199510', '160323', '291807', '244935', '308473', '355686', '172164', '208622', '403441', '26121', '23422', '250153', '143879', '438160', '329675', '6517', '43987', '92037', '72442', '166701', '25793', '2771', '30536', '264539', '328774', '374647', '159175', '457195', '52021', '338134', '17531', '214318', '227008', '285449', '468435', '315466', '280660', '337084', '115730', '435975', '188211', '287243', '387262', '232873', '448875', '311354', '145769', '85855', '142043', '356814', '398355', '500230', '209406', '223030', '36755', '364203', '108062', '284546', '375440', '54369', '504600', '102850', '272804', '328636', '233808', '76868', '182725', '261460', '109762', '386630', '298195', '163891', '337545', '254361', '327755', '138090', '121214', '304165', '10183', '31199', '147678', '297707', '177680', '125951', '135101', '140095', '412938', '358468', '138606', '39451', '159934', '244618', '306106', '77009', '144082', '308579', '206184', '382373', '483662', '497230', '19970', '465662', '89629', '269711', '518413', '127953', '58511', '410925', '427637', '463758', '12082', '141979', '256578', '205412', '255890', '53361', '377629', '265185', '14217', '319308', '380340', '37170', '231413', '67039', '228677', '92884', '436444', '45707', '363203', '435580', '246521', '93610', '386877', '98446', '176862', '149561', '156930', '157200', '111321', '185909', '88392', '272020', '252909', '255749', '250470', '206956', '25210', '236900', '255415', '170697', '16220', '286738', '125997', '313920', '20492', '63116', '533571', '120391', '140062', '304784', '288393', '52911', '37065', '14464', '237896', '445091', '294715', '418188', '202748', '231644', '50889', '369386', '263677', '1442', '22706', '116009', '115669', '83077', '121865', '206229', '297985', '104453', '112526', '429993', '453965', '253488', '360371', '391592', '315517', '136957', '330881', '82976', '45213', '68833', '249927', '303412', '290922', '68611', '72373', '355213', '140947', '19823', '150971', '59223', '217437', '72706', '266206', '43051', '370711', '59367', '19726', '88670', '123867', '22917', '56940', '223212', '114423', '50504', '12515', '224785', '354850', '332014', '25548', '18993', '427317', '495453', '258891', '286928', '294205', '42667', '148307', '210687', '157010', '25076', '451490', '252216', '124004', '316579', '379274', '74007', '323214', '143049', '412991', '15727', '124713', '56401', '241671', '123262', '463364', '12368', '38377', '498285', '107741', '294045', '87345', '426628', '153827', '170402', '139612', '338946', '106562', '74443', '10727', '145324', '42257', '387352', '113115', '343493', '360136', '39574', '122193', '428481', '177196', '422216', '388328', '380254', '246902', '26455', '483089', '533575', '117467', '239068', '13223', '430912', '8380', '338517', '118957', '345347', '172973', '338887', '172884', '447194', '477668', '399814', '302898', '62908', '216676', '186130', '266969', '327918', '197061', '384385', '240190', '411899', '311712', '331868', '430600', '228787', '392943', '319963', '107464', '75297', '57880', '143514', '34490', '234274', '45048', '466372', '174710', '115543', '61120', '425657', '356210', '90470', '449461', '19742', '63196', '58885', '175611', '161570', '450834', '359163', '236922', '186055', '402725', '43762', '318156', '330652', '290592', '182231', '155945', '381243', '410359', '17398', '456655', '380018', '76305', '327941', '393496', '343409', '276426', '512345', '253499', '219606', '389129', '300638', '197712', '92298', '40178', '310364', '153538', '145623', '386521', '86534', '375841', '284885', '43901', '230521', '327887', '282197', '301665', '62204', '260298', '23627', '161808', '137874', '18691', '110022', '160743', '288686', '306155', '100908', '321751', '203279', '186180', '108311', '173638', '66409', '34316', '127458', '33888', '178492', '19593', '221913', '188615', '34372', '91817', '536212', '346491', '107029', '336205', '330891', '144789', '113428', '422858', '189781', '410916', '26941', '241903', '70758', '417170', '246783', '21999', '123132', '191064', '83890', '454850', '335763', '30602', '52944', '239800', '322829', '171466', '177786', '121412', '35619', '133407', '82276', '333110', '74951', '503754', '81102', '145441', '362505', '167488', '518980', '415308', '172810', '289075', '182403', '28818', '180161', '39137', '413952', '463832', '300503', '16591', '488873', '71036', '71626', '416438', '113424', '202352', '149534', '351214', '406060', '421930', '467750', '426148', '355732', '271659', '438227', '486966', '64785', '488899', '80968', '491020', '459212', '477534', '358912', '301761', '346405', '414324', '101120', '90326', '44977', '160318', '291109', '463321', '49394', '427735', '104902', '482313', '467557', '36914', '24293', '120331', '405928', '113034', '188316', '181091', '326397', '294752', '28500', '280743', '122546', '276297', '10006', '265340', '475559', '375216', '324611', '330964', '105772', '130601', '254135', '39914', '34510', '162779', '175069', '343368', '312871', '178438', '458666', '16135', '373996', '520410', '373812', '67617', '302476', '215705', '14895', '284767', '257181', '84587', '104934', '337991', '61420', '23552', '241779', '208270', '35615', '231378', '465465', '208382', '218503', '255261', '338522', '172477', '170179', '219324', '102172', '388206', '285688', '452150', '224817', '111712', '223204', '225997', '52588', '24616', '483594', '371798', '280309', '92781', '95633', '88775', '483174', '229306', '168025', '105889', '316075', '210428', '497537', '393898', '204483', '88462', '376541', '281522', '136378', '267386', '378913', '55222', '440998', '45502', '74082', '92964', '327382', '386436', '50719', '15345', '55918', '76491', '287813', '271426', '139317', '261747', '421543', '172692', '367603', '155104', '135639', '132704', '389577', '69250', '410949', '333880', '391593', '391362', '213943', '277843', '230876', '375749', '213657', '498203', '288603', '389420', '438091', '197474', '374036', '323697', '323737', '213662', '49061', '101447', '343192', '192179', '85227', '350141', '86378', '136038', '73452', '58976', '256914', '48452', '20843', '86701', '245778', '383180', '202923', '271321', '190643', '218947', '458584', '61753', '356603', '410256', '217959', '54984', '227511', '533923', '356614', '257376', '324172', '88410', '18078', '234216', '188692', '43410', '137398', '90947', '254761', '433392', '443686', '384875', '302367', '202719', '167637', '380398', '468127', '180004', '279773', '149098', '340761', '102177', '171080', '90423', '234369', '114670', '174570', '333216', '173200', '369125', '147372', '391244', '88642', '413301', '150444', '67676', '316763', '167202', '390444', '125438', '141506', '86712', '179328', '88667', '278787', '373788', '284640', '283845', '280369', '260027', '34398', '50423', '65459', '358565', '398858', '96177', '368300', '336202', '317876', '207112', '41223', '418170', '72585', '117548', '272064', '161739', '242491', '16692', '72480', '247936', '210213', '293168', '98761', '361100', '225213', '101967', '136291', '279520', '12141', '22104', '494369', '77903', '47237', '28558', '90248', '350901', '175785', '326251', '228914', '185321', '425601', '90005', '258100', '120742', '181477', '91407', '80067', '36349', '71450']\n",
            "3 ['67664', '118843', '147477', '367987', '216068', '375362', '367828', '286484', '27060', '121712', '53353', '291409', '160494', '505748', '137187', '111559', '23613', '317681', '223242', '504956', '63907', '246579', '366021', '354751', '460069', '373269', '189127', '240135', '4205', '243909', '202414', '117542', '39189', '314777', '316673', '477848', '256689', '197284', '279302', '245792', '464367', '188540', '125915', '85354', '88978', '264064', '160902', '5197', '227191', '147791', '411505', '79749', '334186', '374277', '355173', '230530', '275663', '272034', '89021', '61297', '260930', '326743', '209058', '154255', '66022', '277459', '288624', '356161', '424837', '174273', '174274', '380641', '7841', '467378', '69539', '176085', '476635', '471921', '187347', '285826', '304396', '480525', '158999', '209879', '484256', '87155', '92096', '174425', '199548', '417578', '326076', '173235', '109866', '425400', '316766', '397529', '273854', '429284', '405042', '256036', '48279', '2866', '247330', '117230', '24572', '156441', '140648', '5006', '61779', '7397', '286813', '195336', '514820', '89453', '228169', '35199', '109267', '347092', '374964', '369209', '184910', '349456', '12276', '142258', '420640', '175723', '391030', '253665', '211806', '128013', '62902', '37056', '420610', '105811', '134206', '360201', '175958', '219761', '375050', '10005', '102185', '79233', '40999', '102815', '36315', '241052', '171380', '304615', '376363', '239498', '384789', '255144', '188823', '109123', '249336', '36256', '445597', '27928', '248337', '57924', '396461', '245066', '184921', '101968', '9177', '114588', '182723', '66', '41090', '294082', '33847', '15601', '470641', '24970', '169574', '364945', '166022', '402871', '281101', '386195', '259627', '237000', '317938', '132359', '176027', '460892', '50307', '139049', '59614', '65204', '49602', '118248', '454111', '93449', '77702', '19529', '28365', '88938', '42750', '265432', '94269', '114168', '239613', '462875', '45008', '253526', '183133', '210321', '220537', '201591', '44289', '308163', '77413', '288410', '50676', '276622', '175364', '430486', '288565', '430334', '322729', '293134', '34557', '208675', '284296', '331627', '54269', '159961', '256026', '36754', '475008', '149217', '233189', '171391', '231995', '72895', '52665', '426504', '21618', '504766', '232770', '36744', '395838', '44935', '9520', '245728', '292945', '266082', '202021', '81937', '264214', '167917', '95453', '481894', '48463', '221387', '501188', '417004', '361978', '108471', '329624', '351829', '26732', '90567', '109718', '81360', '233314', '265442', '255511', '143616', '445132', '259382', '308140', '232848', '213506', '21024', '124189', '206981', '192281', '383870', '205779', '195066', '276832', '383058', '87903', '140586', '411250', '150642', '123889', '262070', '214040', '138972', '172858', '304092', '152781', '193704', '231367', '361143', '135753', '337857', '121019', '471606', '326554', '439418', '333403', '307608', '62236', '308156', '376022', '211242', '459764', '53633', '288854', '407907', '30215', '129533', '171832', '200577', '194278', '241058', '264043', '301544', '504480', '65994', '47251', '464145', '279904', '147397', '67660', '284495', '77640', '311758', '379059', '8791', '44124', '424128', '395533', '315822', '322924', '258307', '383', '263381', '505534', '188719', '228995', '302151', '129063', '99843', '152327', '130012', '400873', '391413', '48799', '44205', '394897', '397330', '504718', '268671', '139619', '427081', '456796', '24415', '39025', '229012', '358188', '222037', '75988', '94042', '467299', '198950', '171610', '307217', '87049', '383412', '136659', '110178', '389682', '126995', '381946', '222156', '223303', '72474', '56009', '27678', '13890', '87521', '234891', '309276', '397772', '291170', '126969', '108030', '305214', '419219', '216112', '324738', '99278', '401574', '190948', '438046', '26216', '149282', '481317', '50988', '386538', '69162', '415829', '182648', '113333', '282711', '236730', '408771', '209891', '220661', '73263', '42719', '147952', '211383', '191538', '75800', '184846', '43677', '351219', '124818', '474848', '95575', '218664', '281936', '79626', '2405', '460436', '79074', '54517', '172798', '280812', '193078', '318829', '7542', '4098', '427790', '420194', '110483', '315107', '22097', '422820', '455496', '143816', '458710', '489800', '153952', '304991', '126423', '175149', '32931', '243370', '4724', '154685', '20305', '153979', '142655', '114766', '222979', '191772', '103837', '161408', '244211', '106992', '49896', '281673', '44241', '108527', '109318', '107068', '51774', '89071', '421884', '140482', '24105', '280219', '485745', '130687', '44794', '3158', '137667', '258464', '306454', '402469', '181201', '274976', '48133', '52141', '116244', '355982', '294442', '184443', '405195', '123476', '418909', '320502', '48364', '115289', '318927', '50927', '314819', '312034', '145824', '424920', '45550', '127354', '245080', '428549', '374760', '229508', '32286', '154179', '339046', '217162', '10853', '34744', '437654', '295426', '269910', '143925', '267369', '266884', '226159', '106565', '26198', '444430', '475719', '290479', '27609', '481325', '362641', '199216', '298851', '273863', '17088', '39224', '261183', '470964', '501007', '82277', '386816', '138224', '70655', '294154', '307405', '110923', '195387', '68038', '166735', '52572', '3271', '252928', '273190', '121235', '458915', '377978', '341808', '278998', '25290', '317066', '230532', '52236', '59364', '364643', '189329', '11941', '35105', '49295', '135084', '224097', '23439', '472571', '277781', '442235', '364168', '253229', '281726', '254508', '120679', '156169', '60624', '65206', '101117', '508443', '502613', '423992', '114821', '220267', '191758', '164212', '260668', '443461', '342762', '422601', '24906', '35399', '16559', '125183', '138050', '209310', '222839', '20365', '428768', '41202', '87905', '204740', '228455', '206762', '87174', '319012', '107387', '70096', '194647', '22728', '401110', '143873', '252076', '171543', '241651', '53092', '279981', '159409', '104368', '129894', '462145', '208328', '262408', '440371', '463903', '365943', '360644', '168136', '52953', '36409', '232119', '513886', '120400', '182477', '66258', '227485', '389738', '28140', '311141', '92803', '330156', '146979', '51265', '492483', '74977', '368078', '487741', '347763', '295104', '273841', '121415', '107886', '7786', '105296', '100955', '267105', '88138', '68336', '81765', '5245', '427563', '166274', '98358', '444483', '361116', '6665', '186674', '322972', '317323', '257905', '139032', '49206', '60853', '186204', '49197', '67741', '30726', '134534', '136483', '232859', '79003', '365796', '105671', '426851', '34837', '216028', '451071', '100733', '1878', '442923', '330865', '459458', '83222', '61610', '291695', '83498', '293002', '45804', '323547', '82770', '307634', '437982', '40209', '315908', '41337', '97765', '60689', '368871', '387932', '51126', '111982', '376642', '500258', '390218', '341514', '238867', '238865', '75883', '73201', '203480', '321787', '199634', '151574', '345459', '204187', '89207', '213600', '214123', '215653', '393666', '470687', '144869', '317656', '171514', '436682', '98626', '39497', '419326', '102812', '384077', '369967', '270295', '5454', '154362', '40125', '44742', '171898', '40972', '239993', '370779', '243071', '1590', '70146', '55669', '65804', '340485', '91419', '216061', '271384', '184139', '322902', '477707', '97921', '93339', '213975', '54245', '473508', '274329', '123922', '126570', '511787', '480482', '319060', '228449', '395265', '65193', '286380', '109146', '359626', '317408', '52276', '335978', '37989', '277194', '21835', '31259', '4530', '99643', '486171', '504548', '87265', '109978', '95907', '253661', '122725', '196443', '64632', '408025', '239942', '267637', '52732', '139129', '375148', '28732', '249800', '168223', '69205', '235769', '188336', '337526', '12469', '494131', '251980', '251057', '100568', '37252', '53503', '443050', '89074', '68320', '171731', '205429', '209666', '293373', '154514', '427706', '157542', '429438', '427892', '452871', '84465', '272286', '277390', '107044', '145220', '292631', '28297', '199757', '125021', '113971', '460107', '108784', '232506', '232903', '188060', '327788', '57733', '293675', '466197', '471153', '314012', '175181', '204913', '226456', '221102', '213421', '170147', '278872', '418875', '134234', '346757', '267755', '258852', '136079', '37897', '112866', '100388', '110818', '243900', '221120', '415599', '483719', '65591', '493140', '48851', '293318', '302769', '35721', '225006', '155847', '146601', '323886', '186480', '50692', '445457', '342163', '396360', '34277', '19298', '67113', '163847', '177127', '234962', '470504', '386886', '378972', '232162', '259779', '464622', '223798', '131122', '280367', '372130', '214134', '118438', '55034', '327903', '51879', '216412', '80860', '69706', '15616', '213529', '332766', '156322', '99876', '179248', '119828', '271016', '300803', '140092', '298675', '225681', '105170', '191949', '397218', '309496', '394908', '10698', '153785', '235279', '337017', '348292', '231059', '314337', '152733', '224730', '172543', '121245', '353331', '330263', '410880', '79834', '12561', '46901', '57968', '41238', '227007', '17920', '168181', '32846', '435537', '54570', '26650', '169948', '100227', '73233', '149843', '101781', '211220', '321853', '26039', '309958', '262625', '340608', '263600', '199859', '401488', '321124', '187765', '301070', '286635', '306851', '347526', '458903', '56149', '288279', '330564', '363391', '333688', '325742', '3620', '179001', '410078', '415249', '47603', '441070', '178573', '178445', '188705', '62705', '366852', '21905', '359420', '83441', '16278', '114495', '494433', '226895', '92010', '93133', '308433', '288082', '423136', '13882', '301500', '100857', '108161', '250119', '128252', '205280', '359141', '192646', '130629', '256675', '372774', '188648', '320501', '141730', '82916', '210200', '120949', '306275', '79189', '50951', '285731', '304014', '368608', '369892', '457487', '370497', '236576', '468254', '477477', '63890', '53849', '316029', '50501', '109516', '105387', '270664', '42846', '292436', '127749', '287685', '42281', '441096', '81549', '241220', '24820', '189562', '403404', '270576', '220292', '78095', '317670', '72994', '236129', '40923', '26819', '157071', '98809', '327391', '253201', '69365', '431047', '175508', '105745', '87195', '85199', '384204', '322111', '394519', '94997', '27321', '111928', '480183', '415834', '277077', '272039', '125841', '440684', '471959', '178809', '335168', '350552', '17560', '38443', '128814', '118085', '217981', '93946', '241558', '12000', '98296', '71351', '321075', '151524', '32394', '82731', '355161', '266147', '511827', '191119', '454025', '302912', '358765', '145067', '259640', '139500', '286654', '184011', '427339', '97070', '131693', '481901', '295885', '226271', '246733', '258917', '40058', '280805', '47015', '146290', '128594', '254294', '60003', '133013', '224096', '410657', '379394', '118226', '132991', '320540', '396506', '68634', '85308', '413437', '51249', '290437', '379813', '204100', '59249', '246588', '314677', '132347', '164425', '251753', '107465', '379033', '63901', '216155', '207278', '263745', '454114', '284302', '295226', '175792', '313991', '290513', '252440', '364211', '98356', '17971', '96256', '263563', '95238', '333028', '400953', '93439', '177649', '17326', '399376', '264554', '32789', '262144', '166819', '222022', '60810', '459984', '374980', '458411', '182730', '258308', '112040', '454995', '292392', '222211', '271738', '231444', '368906', '445814', '323240', '287053', '334409', '96061', '35993', '69867', '102028', '454080', '43431', '117434', '189003', '176624', '314335', '27595', '472687', '86959', '242983', '1129', '483826', '136299', '29690', '425778', '149837', '154215', '21091', '209952', '104724', '221105', '125863', '290012', '108923', '77087', '176432', '196786', '29105', '248852', '154827', '332787', '10876', '37296', '29462', '26405', '121956', '156394', '65611', '302638', '391027', '104727', '313153', '71643', '31608', '96181', '407912', '259363', '265904', '122239', '49883', '188306', '74359', '402059', '216894', '294985', '479060', '69693', '185141', '71090', '224112', '368627', '115559', '123157', '343340', '264022', '354290', '76522', '423451', '33930', '424013', '384786', '413521', '137896', '294736', '259319', '66842', '202642', '179191', '293804', '200793', '128636', '70819', '221261', '144139', '319897', '101334', '99587', '42038', '17278', '302547', '66352', '146609', '34443', '214672', '329503', '28633', '257094', '281213', '139201', '180164', '241348', '300565', '474690', '230776', '378033', '145160', '105976', '270263', '24735', '37550', '280807', '38426', '73658', '110422', '252296', '251306', '341677', '146824', '403051', '167546', '76693', '221717', '194279', '96976', '77989', '234529', '92363', '11952', '338824', '122066', '193390', '331038', '17418', '202576', '10597', '299977', '400154', '439968', '29721', '351734', '233507', '480229', '13489', '198618', '318635', '34130', '27443', '131109', '289291', '372105', '305534', '297455', '188631', '259616', '196299', '125967', '321775', '486800', '51688', '216892', '343107', '242033', '82226', '218211', '68410', '267765', '163146', '387339', '465234', '37688', '390619', '135660', '294893', '239459', '367416', '407449', '345941', '502983', '98219', '126729', '219503', '386341', '390531', '315737', '459490', '26078', '461568', '237613', '280815', '281281', '228762', '229531', '206317', '131623', '208757', '314744', '296837', '203131', '195820', '123835', '331394', '55535', '75064', '213746', '168557', '332444', '100062', '210807', '301888', '258352', '398336', '313528', '215409', '221764', '173961', '124377', '84239', '71400', '63973', '221263', '414348', '109436', '171091', '200350', '498523', '518670', '343767', '207159', '402257', '57980', '41095', '320622']\n",
            "5 ['38798', '69190', '125195', '306590', '77380', '378067', '218671', '453243', '101260', '416599', '274469', '79826', '234120', '394191', '448832', '15541', '21629', '50854', '486851', '298089', '149966', '22567', '446600', '243425', '14873', '377658', '392262', '21360', '300355', '398090', '25020', '320973', '493636', '301164', '301365', '21302', '425294', '181765', '462351', '123758', '238000', '186631', '379357', '383147', '160696', '15086', '335876', '15869', '12441', '190394', '49648', '248926', '180696', '357968', '32550', '179128', '407377', '37152', '40858', '247103', '123753', '187678', '65729', '25947', '343461', '293713', '434512', '39398', '246286', '168017', '130409', '213724', '94187', '154964', '382269', '55718', '484942', '171628', '40478', '378468', '449725', '521251', '203930', '87202', '22949', '95211', '176730', '493256', '206772', '425118', '88039', '480684', '406507', '431875', '233971', '136720', '479203', '43123', '175009', '313101', '80418', '428016', '359058', '387542', '372621', '471259', '210250', '160251', '222066', '35874', '210978', '290294', '390089', '93775', '235297', '319864', '378143', '276454', '364119', '301593', '327398', '303491', '183673', '383425', '127099', '302737', '24950', '79633', '289255', '263232', '340656', '11382', '41474', '133631', '47444', '169147', '303938', '392356', '84822', '81021', '468398', '34244', '427745', '2056', '189716', '169364', '456051', '211299', '504083', '108227', '194303', '59727', '18324', '39059', '39370', '114011', '70115', '102171', '477587', '148365', '29731', '412061', '471658', '220408', '336690', '313351', '442276', '49860', '249976', '53204', '422466', '14228', '393533', '372390', '352', '9978', '204780', '399315', '97494', '396396', '201463', '31446', '381746', '43452', '96127', '34484', '141421', '167513', '160570', '62193', '111535', '185611', '30118', '218674', '25415', '245022', '11705', '484315', '436590', '122887', '266316', '276874', '38672', '356742', '256822', '248007', '53404', '206266', '138017', '8151', '111477', '202413', '204578', '151739', '416979', '55095', '398304', '56761', '223621', '424513', '316232', '321147', '30773', '77965', '441933', '155998', '152411', '178954', '286110', '163014', '64820', '424632', '455376', '272413', '17853', '131261', '374312', '156332', '412992', '516952', '236834', '95122', '59407', '323195', '205758', '453425', '107308', '177386', '157807', '299478', '62303', '379482', '167118', '21131', '147564', '164317', '312054', '306629', '181596', '216365', '245744', '353181', '104062', '107515', '91164', '299149', '269705', '83141', '160147', '235666', '300279', '54526', '396623', '113229', '168737', '109801', '287331', '251821', '176875', '379044', '413270', '151163', '322599', '48492', '229065', '220558', '434495', '124388', '150028', '136466', '24039', '47755', '22850', '84707', '57051', '152029', '340432', '167906', '465121', '146942', '151072', '272456', '339569', '47064', '87147', '170929', '40279', '216575', '317072', '92022', '23696', '128588', '88503', '397154', '192293', '130178', '503295', '213941', '249499', '374643', '153569', '452256', '307684', '479461', '373728', '373369', '111469', '466159', '208099', '522311', '39718', '211648', '60741', '357041', '351913', '318807', '159378', '176306', '324740', '287380', '258985', '255327', '177600', '340941', '93557', '469055', '318295', '383502', '169856', '27978', '35668', '87548', '178603', '434140', '185025', '338767', '333243', '433836', '225056', '128440', '79414', '281473', '372858', '146481', '60846', '503298', '149176', '316299', '272468', '433417', '164660', '415430', '24911', '138971', '263659', '225717', '189741', '110805', '24740', '286991', '208798', '179280', '44507', '33284', '20587', '334927', '45180', '29028', '83526', '161799', '259941', '11717', '227387', '51530', '458158', '55512', '43136', '199785', '393609', '20513', '371990', '420713', '462621', '25516', '291577', '197686', '279967', '205915', '217854', '77804', '341952', '232842', '233475', '215887', '336463', '257014', '253885', '122758', '220645', '23380', '224221', '186687', '103259', '161118', '144042', '326296', '196763', '147095', '222106', '500819', '24094', '102591', '369110', '82503', '333820', '471484', '287544', '21224', '223680', '19518', '154254', '12782', '24306', '428423', '93442', '191561', '460231', '332056', '445244', '498562', '56830', '92973', '166896', '137839', '187987', '302923', '410719', '300958', '508714', '91887', '98566', '18070', '456782', '249684', '57056', '336796', '37968', '18540', '252134', '189788', '259191', '193877', '257319', '417848', '374107', '12830', '319477', '244483', '190935', '119055', '367592', '367004', '98037', '121306', '166556', '35038', '89081', '85678', '264143', '214639', '10932', '43905', '406062', '50596', '71896', '54615', '387', '91925', '321256', '154820', '245671', '82646', '36890', '251093', '389592', '115057', '71620', '47548', '347833', '218616', '65951', '318336', '282490', '42453', '217173', '241809', '275739', '120981', '167295', '16380', '13177', '342759', '76215', '489962', '80419', '27426', '350099', '328556', '464587', '379355', '517878', '195442', '399702', '226274', '50125', '449302', '333246', '24565', '263709', '167608', '218924', '38319', '56922', '11879', '315921', '330463', '15003', '152660', '152300', '89769', '367184', '72844', '247306', '160210', '61461', '43824', '165312', '50103', '157952', '205230', '163967', '276764', '172219', '28225', '278847', '68197', '33886', '315377', '68599', '148409', '467039', '248077', '67017', '340895', '246308', '153948', '133320', '422172', '202461', '442463', '22201', '216322', '112187', '166560', '57908', '234444', '393286', '15148', '39173', '49125', '23264', '50718', '304402', '261047', '479380', '243871', '489959', '227753', '17118', '200872', '413711', '236579', '141636', '27063', '174857', '255425', '75621', '17941', '55739', '58286', '104165', '280223', '29268', '100967', '203153', '47662', '263453', '342357', '78788', '104422', '211829', '190910', '171137', '140056', '232399', '118116', '192019', '48067', '85042', '238050', '425183', '281075', '349166', '225164', '34903', '70180', '242700', '189802', '83609', '66060', '113385', '84997', '262889', '11407', '236365', '199138', '104070', '298696', '46116', '204569', '127128', '145779', '362346', '173869', '415808', '56805', '250840', '4691', '225239', '221324', '443943', '468228', '28111', '154562', '119357', '366688', '248771', '222435', '39734', '458326', '89272', '301754', '473459', '279757', '322948', '151483', '76994', '98305', '240443', '198521', '150399', '125971', '363286', '244608', '16531', '15836', '32958', '520656', '283945', '188462', '252852', '218489', '99588', '517313', '24420', '17131', '118018', '311307', '264739', '101516', '289922', '179826', '324212', '360132', '444593', '509140', '263253', '345915', '112451', '8928', '14293', '369453', '220520', '319044', '506665', '18964', '516384', '391104', '97401', '355495', '33715', '68218', '250053', '377646', '324518', '353741', '26461', '116144', '36488', '47427', '264517', '82179', '119848', '68450', '330915', '144541', '461205', '271297', '64209', '297222', '268200', '91977', '153730', '328567', '304340', '136123', '32576', '12845', '458528', '166290', '240321', '102916', '453488', '471226', '111925', '57763', '109091', '120015', '34194', '98680', '392727', '411844', '508912', '278429', '199778', '296783', '193559', '438608', '277747', '272778', '230379', '1662', '114409', '118197', '25034', '219867', '313604', '453561', '317638', '485836', '21166', '213980', '69809', '90692', '64771', '84749', '511805', '449347', '225670', '33571', '15075', '301204', '214987', '242396', '88338', '384272', '469496', '259008', '51382', '243222', '227787', '104012', '469036', '51055', '375848', '364626', '148188', '428818', '112277', '173481', '125586', '95891', '76038', '106157', '109834', '117657', '63088', '487501', '360431', '214234', '133150', '229852', '139603', '85805', '471535', '41938', '194464', '80390', '311584', '472454', '280393', '164545', '413510', '219159', '265318', '32684', '56765', '165311', '395880', '260053', '65816', '424437', '174932', '297901', '172801', '281920', '10487', '217013', '187834', '391101', '98511', '142981', '328837', '127038', '73495', '92048', '324561', '373426', '266239', '85323', '32544', '30234', '258312', '162919', '185525', '83030', '79865', '192848', '45584', '305020', '221832', '44199', '54000', '412915', '367624', '14533', '71265', '357274', '498083', '289675', '13610', '172536', '102851', '144185', '269710', '306248', '415398', '276549', '36200', '71653', '93900', '239976', '376802', '87955', '492243', '7120', '472497', '469380', '173552', '286405', '25157', '280107', '383346', '37439', '204142', '124671', '362090', '229483', '436329', '115446', '68451', '429138', '32586', '424386', '489589', '489590', '125535', '310637', '528002', '294059', '174337', '51862', '368762', '135339', '119969', '116953', '176150', '171485', '328711', '45992', '132476', '396259', '400271', '318572', '376910', '165014', '424023', '254718', '38435', '69526', '101953', '69499', '130559', '347911', '206086', '29365', '19009', '279696', '93124', '161055', '338489', '27889', '284450', '363059', '320664', '481925', '297988', '179605', '461329', '25060', '19544', '41599', '224458', '415374', '31987', '20551', '73003', '314112', '287041', '31003', '138105', '122884', '285984', '22088', '177230', '324237', '160507', '33260', '243612', '242235', '183232', '85884', '145126', '38913', '497505', '349190', '203507', '367134', '354311', '129997', '263203', '295376', '325321', '362842', '353899', '218701', '373358', '340411', '493838', '1975', '219027', '204930', '306031', '284452', '213489', '63560', '223779', '51058', '226286', '281030', '74060', '103273', '17989', '81060', '174859', '286288', '61277', '306090', '187052', '110847', '71528', '149360', '126458', '39317', '23229', '86030', '286498', '22870', '17846', '96641', '271379', '234944', '158363', '397117', '29179', '236178', '306224', '283108', '115132', '164066', '33927', '239521', '362450', '365972', '120815', '426944', '173417', '188551', '232556', '123851', '326294', '356401', '38762', '177314', '59023', '69849', '401892', '334664', '129011', '191547', '76026', '111303', '386401', '239592', '21220', '226478', '361021', '171126', '427761', '360543', '9454', '192730', '129146', '216634', '21793', '172720', '59839', '41231', '375522', '57346', '188845', '1630', '18935', '99750', '236944', '93078', '21750', '311280', '137515', '119540', '192207', '337490', '21717', '482082', '254185', '33103', '321597', '127670', '505179', '363298', '432285', '150497', '319063', '304423', '20721', '61345', '245510', '97739', '155327', '71927', '392146', '202744', '64994', '341893', '234649', '473821', '93244', '42247', '236259', '427603', '21760', '291096', '75692', '425466', '376622', '58713', '417530', '295096', '229742', '76979', '159994', '174155', '290376', '295541', '100501', '65783', '80301', '347991', '475201', '97368', '112581', '104539', '394067', '387420', '354318', '408855', '71439', '310629', '134466', '17874', '218617', '397629', '246947', '237302', '502950', '272293', '78833', '468818', '88632', '60030', '321026', '26773', '173646', '44950', '480075', '89217', '302631', '286157', '463852', '32232', '241506', '116906', '456111', '384517', '179889', '29636', '198790', '277181', '54852', '216688', '216194', '457550', '109570', '409899', '52634', '169400', '288062', '21542', '497443', '406586', '224199', '290755', '150320', '190466', '246888', '138699', '12839', '91780', '131107', '114565', '349301', '211823', '1660', '197963', '264560', '136774', '239724', '97213', '262832', '95953', '197843', '243869', '300782', '105930', '59929', '54352', '297370', '179207', '267776', '150141', '276068', '93848', '366922', '334156', '256298', '396475', '44575', '302812', '477147', '489946', '298369', '178493', '51468', '50128', '48651', '87541', '337210', '330161', '148982', '23375', '118819', '249878', '108384', '285261', '97601', '68644', '241336', '29609', '34667', '243510', '156392', '370765', '144371', '256760', '350157', '52706', '45735', '65582', '290645', '84807', '423151', '47666', '374627', '245226', '108930', '72398', '399580', '75774', '124747', '86683', '475007', '65252', '163304', '410273', '284269', '173648', '468849', '142201', '16961', '391280', '193955', '58793', '106832', '182125', '367051', '140516', '428324', '193088', '201257', '357470', '361865', '134693', '167508', '358871', '55506', '182140', '80703', '113423', '308905', '241095', '368157', '480635', '254624', '279980', '68642', '325863', '157478', '520673', '262526', '376854', '41860', '385889', '467187', '113311', '162106', '481365', '415803', '133912', '449515', '472234', '498944', '47982', '222275', '75577', '225390', '199090', '171663', '110749', '422168', '454154', '154886', '177908', '108412', '315546', '410749', '136566', '332901', '231028', '349952', '244201', '51927', '256148', '104845', '272669', '408836', '199850', '221301', '50375', '94338', '232609', '390731', '60502', '506326', '25769', '361115', '289786', '405690', '372551', '290436', '251962', '27699', '91568', '208055', '401824', '199555', '137962', '309754', '467868', '460133', '499599', '128109', '188162', '61425', '332827', '43939', '173837', '217774', '147831', '24217', '260692', '119106', '79192', '317067', '417411', '392188', '356631', '421539', '131024', '217122', '48446', '81352', '57820', '391506', '321000', '109811', '455083', '170286', '107437', '221754', '54310', '298263', '435039', '264216', '154567', '11170', '251152', '270991', '318596', '298009', '383403', '142504', '390169', '94211', '293528', '316152', '157235', '202679', '236510', '270510', '214907', '322116', '201026', '197582', '289860', '106108', '90937', '391186', '2386', '445739', '112912', '324109', '184294', '176926', '176290', '30079', '382819', '368035', '358163', '226606', '218137', '103399', '125590', '340565', '50271', '200559', '101862', '360259', '26222', '310687', '48198', '241620', '341573', '491878', '23083', '42137', '496257', '188222', '414808', '475667', '419630', '363283', '114359', '49652', '368462', '60285', '294547', '343361', '52869', '29315', '321182', '24124', '81445', '463773', '66989', '22847', '193340', '247469', '195504', '27947', '464019', '216084', '209035', '189148', '61479', '220747', '174164', '386251', '385101', '339134', '120602', '420010', '413122', '209791', '290471', '251138', '458644', '234975', '174157', '446578', '373071', '223269', '220175', '231922', '378876', '295737', '159427', '258029', '286041', '372270', '28387', '35084', '3731', '175841', '274896', '390811', '40109', '139921', '207036', '426647', '365348', '37660', '275279', '32176', '33268', '27741', '380183', '286053', '246547', '60551', '2519', '158332', '332586', '393143', '154587', '102618', '32142', '155108', '245025', '336523', '428110', '67709', '170241', '153967', '428715', '281129', '76429', '377405', '305140', '115239', '11006', '20359', '11914', '339704', '107418', '127906', '388107', '26598', '34024', '326264', '350622', '17620', '162661', '161620', '106898', '305659', '334426', '181857', '212671', '455578', '327006', '428023', '170296', '394713', '177576', '53807', '283723', '458545', '423115', '181072', '302861', '16598', '279864', '169855', '153847', '472158', '148255', '263548', '279896', '219907', '445590', '433706', '185188', '69537', '223029', '101424', '206854', '317186', '245811', '478156', '366589', '123782', '441063', '204341', '173178', '310071', '19132', '158331', '240184', '203021', '7850', '363102', '43946', '272809', '165155', '216167', '261462', '253476', '181375', '115375', '16971', '385996', '94963', '293960', '2804', '385475', '60464', '43440', '206958', '108055', '408019', '350787', '161466', '210107', '132831', '352187', '240333', '334895', '79707', '418761', '18337', '25453', '99869', '108598', '86946', '213985', '87786', '56811', '218306', '301537', '444807', '248323', '75646', '345232', '34327', '460690', '450373', '314985', '24878', '203322', '399575', '165815', '211776', '84141', '12954', '138197', '97996', '161264', '125625', '501348', '290119', '121858', '279777', '57813', '162609', '457976', '185856', '292628', '163977', '427667', '118513', '369688', '465992', '288570', '163456', '210246', '372731', '338179', '166772', '80679', '379621', '304558', '11702', '312160', '467922', '367939', '196175', '117250', '160538', '184432', '171378', '20749', '7974', '86359', '10975', '9728', '89909', '195505', '183073', '260966', '90887', '26764', '188204', '95353', '217554', '223934', '324713', '332398', '380069', '105808', '479419', '303895', '72478', '370470', '294822', '192870', '205778', '22843', '143922', '246264', '129454', '65677', '40811', '135437', '242871', '261611', '201866', '272332', '105193', '21349', '97786', '171892', '309104', '131497', '441587', '85687', '288165', '66019', '191501', '352144', '196200', '116927', '217583', '361792', '11315', '322546', '467097', '157430', '423165', '221433', '246011', '179608', '31698', '44253', '215605', '135505', '94659', '16389', '219008', '364299', '281209', '129588', '85195', '321271', '398894', '193357', '98317', '325943', '354569', '203386', '291698', '34628', '223783', '194960', '24499', '364017', '144670', '74878', '138436', '456546', '137188', '474429', '76546', '338055', '154757', '193583', '308106', '191839', '68202', '509423', '398210', '518221', '130300', '53730', '152218', '260073', '195444', '60425', '94265', '91021', '407694', '215698', '18584', '249148', '405561', '125061', '44998', '299476', '245415', '418697', '143203', '78011', '258520', '260295', '254774', '374887', '243642', '123528', '96117', '9347', '408712', '486300', '129359', '501927', '42296', '50681', '56223', '406018', '476829', '204646', '433993', '165017', '301741', '362382', '262967', '307164', '142062', '240093', '321805', '62820', '423824', '284049', '204553', '89652', '435577', '34756', '99261', '92548', '18139', '182447', '30213', '266176', '329106', '422363', '317026', '241464', '61088', '127780', '48640', '345103', '80170', '475663', '175653', '325717', '418616', '97514', '18944', '13088', '136983', '31322', '139723', '379273', '349470', '177822', '57492', '202429', '376636', '201379', '447016', '109761', '307245', '408339', '15960', '144642', '100856', '39763', '77522', '23080', '334964', '321223', '193744', '170046', '51092', '84145', '192008', '51030', '38650', '195577', '51193', '491353', '191883', '104301', '450478', '97724', '376781', '381050', '101515', '245348', '13280', '242758', '401595', '56933', '378684', '59127', '177434', '515167', '169770', '19257', '91255', '299888', '251182', '88025', '197017', '409893', '426165', '112105', '164387', '408525', '379031', '208191', '51580', '60303', '133208', '69243', '55826', '260988', '252246', '409840', '461149', '180731', '170330', '439920', '96517', '186900', '146121', '107004', '124600', '98450', '14924', '38019', '442924', '234243', '376630', '166006', '372637', '308947', '309678', '411666', '433294', '419185', '313115', '299931', '160967', '169472', '130100', '229697', '309164', '306134', '437942', '10112', '26017', '100103', '69493', '2622', '369442', '419755', '328632', '358957', '43563', '223417', '104334', '13366', '72642', '209675', '261629', '302204', '95661', '176586', '155753', '101248', '183670', '333983', '254860', '100308', '383399', '92158', '38618', '211747', '182596', '104231', '49576', '86772', '70556', '28433', '221322', '19453', '72428', '245119', '274395', '309990', '70994', '225392', '443273', '457750', '27084', '30205', '188982', '448585', '23753', '435598', '139270', '62919', '193505', '108644', '84024', '93488', '169088', '67941', '177328', '83935', '133077', '60744', '435785', '338128', '311233', '359001', '164124', '319460', '316033', '66421', '12132', '78132', '194209', '322796', '424017', '62781', '27205', '114415', '319214', '332871', '123336', '468558', '71103', '37088', '275631', '109796', '22250', '332221', '250708', '150861', '202181', '284412', '80617', '290681', '411098', '41397', '76553', '152841', '527534', '146871', '81856', '75711', '476699', '103947', '365945', '83894', '185106', '366672', '247929', '341126', '428634', '439460', '321897', '96336', '187557', '227091', '78533', '272622', '54768', '99799', '107180', '431612', '32784', '58608', '267893', '119081', '45770', '100172', '188755', '362805', '4048', '354701', '458298', '341097', '455391', '98560', '48291', '12563', '45755', '147645', '87811', '193983', '151645', '275437', '278914', '220088', '414897', '29827', '50777', '236147', '65357', '449342', '180364', '385793', '17226', '176626', '20244', '26468', '217048', '281663', '26824', '19976', '199049', '420944', '230949', '105535', '188180', '75021', '30556', '214231', '288', '205780', '42525', '377797', '63693', '284', '15584', '234730', '178125', '106366', '61814', '314553', '202187', '97308', '135839', '115387', '172940', '372114', '407672', '386854', '34564', '259096', '218428', '339709', '339217', '73942', '17642', '355803', '358952', '69710', '172610', '502385', '357177', '42820', '184943', '58283', '104581', '296087', '122377', '141473', '91491', '456858', '365441', '84739', '297246', '21894', '451460', '113346', '261450', '88736', '374148', '344937', '163165', '275082', '175607', '218240', '206515', '250625', '111508', '455201', '154584', '209912', '406673', '226515', '231119', '51712', '266484', '355386', '146019', '60203', '211687', '63089', '47840', '162761', '304572', '327506', '86006', '333326', '197866', '395371', '171004', '92140', '303008', '307493', '166027', '125557', '24990', '517166', '102636', '62130', '1322', '252520', '31135', '471465', '58055', '141558', '119914', '141933', '68423', '276065', '452870', '435118', '368405', '40483', '464119', '179170', '402762', '37975', '324690', '414333', '110608', '217009', '259147', '456610', '226161', '75969', '71418', '38600', '354839', '358874', '268611', '316984', '346033', '134051', '244158', '252312', '115403', '140564', '63599', '219121', '290497', '301792', '171293', '136325', '242587', '429546', '125040', '284376', '118823', '70260', '211284', '103467', '227872', '126145', '26656', '315669', '453335', '193195', '33162', '179476', '242702', '337144', '513918', '422798', '325157', '319820', '86867', '114569', '150996', '146521', '414823', '234585', '191491', '12353', '288799', '80963', '382723', '468146', '447114', '73702', '151262', '88706', '234411', '495525', '33340', '69188', '321672', '336185', '183173', '40449', '254908', '311526', '33043', '257260', '263821', '44615', '9272', '41137', '39296', '417940', '198738', '403131', '269088', '357584', '207243', '152378', '225529', '187151', '203720', '251166', '85756', '139392', '170139', '21949', '55432', '32805', '199360', '236534', '393854', '166868', '296231', '80384', '271607', '109835', '415408', '160206', '292219', '342133', '213588', '66955', '281674', '252004', '507063', '69195', '176785', '70132', '206335', '390351', '249846', '23682', '386223', '191509', '246497', '39047', '335253', '96162', '415406']\n",
            "7 ['35173', '109818', '66932', '223349', '63346', '401605', '134787', '21357', '401283', '221429', '256464', '123408', '311959', '141164', '99798', '276601', '88125', '28641', '407747', '58045', '313613', '263109', '437455', '115776', '79312', '230004', '40050', '277562', '244294', '172783', '141617', '102525', '174606', '50337', '60058', '97699', '501197', '414085', '412091', '36009', '174645', '55510', '476489', '14613', '265955', '412006', '136514', '29448', '396740', '455028', '306676', '302106', '354791', '222953', '198137', '102336', '184166', '378968', '260335', '284208', '244742', '97490', '26325', '69776', '103379', '59687', '164072', '455452', '445734', '33321', '71046', '41166', '97140', '102214', '107233', '403593', '422794', '147765', '15543', '362501', '329285', '377722', '264476', '60893', '476461', '214023', '49349', '260352', '158382', '69045', '62080', '414036', '62556', '83213', '135227', '135777', '91395', '259983', '322492', '366402', '123449', '478189', '156650', '95389', '471470', '461147', '449854', '246489', '280297', '24447', '219042', '259154', '279705', '281503', '43401', '216631', '478829', '7210', '362466', '450247', '82600', '342130', '360752', '414890', '410251', '116105', '179427', '54994', '142388', '204418', '311508', '349392', '250136', '192313', '90193', '71866', '117668', '296597', '44095', '440046', '155403', '269152', '36678', '310392', '393778', '267270', '19168', '225329', '417265', '40419', '239451', '168629', '489986', '296921', '268352', '495338', '300068', '208058', '120273', '91514', '323527', '1557', '22889', '215567', '259570', '286882', '306736', '178823', '392655', '49139', '129621', '486312', '97048', '4765', '435575', '160705', '175540', '32579', '122860', '11761', '515586', '32865', '152233', '189821', '159336', '15302', '218750', '137233', '280310', '134000', '327960', '111584', '245429', '286381', '127498', '520230', '333393', '222933', '229434', '203366', '263617', '86929', '457660', '95376', '322270', '167585', '953', '46009', '377082', '473022', '353967', '487985', '158520', '110683', '274369', '31209', '56479', '441824', '457400', '360234', '418256', '255260', '16752', '151675', '284365', '240668', '196089', '23490', '383532', '94307', '33812', '469462', '508579', '128288', '78900', '114249', '399202', '262921', '426351', '285572', '240865', '18187', '47384', '383269', '125090', '22415', '125329', '76275', '404754', '154673', '217287', '211064', '448669', '251211', '459408', '383941', '229204', '78878', '104882', '320030', '191310', '137270', '475310', '128505', '193604', '286317', '313697', '200449', '261244', '411697', '162050', '267403', '159169', '71784', '351782', '28758', '203145', '24871', '120865', '213352', '176478', '215933', '149012', '377380', '316390', '84479', '384400', '25759', '51214', '280318', '78733', '271682', '229772', '19260', '408973', '147360', '408969', '131408', '48885', '338459', '72912', '212958', '15060', '63825', '226550', '249833', '388401', '43913', '22090', '89047', '119160', '290330', '94987', '8404', '30317', '275584', '236281', '243704', '446947', '406420', '114001', '196070', '93520', '62662', '11162', '441847', '73076', '65264', '263488', '334738', '175096', '159958', '109156', '99352', '534393', '392692', '148656', '355882', '425348', '375466', '340394', '138783', '297889', '396266', '23632', '6934', '93634', '305279', '141286', '78563', '182625', '28969', '139208', '291234', '285271', '395885', '228329', '58173', '33799', '59599', '49989', '113582', '165424', '307626', '2902', '92154', '109283', '151928', '178299', '26984', '241877', '422231', '70304', '330318', '139992', '95489', '110481', '450756', '292166', '305855', '320541', '194747', '184897', '351765', '414297', '11420', '98314', '139834', '362862', '265838', '362080', '270950', '193968', '248366', '142481', '68179', '275943', '285441', '91700', '167334', '109173', '152914', '152540', '201675', '40826', '357070', '43637', '277916', '43254', '51578', '223560', '215037', '132278', '109575', '45188', '308872', '418479', '157458', '302548', '244695', '9982', '311299', '34685', '135564', '250665', '33833', '164058', '44258', '58705', '218466', '454397', '247983', '99110', '54241', '188709', '372354', '193147', '191179', '360022', '262670', '286057', '107058', '74778', '83279', '305476', '104923', '188927', '71936', '35197', '4464', '139843', '140771', '100977', '214198', '21168', '259502', '494865', '94580', '112664', '473126', '371026', '249826', '126616', '133905', '220111', '84745', '187021', '13349', '67422', '209723', '124695', '319548', '105731', '499586', '465027', '138924', '140652', '28703', '462647', '364069', '450283', '326338', '13374', '230232', '274321', '107203', '304305', '132675', '190141', '235299', '137486', '420304', '32847', '319324', '54979', '270094', '80361', '472612', '188121', '358826', '111599', '14296', '44261', '505936', '4893', '181816', '92061', '339530', '87102', '99524', '372135', '236851', '25079', '132083', '251404', '108284', '321218', '464226', '484910', '446060', '240581', '82205', '247722', '243721', '218287', '305675', '441821', '126581', '52942', '205260', '170550', '23235', '180797', '198801', '211808', '361470', '276236', '171834', '114397', '414049', '355415', '12883', '156247', '76225', '481852', '52159', '276573', '144129', '329542', '460515', '74021', '220137', '142335', '362757', '304289', '423659', '116074', '221582', '80540', '455086', '180119', '14578', '84793', '14011', '70029', '354578', '119271', '147715', '421990', '13320', '105706', '14896', '316685', '25059', '451019', '411827', '76625', '149202', '307316', '11682', '98485', '49667', '345481', '413256', '378778', '461065', '199591', '32873', '110057', '9192', '417144', '21869', '65064', '69382', '133211', '493851', '19442', '199298', '350436', '281056', '338892', '35416', '194893', '125133', '50869', '4740', '509461', '167270', '322287', '136986', '103243', '416172', '191866', '399533', '272253', '78949', '26160', '187228', '269516', '475423', '302670', '96780', '226775', '381503', '189896', '234060', '21597', '349642', '405601', '179049', '218882', '173130', '340028', '320534', '198798', '461996', '321652', '344433', '49578', '302891', '15553', '224739', '19725', '32743', '412285', '380638', '101173', '351572', '304548', '186461', '117475', '111188', '214674', '499383', '289957', '254702', '221236', '264666', '109432', '52168', '239832', '265492', '81173', '115583', '78014', '66340', '211650', '36684', '159579', '61615', '425309', '421737', '353805', '3439', '70216', '47716', '144190', '16362', '4902', '26504', '82985', '180226', '146428', '94207', '116821', '513947', '271812', '278257', '88753', '238236', '42461', '178935', '478110', '154823', '340438', '477144', '232888', '16343', '192859', '227771', '428568', '207976', '295727', '70126', '91304', '116143', '393791', '70239', '109883', '88404', '114356', '50015', '277163', '273071', '17477', '394250', '107549', '79268', '209931', '416325', '113747', '164389', '126066', '358837', '452607', '50782', '349530', '21752', '219524', '154110', '182259', '508702', '516665', '149808', '423905', '71218', '140552', '106654', '249470', '355962', '285461', '140199', '414422', '81286', '71322', '86993', '129685', '406688', '287938', '56619', '100371', '283724', '116661', '53685', '348070', '194000', '373724', '353886', '235660', '503991', '11100', '96668', '325903', '19697', '161178', '131721', '442092', '359641', '8351', '463766', '104242', '113257', '375043', '405857', '416329', '300801', '253137', '284596', '318613', '445096', '69364', '98936', '165944', '477382', '204938', '268603', '186256', '71369', '117723', '381596', '94790', '105736', '330919', '147820', '23310', '267920', '43706', '206157', '359558', '368533', '54041', '280907', '244044', '236483', '32910', '372874', '373092', '279232', '228146', '329923', '230226', '486173', '11124', '413410', '336869', '381412', '87927', '164218', '167481', '201700', '14379', '215308', '228799', '348970', '29094', '149492', '139722', '320251', '28216', '78263', '136258', '135210', '335810', '101207', '110672', '26890', '200857', '239596', '133136', '159829', '74909', '57539', '417659', '382315', '219131', '190401', '261793', '72145', '115880', '266079', '32617', '275114', '357993', '48490', '148100', '18829', '335702', '91449', '48839', '225727', '238049', '495991', '223690', '242575', '180593', '286906', '418975', '46468', '192651', '460022', '232589', '79683', '465574', '191423', '245016', '3002', '305551', '76540', '269136', '404180', '76654', '68118', '88839', '156906', '365664', '20822', '270949', '28444', '147023', '187149', '53257', '356347', '199743', '39423', '115554', '34846', '9409', '252445', '158575', '214744', '130293', '4127', '76005', '474629', '28795', '87028', '181883', '40572', '381310', '347216', '69824', '334373', '357199', '63717', '65460', '185013', '379818', '72299', '266424', '434012', '195717', '41168', '483168', '218484', '216016', '9234', '124372', '311946', '35589', '229832', '390614', '335436', '231595', '527902', '147471', '17877', '201093', '345215', '392341', '16384', '71849', '51085', '148326', '212564', '196324', '64556', '169865', '147201', '138110', '232757', '308520', '205867', '174351', '262325', '177521', '290943', '497653', '339045', '419796', '230013', '123425', '431115', '294858', '64199', '252131', '86497', '312518', '331376', '169345', '133318', '56246', '396305', '160421', '89470', '426119', '103157', '324983', '137433', '120560', '233122', '461607', '97510', '280291', '31531', '8213', '424172', '73236', '32504', '198902', '49270', '188918', '203207', '323822', '257110', '247449', '155973', '274408', '95710', '327305', '458880', '319957', '271280', '91443', '308032', '311436', '467909', '290628', '50174', '240359', '339463', '276387', '318710', '349250', '291675', '256544', '516300', '393796', '347323', '55453', '115068', '287697', '38014', '260143', '351013', '8117', '133865', '172616', '94469', '218259', '46818', '295232', '387105', '186782', '172925', '176477', '45841', '116781', '32906', '367945', '483738', '185046', '305365', '122228', '176231', '185946', '314477', '8969', '210607', '21631', '245377', '389830', '204290', '455878', '125506', '34863', '193535', '40245', '310279', '389531', '90040', '34175', '268336', '111088', '325320', '78965', '390997', '364957', '354610', '317120', '295501', '296819', '246370', '179214', '388333', '121014', '111162', '36926', '425200', '387733', '14973', '105522', '230197', '292104', '262293', '148943', '273675', '211117', '83889', '336871', '176657', '271030', '76200', '244834', '338326', '321889', '446999', '334995', '271809', '245490', '416862', '372107', '116051', '230352', '449430', '239573', '81110', '424552', '20187', '313333', '65634', '48122', '180499', '23786', '392091', '312306', '301209', '53038', '468850', '218406', '501838', '54227', '173558', '362171', '34348', '253247', '362788', '11281', '78848', '230212', '502906', '220617', '131088', '304587', '503451', '544', '215411', '220924', '32883', '14650', '404689', '376411', '91257', '11898', '505655', '6442', '271197', '161043', '546', '466492', '106985', '52846', '504794', '150972', '29744', '62739', '75091', '130962', '462318', '209655', '168742', '206277', '393554', '76515', '286425', '423137', '28243', '215800', '120266', '128264', '424797', '32657', '177112', '303239', '381280', '17660', '67685', '255802', '125127', '95685', '149784', '82782', '321898', '427186', '417325', '95554', '103234', '240121', '185848', '187127', '64183', '254255', '67134', '295975', '430154', '483902', '408706', '420375', '88910', '59209', '78622', '288950', '29832', '165726', '185309', '404028', '137495', '398117', '162931', '224320', '74894', '255041', '477980', '39848', '210170', '361756', '100813', '140868', '101804', '431019', '153931', '35316', '419913', '348416', '142710', '248020', '160856', '134819', '137181', '350576', '124404', '434283', '254711', '42385', '247919', '304704', '285522', '144390', '124760', '47422', '457947', '307905', '3015', '220613', '50956', '394578', '43073', '511199', '35037', '254690', '315918', '46472', '242307', '249522', '118238', '148436', '344886', '318113', '373624', '323986', '433060', '42477', '222588', '403086', '144461', '137538', '170385', '219050', '247882', '89407', '160877', '27344', '262050', '33205', '24175', '10157', '77255', '9211', '386791', '113695', '133572', '152771', '325212', '85259', '292895', '369055', '67106', '107986', '177577', '170692', '509357', '371794', '44659', '32561', '30822', '434823', '106280', '27121', '30839', '87837', '78526', '82221', '82643', '128144', '114652', '144126', '40705', '355540', '43525', '141678', '230914', '414694', '395315', '424532', '377695', '488561', '47617', '123231', '382287', '264140', '10825', '289900', '171512', '423935', '91292', '231891', '289263', '494105', '502558', '64110', '64190', '213541', '26292', '83137', '279198', '49570', '204281', '427179', '140441', '171455', '123506', '289807', '68782', '30586', '485885', '106530', '43696', '153121', '98056', '306857', '374478', '190434', '165758', '203303', '148981', '123965', '279299', '320687', '253022', '138409', '86043', '313156', '39165', '43879', '79770', '381270', '203066', '166879', '305016', '255467', '20165', '192104', '405810', '23969', '205020', '118395', '259755', '15389', '169876', '206457', '127846', '526211', '264859', '350483', '131747', '407304', '178936', '437338', '17433', '120210', '209419', '92404', '29903', '300708', '288482', '372184', '515026', '44296', '108605', '169737', '331155', '455178', '218429', '347632', '308291', '98011', '28248', '140004', '57487', '271399', '349087', '231222', '314718', '385036', '370482', '370936', '423888', '412058', '164925', '378080', '405518', '10039', '232825', '491504', '338476', '119367', '46028', '196295', '363730', '422408', '64048', '441795', '333792', '313208', '50558', '106519', '53679', '19887', '163285', '83364', '185994', '496289', '356379', '198177', '429772', '318283', '9054', '138364', '267695', '439935', '99115', '451108', '61257', '28195', '79820', '212786', '62129', '92215', '255609', '12811', '275749', '246351', '30845', '197755', '74984', '304161', '246594', '180528', '280185', '239886', '190877', '427083', '214743', '122927', '205638', '416336', '145498', '198840', '66690', '193159', '181130', '100235', '401891', '281901', '23705', '306284', '331859', '375532', '18288', '243074', '64837', '27680', '52298', '303232', '337285', '407303', '377448', '91172', '314238', '94651', '299991', '254778', '81975', '269407', '356382', '340215', '367112', '299700', '84351', '523532', '205766', '188874', '161139', '121318', '64225', '306036', '238173', '127273', '239672', '51544', '53357', '226764', '186164', '256210', '134237', '110967', '161853', '102365', '153879', '111315', '92288', '21959', '377060', '131671', '35473', '88430', '148242', '320471', '192219', '331529', '148347', '21792', '324867', '102831', '79584', '58018', '355980', '82476', '86469', '5453', '140219', '884', '219724', '162024', '134288', '137934', '110252', '18441', '188357', '51219', '70904', '223840', '68728', '188410', '40556', '288494', '198302', '354257', '339174', '151439', '33129', '76964', '335975', '23898', '120624', '51627', '93000', '118385', '40837', '118786', '17443', '66512', '407268', '310847', '261481', '265111', '446079', '172211', '103617', '274143', '120547', '343671', '482207', '175868', '9556', '244984', '66348', '370570', '26401', '96262', '370478', '85028', '232336', '517370', '355522', '178969', '65409', '27658', '248934', '198531', '335174', '27100', '341506', '335284', '153222', '181121', '20233', '275702', '119171', '9923', '34373', '125784', '85886', '301683', '457102', '151669', '247477', '104707', '52093', '226156', '419622', '98667', '79793', '323925', '476107', '43685', '294831', '71161', '302948', '355695', '341947', '369191', '371243', '369809', '177138', '382789', '302089', '227132', '318079', '99655', '170031', '233365', '451621', '26335', '85212', '172358', '60433', '307323', '414712', '292138', '397661', '29874', '269912', '61087', '282743', '202938', '376376', '356997', '74624', '70204', '103251', '112025', '26862', '366943', '255388', '11392', '331629', '260866', '127579', '10529', '58054', '187656', '79791', '101232', '385645', '346153', '309091', '15787', '297279', '15416', '175080', '90868', '444839', '362750', '106573', '283490', '169079', '175013', '491363', '142682', '105714', '173011', '30573', '391757', '97296', '274203', '384334', '110167', '67755', '135795', '222916', '158911', '74634', '147740', '232046', '181828', '268667', '128020', '161803', '214377', '414739', '62799', '88028', '128606', '8596', '335661', '59227', '423640', '213377', '139749', '359076', '161837', '50014', '220526', '88207', '131483', '374077', '320452', '336755', '161530', '338664', '76642', '394472', '284267', '192806', '24404', '129910', '370046', '37435', '19188', '11649', '230692', '83438', '446852', '218852', '342813', '272794', '67544', '99383', '153630', '37557', '250961', '358364', '109003', '39609', '96762', '219769', '45843', '42972', '107794', '289107', '3929', '470291', '378516', '67679', '232092', '9070', '203767', '155002', '373769', '63410', '112645', '186328', '43838', '134951', '229169', '42568', '462045', '155475', '490763', '456742', '61275', '431352', '211301', '364654', '387659', '110428', '23891', '221574', '395068', '103102', '304782', '195273', '229712', '184501', '330830', '44134', '227269', '227975', '115280', '140565', '214077', '170216', '189343', '44195', '48230', '297747', '204804', '262531', '113164', '12019', '457092', '439015', '221279', '340957', '107474', '293113', '229184', '298802', '121301', '299105', '97644', '447343', '25623', '300844', '82040', '317013', '254797', '20144', '278175', '210922', '286941', '160993', '133295', '109624', '20193', '189583', '156672', '282907', '9357', '357815', '15740', '244136', '421347', '128301', '230893', '38008', '190613', '415745', '344340', '111100', '434855', '73235', '404365', '56516', '29558', '113516', '273824', '53520', '298652', '368099', '392114', '353117', '241001', '195906', '37278', '20023', '46181', '228484', '93313', '302925', '11680', '315914', '211489', '55426', '53035', '43595', '19906', '46218', '63607', '38715', '240139', '242532', '111523', '71023', '92813', '126780', '207920', '400599', '83531', '449526', '187284', '102318', '54775', '296946', '440025', '55578', '312251', '117331', '92058', '357984', '227483', '456972', '97088', '404265', '51128', '425139', '364770', '53129', '78450', '185269', '27575', '136871', '369856', '370661', '65456', '205336', '158662', '343949', '475620', '165346', '42799', '101096', '139728', '170596', '26739', '135116', '141967', '61710', '171552', '2891', '212338', '23653', '355203', '340225', '150233', '374457', '196311', '238298', '102279', '156503', '186495', '172532', '12467', '260562', '100179', '257334', '454096', '203284', '298867', '297095', '37636', '102026', '40878', '194908', '387644', '58251', '473609', '238547', '19808', '115330', '130588', '230777', '41105', '137055', '444574', '144471', '182834', '141985', '218570', '12213', '422001', '218594', '209011', '16923', '87713', '10822', '125657', '253567', '15104', '80330', '81005', '205695', '8710', '41979', '162708', '21786', '264423', '302578', '66388', '227207', '321432', '81861', '356596', '5381', '422765', '220011', '273725', '358662', '419386', '51396', '219800', '126291', '474050', '25714', '15794', '440221', '82568', '72712', '185661', '456745', '246130', '289943', '410506', '487402', '105232', '34719', '392531', '214594', '13220', '193534', '91505', '306663', '37942', '322124', '94981', '306830', '80357', '10667', '33302', '353541', '397671', '65637', '325171', '34326', '384082', '46175', '7038', '81162', '47106', '20752', '282011', '40392', '114647', '34116', '289422', '300338', '178497', '261814', '133907', '490244', '501804', '153305', '39621', '21128', '220820', '247491', '179422', '390764', '350758', '13657', '305073', '448448', '98439', '46344', '138225', '220587', '252196', '299740', '323289', '28930', '288314', '80366', '96723', '239979', '271620', '453249', '61934', '78934', '135749', '335933', '458226', '317716', '433298', '29258', '216661', '365885', '29467', '77174', '207839', '132025', '22787', '209284', '368456', '156900', '481890', '177105', '192568', '379516', '19193', '12892', '245499', '94335', '190590', '199260', '127538', '453442', '191753', '88419', '31704', '246857', '147199', '316083', '292770', '31864', '57136', '400213', '71873', '37516', '121405', '318784', '304031', '398425', '81329', '446362', '18904', '265339', '224090', '101792', '274218', '8530', '100085', '349373', '57615', '389405', '208356', '468457', '304533', '373114', '68317', '72615', '131364', '456795', '310370', '129532', '128556', '90407', '128527', '45955', '195858', '269703', '10778', '460750', '116011', '80313', '462460', '83999', '33438', '142715', '134244', '482237', '405535', '237748', '61233', '97266', '114477', '516031', '42320', '456408', '83811', '40682', '168151', '284507', '118094', '20552', '140580', '174631', '283285', '198629', '361819', '296405', '233238', '98759', '54738', '107617', '311078', '313014', '27630', '29166', '128101', '108065', '43461', '67362', '86978', '499966', '78114', '43397', '259656', '270648', '169444', '51330', '24297', '432515', '123085', '367708', '430040', '43515', '80909', '85677', '304674', '384583', '325323', '162921', '387477', '374083', '174650', '158483', '86356', '413337', '300748', '155726', '202460', '448833', '194873', '41971', '405741', '136591', '42244', '388237', '423833', '110548', '171107', '265239', '149800', '117426', '291950', '184434', '265490', '63411', '257796', '166147', '204693', '265000', '446095', '226812', '111521', '102596', '397075', '107599', '188996', '130956', '272457', '269996', '427439', '53636', '341448', '180854', '5456', '152664', '359691', '202426', '45045', '148535', '85979', '49591', '241569', '411129', '90885', '408567', '457277', '315168', '26411', '359613', '12197', '99676', '271456', '193374', '19767', '30908', '254725', '504013', '174286', '114000', '108630', '164828', '85413', '204197', '137575', '185348', '203164', '467799', '162604', '159180', '37154', '20382', '391009', '333136', '414669', '219690', '250382', '247762', '232386', '190274', '49170', '378726', '22997', '17960', '148123', '500822', '21509', '334109', '314351', '237556', '443165', '330717', '63160', '444694', '80189', '361007', '229796', '329515', '27882', '83314', '395226', '323130', '321826', '176832', '481057', '283708', '242225', '33838', '216147', '41313', '422072', '278439', '102642', '421320', '201596', '76250', '362945', '453411', '197461', '109206', '487844', '22266', '266437', '164778', '58372', '41937', '21206', '371937', '39297', '173580', '432241', '499375', '63417', '334913', '121904', '21101', '348303', '111270', '117895', '187892', '46457', '225680', '530211', '250173', '227247', '190890', '166164', '95732', '320571', '222381', '284492', '321068', '291818', '452470', '58143', '120662', '227254', '236274', '9928', '121814', '83789', '384637', '10525', '387635', '126749', '253414', '408991', '56290', '282533', '57325', '201178', '33808', '436951', '284678', '32857', '89218', '304220', '310323', '127030', '346772', '308528', '92328', '239149', '431496', '23710', '248332', '324271', '203530', '213716', '235324', '330664', '390440', '200860', '102853', '167712', '279470', '240054', '296965', '271260', '165212', '40959', '139504', '100217', '504587', '42059', '4599', '426813', '12185', '69540', '350753', '201989', '73150', '203442', '21103', '219197', '133548', '132692', '24558', '304560', '92942', '418037', '505793', '115676', '130173', '215241', '190223', '457763', '305099', '88682', '17322', '68481', '458009', '456685', '226291', '111757', '221603', '157143', '141788', '250498', '381207', '438645', '261363', '81341', '44191', '446374', '331124', '85503', '230483', '62181', '173504', '131737', '141984', '266974', '22759', '324352', '171953', '51454', '87813', '258361', '249708', '268165', '348783', '204642', '119288', '164727', '105196', '173475', '31537', '79462', '424740', '68621', '354546', '14640', '247446', '217183', '406955', '462740', '195709', '431639', '130809', '237318', '133935', '137952', '280304', '112180', '45055', '253256', '66535', '384140', '273976', '101510', '477504', '212939', '182098', '164705', '133512', '302511', '453048', '191158', '27208', '245165', '206142', '26090', '472046', '491412', '258012', '112081', '49564', '8462', '439517', '152773', '164213', '126783', '252205', '82065', '352868', '63626', '71932', '200479', '377142', '220927', '54916', '375067', '35988', '213768', '209543', '226881', '150980', '434887', '331852', '482852', '368091', '373843', '56319', '72240', '121738', '28490', '321399', '123963', '512021', '387329', '253540', '257172', '92990', '97966', '28025', '66013', '125165', '405291', '314093', '384189', '385960', '86566', '387066', '117849', '19846', '19989', '20774', '150898', '712', '98705', '91721', '112423', '28273', '360480', '45956', '483253', '417914', '101155', '240423', '199038', '249052', '3979', '227322', '250615', '459302', '116931', '154782', '78613', '148899', '382088', '238061', '206085', '359903', '399360', '74492', '141857', '453539', '81319', '40698', '19162', '384133', '349412', '412453', '219137', '349862', '194081', '61851', '342878', '292451', '109505', '182249', '16124', '295761', '59057', '73376', '171432', '96307', '129236', '283538', '362298', '370509', '158702', '308866', '147798', '51117', '210248', '342951', '424626', '382098', '320875', '285588', '129304', '146749', '178352', '63437', '232458', '95141', '31471', '102876', '425559', '222015', '469782', '367083', '277188', '305194', '62933', '139207', '230282', '482785', '19267', '249917', '150908', '32721', '382793', '53369', '179094', '164368', '6790', '2889', '380120', '335904', '44869', '237769', '410172', '10340', '84724', '138193', '131322', '218689', '426968', '536066', '175374', '6489', '471263', '54675', '289689', '111812', '80832', '147713', '362897', '219886', '74361', '211553', '77505', '89904', '57789', '479681', '127343', '261523', '283199', '126464', '251982', '285149', '346357', '440891', '286142', '312059', '184560', '384584', '357824', '392654', '197333', '155845', '232576', '333453', '381131', '116652', '461078', '176749', '414866', '315291', '142636', '342041', '23414', '269904', '275655', '112656', '417900', '170340', '81757', '243521', '409757', '386631', '21092', '18453', '146930', '377000', '233849', '174719', '486161']\n"
          ]
        }
      ]
    },
    {
      "cell_type": "markdown",
      "metadata": {
        "id": "C1jJ-yNLsfWN"
      },
      "source": [
        "3.3 Получите список рецептов, в этапах выполнения которых есть информация о времени (часы или минуты). Для отбора подходящих рецептов обратите внимание на атрибуты соответствующих тэгов."
      ]
    },
    {
      "cell_type": "code",
      "source": [
        "import xml.etree.ElementTree as ET\n",
        "\n",
        "minutes_or_hours_included = []\n",
        "\n",
        "recipes = ab.findAll('recipe')\n",
        "\n",
        "for i in recipes:\n",
        "  steps = i.findAll(\"step\")\n",
        "\n",
        "  for j in steps:\n",
        "    xmlstr = str(j)\n",
        "    root = ET.fromstring(xmlstr)\n",
        "\n",
        "    if 'has_minutes' in root.attrib:\n",
        "      minutes_or_hours_included.append(i.find(\"id\").text)\n",
        "      break\n",
        "\n",
        "    elif 'has_hours' in root.attrib:\n",
        "      minutes_or_hours_included.append(i.find(\"id\").text)\n",
        "      break\n",
        "\n",
        "\n",
        "print(minutes_or_hours_included[:10])\n"
      ],
      "metadata": {
        "colab": {
          "base_uri": "https://localhost:8080/"
        },
        "id": "RdgZ5UEGwQ9W",
        "outputId": "7b1075a9-9082-45b9-b2bf-07607c7abb2b"
      },
      "execution_count": null,
      "outputs": [
        {
          "output_type": "stream",
          "name": "stdout",
          "text": [
            "['44123', '35173', '453467', '306168', '50662', '118843', '149593', '200148', '310570', '95534']\n"
          ]
        }
      ]
    },
    {
      "cell_type": "markdown",
      "metadata": {
        "id": "hPo3A5MZsfWN"
      },
      "source": [
        "3.4 Загрузите данные из файла `recipes_sample.csv` (__ЛР2__) в таблицу `recipes`. Для строк, которые содержат пропуски в столбце `n_steps`, заполните этот столбец на основе файла  `steps_sample.xml`. Строки, в которых столбец `n_steps` заполнен, оставьте без изменений."
      ]
    },
    {
      "cell_type": "code",
      "source": [
        "import pandas as pd\n",
        "import json\n",
        "\n",
        "recipes = pd.read_csv(\"recipes_sample.csv\")\n",
        "all_recipes = ab.findAll('recipe')   # рецепты из файла steps_sample.xml\n",
        "\n",
        "print(recipes[:5])\n",
        "\n",
        "for index, row in recipes[:5].iterrows():\n",
        "\n",
        "  if str(row[\"n_steps\"]) == \"nan\":\n",
        "    recipe_id = row[\"id\"]\n",
        "\n",
        "    for i in all_recipes:\n",
        "      print(\"OK\")\n",
        "      if int(i.find(\"id\").text) == int(recipe_id):\n",
        "        steps = i.findAll(\"step\")\n",
        "        print(\"yes\", len(steps))\n",
        "        #recipes = recipes.replace(row[\"n_steps\"], len(steps))\n",
        "        #print(\"recipe_id: \", recipe_id, \"becomes: \", len(steps))\n",
        "        #print(\"row_nstep: \", row[\"n_steps\"])\n",
        "        break\n",
        "        #recipes.replace(row[\"n_steps\"], len(steps), inplace=True)\n",
        "        #recipes = recipes.replace(row[\"n_steps\"], len(steps))\n",
        "        #print(recipes)\n",
        "\n",
        "\n",
        "recipes[:5]"
      ],
      "metadata": {
        "id": "JeX_il2D3Tlq"
      },
      "execution_count": null,
      "outputs": []
    },
    {
      "cell_type": "markdown",
      "metadata": {
        "id": "NxQrzepJsfWN"
      },
      "source": [
        "3.5 Проверьте, содержит ли столбец `n_steps` пропуски. Если нет, то преобразуйте его к целочисленному типу и сохраните результаты в файл `recipes_sample_with_filled_nsteps.csv`"
      ]
    },
    {
      "cell_type": "code",
      "execution_count": null,
      "metadata": {
        "id": "EOeLA1N6sfWO"
      },
      "outputs": [],
      "source": []
    }
  ],
  "metadata": {
    "kernelspec": {
      "display_name": "Python 3",
      "language": "python",
      "name": "python3"
    },
    "language_info": {
      "codemirror_mode": {
        "name": "ipython",
        "version": 3
      },
      "file_extension": ".py",
      "mimetype": "text/x-python",
      "name": "python",
      "nbconvert_exporter": "python",
      "pygments_lexer": "ipython3",
      "version": "3.7.6"
    },
    "colab": {
      "provenance": []
    }
  },
  "nbformat": 4,
  "nbformat_minor": 0
}