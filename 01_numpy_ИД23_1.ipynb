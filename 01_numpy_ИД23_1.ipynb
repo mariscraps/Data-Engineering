{
  "cells": [
    {
      "cell_type": "markdown",
      "metadata": {
        "id": "impckU803_tv"
      },
      "source": [
        "# Numpy"
      ]
    },
    {
      "cell_type": "markdown",
      "metadata": {
        "id": "zUQ4JufW3_tw"
      },
      "source": [
        "Материалы:\n",
        "* Макрушин С.В. \"Лекция 1: Библиотека Numpy\"\n",
        "* https://numpy.org/doc/stable/user/index.html\n",
        "* https://numpy.org/doc/stable/reference/index.html"
      ]
    },
    {
      "cell_type": "markdown",
      "metadata": {
        "id": "HMf_XUdL3_tw"
      },
      "source": [
        "## Задачи для совместного разбора"
      ]
    },
    {
      "cell_type": "markdown",
      "metadata": {
        "id": "oI9LUEJF3_tw"
      },
      "source": [
        "\n",
        "\n",
        "```\n",
        "# This is formatted as code\n",
        "```\n",
        "\n",
        "1. Сгенерировать двухмерный массив `arr` размерности (4, 7), состоящий из случайных действительных чисел, равномерно распределенных в диапазоне от 0 до 20. Нормализовать значения массива с помощью преобразования вида  $𝑎𝑥+𝑏$  так, что после нормализации максимальный элемент масcива будет равен 1.0, минимальный 0.0"
      ]
    },
    {
      "cell_type": "code",
      "execution_count": null,
      "metadata": {
        "colab": {
          "base_uri": "https://localhost:8080/"
        },
        "id": "NcBBhVFt3_tx",
        "outputId": "f8b54096-22e2-4116-a2c5-d1d1507dd683"
      },
      "outputs": [
        {
          "output_type": "stream",
          "name": "stdout",
          "text": [
            "Исходный массив:\n",
            "[[14.51056368 10.14452356 12.02037572 13.18793643 16.13867176  9.92409186\n",
            "   5.19014866]\n",
            " [ 2.67122851  3.76769781 18.20324947  7.24874636  5.88615866  5.62134202\n",
            "   4.36537982]\n",
            " [ 1.63269243 16.8735935   3.19537357  1.87705    15.66090067 12.55757316\n",
            "   8.23976658]\n",
            " [ 4.72939657 17.18241139 18.70572024 14.05512229 19.89218836 17.0924095\n",
            "   8.47007338]]\n",
            "\n",
            "Нормализованный массив:\n",
            "[[0.70526981 0.46615915 0.56889212 0.63283478 0.79443482 0.45408698\n",
            "  0.19482774]\n",
            " [0.05687649 0.11692576 0.90750353 0.30756895 0.23294544 0.21844248\n",
            "  0.14965842]\n",
            " [0.         0.83468356 0.08558183 0.01338249 0.7682692  0.59831228\n",
            "  0.36184318]\n",
            " [0.16959417 0.85159629 0.93502186 0.6803271  1.         0.84666724\n",
            "  0.37445617]]\n"
          ]
        }
      ],
      "source": [
        "import numpy as np\n",
        "\n",
        "arr = np.random.uniform(0, 20, size=(4, 7))\n",
        "\n",
        "normalized_arr = (arr - arr.min()) / (arr.max() - arr.min())\n",
        "\n",
        "print(\"Исходный массив:\")\n",
        "print(arr)\n",
        "print(\"\\nНормализованный массив:\")\n",
        "print(normalized_arr)"
      ]
    },
    {
      "cell_type": "markdown",
      "metadata": {
        "id": "d5UxnVrO3_tx"
      },
      "source": [
        "2. Создать матрицу 8 на 10 из случайных целых (используя модуль `numpy.random`) чисел из диапозона от 0 до 10 и найти в ней строку (ее индекс и вывести саму строку), в которой сумма значений минимальна."
      ]
    },
    {
      "cell_type": "code",
      "source": [
        "import numpy as np\n",
        "new_matrix = np.random.randint(0, 11, size=(8, 10))\n",
        "print(new_matrix)\n",
        "\n",
        "smallest_sum = min(i for i in [sum(j) for j in new_matrix])\n",
        "\n",
        "result_string = [j for j in new_matrix if sum(j) == smallest_sum][0]\n",
        "\n",
        "a = [sum(i) for i in new_matrix]\n",
        "for i in range(len(a)):\n",
        "  if a[i] == sum(result_string):\n",
        "    index = i + 1\n",
        "    break\n",
        "\n",
        "print(result_string, index)\n"
      ],
      "metadata": {
        "colab": {
          "base_uri": "https://localhost:8080/"
        },
        "id": "6v3c5LSb4CJZ",
        "outputId": "9f3d5589-8b44-438e-d51b-51ba13932c82"
      },
      "execution_count": null,
      "outputs": [
        {
          "output_type": "stream",
          "name": "stdout",
          "text": [
            "[[ 2  2 10  6  3 10  5 10  5  3]\n",
            " [10  1  8  2  8  1  4  1  8  1]\n",
            " [ 3  7  5  9  9  3  9 10  8  7]\n",
            " [ 9  9  4  5 10  2  4  6  5  8]\n",
            " [10  1  7  7  7  4 10  2  6  5]\n",
            " [ 4  4  5  3  0  7  6  7  8  6]\n",
            " [ 9  9  4  6  8  7  3  2  4  0]\n",
            " [ 4  5  7  0  3  3 10  0  2  7]]\n",
            "[ 4  5  7  0  3  3 10  0  2  7] 8\n"
          ]
        }
      ]
    },
    {
      "cell_type": "markdown",
      "metadata": {
        "id": "yogUBiz53_tx"
      },
      "source": [
        "3. Найти евклидово расстояние между двумя одномерными векторами одинаковой размерности."
      ]
    },
    {
      "cell_type": "code",
      "source": [
        "import math\n",
        "arr1 = np.arange(3).reshape(3, 1)\n",
        "arr2 = np.arange(10, 13).reshape(3, 1)\n",
        "distance = math.dist(arr1, arr2)  # возвращает евклидово расстояние между двумя векторами\n",
        "print(distance)"
      ],
      "metadata": {
        "colab": {
          "base_uri": "https://localhost:8080/"
        },
        "id": "gdN_0kzedm08",
        "outputId": "6da01a88-12b2-4471-d53d-21d96fd068c1"
      },
      "execution_count": null,
      "outputs": [
        {
          "output_type": "stream",
          "name": "stdout",
          "text": [
            "17.320508075688775\n"
          ]
        },
        {
          "output_type": "stream",
          "name": "stderr",
          "text": [
            "<ipython-input-9-b3d9e2b4afd1>:4: DeprecationWarning: Conversion of an array with ndim > 0 to a scalar is deprecated, and will error in future. Ensure you extract a single element from your array before performing this operation. (Deprecated NumPy 1.25.)\n",
            "  distance = math.dist(arr1, arr2)  # возвращает евклидово расстояние между двумя векторами\n"
          ]
        }
      ]
    },
    {
      "cell_type": "markdown",
      "metadata": {
        "id": "3AbsDrwL3_tx"
      },
      "source": [
        "4. Решить матричное уравнение `A*X*B=-C` - найти матрицу `X`. Где `A = [[-1, 2, 4], [-3, 1, 2], [-3, 0, 1]]`, `B=[[3, -1], [2, 1]]`, `C=[[7, 21], [11, 8], [8, 4]]`."
      ]
    },
    {
      "cell_type": "code",
      "source": [
        "A = np.array([[-1, 2, 4], [-3, 1, 2], [-3, 0, 1]])\n",
        "B = np.array([[3, -1], [2, 1]])\n",
        "negative_C = np.array([[7, 21], [11, 8], [8, 4]]) * (-1)\n",
        "\n",
        "# Решить матричное уравнение A*X*B=-C\n",
        "# X = A^(-1) * (-C) * B^(-1)\n",
        "\n",
        "A_inverse = np.linalg.inv(A)\n",
        "B_inverse = np.linalg.inv(B)\n",
        "X = np.dot(A_inverse, negative_C)\n",
        "X = np.dot(X, B_inverse)\n",
        "\n",
        "print(X)"
      ],
      "metadata": {
        "colab": {
          "base_uri": "https://localhost:8080/"
        },
        "id": "YXYPBttIjXm3",
        "outputId": "8ac432e8-cf7f-48ba-999f-8291a2531ca2"
      },
      "execution_count": null,
      "outputs": [
        {
          "output_type": "stream",
          "name": "stdout",
          "text": [
            "[[ 1.00000000e+00  5.32907052e-16]\n",
            " [-2.00000000e+00  1.00000000e+00]\n",
            " [ 3.00000000e+00 -4.00000000e+00]]\n"
          ]
        }
      ]
    },
    {
      "cell_type": "markdown",
      "metadata": {
        "id": "t7WGVgi63_tx"
      },
      "source": [
        "## Лабораторная работа №1"
      ]
    },
    {
      "cell_type": "markdown",
      "metadata": {
        "id": "RNDI5Kdi3_tx"
      },
      "source": [
        "Замечание: при решении данных задач не подразумевается использования циклов или генераторов Python, если в задании не сказано обратного. Решение должно опираться на использования функционала библиотеки `numpy`."
      ]
    },
    {
      "cell_type": "markdown",
      "metadata": {
        "id": "78-LC3wX3_tx"
      },
      "source": [
        "1. Файл `minutes_n_ingredients.csv` содержит информацию об идентификаторе рецепта, времени его выполнения в минутах и количестве необходимых ингредиентов. Считайте данные из этого файла в виде массива `numpy` типа `int32`, используя `np.loadtxt`. Выведите на экран первые 5 строк массива."
      ]
    },
    {
      "cell_type": "code",
      "source": [
        "import numpy as np\n",
        "import pandas as pd\n",
        "\n",
        "data = pd.read_csv('minutes_n_ingredients.csv', skiprows=1, header=None)\n",
        "\n",
        "numpy_array = np.array(data)\n",
        "\n",
        "print(numpy_array[:5])\n",
        "\n",
        "print(np.sum(numpy_array[:, 1] == 0))"
      ],
      "metadata": {
        "colab": {
          "base_uri": "https://localhost:8080/"
        },
        "id": "HEgC88grmvKu",
        "outputId": "107bfd69-0808-4710-9557-56a92aa3c501"
      },
      "execution_count": null,
      "outputs": [
        {
          "output_type": "stream",
          "name": "stdout",
          "text": [
            "[[127244     60     16]\n",
            " [ 23891     25      7]\n",
            " [ 94746     10      6]\n",
            " [ 67660      5      6]\n",
            " [157911     60     14]]\n",
            "479\n"
          ]
        }
      ]
    },
    {
      "cell_type": "code",
      "source": [
        "import numpy as np\n",
        "a = np.loadtxt('minutes_n_ingredients.csv', dtype=np.int32, delimiter=',', skiprows=1)\n",
        "print(a[:5, :])"
      ],
      "metadata": {
        "colab": {
          "base_uri": "https://localhost:8080/"
        },
        "id": "xkS2sR3jdpZP",
        "outputId": "bc7782de-5129-468d-a579-b6db7de49fc0"
      },
      "execution_count": null,
      "outputs": [
        {
          "output_type": "stream",
          "name": "stdout",
          "text": [
            "[[127244     60     16]\n",
            " [ 23891     25      7]\n",
            " [ 94746     10      6]\n",
            " [ 67660      5      6]\n",
            " [157911     60     14]]\n"
          ]
        }
      ]
    },
    {
      "cell_type": "markdown",
      "metadata": {
        "id": "aafhv8_93_tx"
      },
      "source": [
        "2. Вычислите среднее значение, минимум, максимум и медиану по каждому из столбцов, кроме первого."
      ]
    },
    {
      "cell_type": "code",
      "source": [
        "import numpy as np\n",
        "import pandas as pd\n",
        "import statistics\n",
        "\n",
        "data = pd.read_csv('minutes_n_ingredients.csv', skiprows=1, header=None)\n",
        "\n",
        "numpy_array = np.array(data)\n",
        "\n",
        "# Среднее значение по 1 столбцу:\n",
        "print((numpy_array[:, 1]).sum(axis=0) / 100000)\n",
        "\n",
        "# Среднее значение по 2 столбцу:\n",
        "print((numpy_array[:, 2]).sum(axis=0) / 100000)\n",
        "\n",
        "# Минимальное по 1 столбцу\n",
        "print(min(numpy_array[:, 1]))\n",
        "\n",
        "# Минимальное по 2 столбцу\n",
        "print(min(numpy_array[:, 2]))\n",
        "\n",
        "# Максимальное по 1 столбцу\n",
        "print(max(numpy_array[:, 1]))\n",
        "\n",
        "# Максимальное по 2 столбцу\n",
        "print(max(numpy_array[:, 2]))\n",
        "\n",
        "# Медиана по 1 столбцу\n",
        "print(statistics.median(numpy_array[:, 1]))\n",
        "\n",
        "# Медиана по 2 столбцу\n",
        "print(statistics.median(numpy_array[:, 2]))"
      ],
      "metadata": {
        "colab": {
          "base_uri": "https://localhost:8080/"
        },
        "id": "BskssqyIxIH9",
        "outputId": "5e436811-3a48-4980-c9aa-9b2e4c0adc90"
      },
      "execution_count": null,
      "outputs": [
        {
          "output_type": "stream",
          "name": "stdout",
          "text": [
            "21601.00169\n",
            "9.05528\n",
            "0\n",
            "1\n",
            "2147483647\n",
            "39\n",
            "40.0\n",
            "9.0\n"
          ]
        }
      ]
    },
    {
      "cell_type": "markdown",
      "metadata": {
        "id": "DnJMVu4l3_ty"
      },
      "source": [
        "3. Ограничьте сверху значения продолжительности выполнения рецепта значением квантиля $q_{0.75}$."
      ]
    },
    {
      "cell_type": "code",
      "source": [
        "import numpy as np\n",
        "a = np.loadtxt('minutes_n_ingredients.csv', dtype=np.int32, delimiter=',', skiprows=1)\n",
        "print(np.quantile(a[:, 1], .75))"
      ],
      "metadata": {
        "colab": {
          "base_uri": "https://localhost:8080/"
        },
        "id": "AzLh7vRHBSaR",
        "outputId": "1987a9ff-37f9-406b-e85d-09660cb655e8"
      },
      "execution_count": null,
      "outputs": [
        {
          "output_type": "stream",
          "name": "stdout",
          "text": [
            "65.0\n"
          ]
        }
      ]
    },
    {
      "cell_type": "markdown",
      "metadata": {
        "id": "RAE-kayO3_ty"
      },
      "source": [
        "4. Посчитайте, для скольких рецептов указана продолжительность, равная нулю. Замените для таких строк значение в данном столбце на 1."
      ]
    },
    {
      "cell_type": "code",
      "source": [
        "print(np.sum(numpy_array[:, 1] == 0))\n",
        "#(numpy_array[:, 1])[numpy_array[:, 1] == 0] = 1\n",
        "\n",
        "print(np.sum(numpy_array[:, 1] == 0))"
      ],
      "metadata": {
        "colab": {
          "base_uri": "https://localhost:8080/"
        },
        "id": "fQhOWDZ3lsoe",
        "outputId": "42c8ae80-4d06-411c-9559-5d70ac6b8868"
      },
      "execution_count": null,
      "outputs": [
        {
          "output_type": "stream",
          "name": "stdout",
          "text": [
            "479\n",
            "479\n"
          ]
        }
      ]
    },
    {
      "cell_type": "markdown",
      "metadata": {
        "id": "NHFY3Cwd3_ty"
      },
      "source": [
        "\n",
        "5. Посчитайте, сколько уникальных рецептов находится в датасете."
      ]
    },
    {
      "cell_type": "code",
      "source": [
        "print(len(np.unique(numpy_array[:, 0])))"
      ],
      "metadata": {
        "colab": {
          "base_uri": "https://localhost:8080/"
        },
        "id": "rpluuisipeGj",
        "outputId": "4503ee1e-2527-4a11-8091-d2d0db5cc353"
      },
      "execution_count": null,
      "outputs": [
        {
          "output_type": "stream",
          "name": "stdout",
          "text": [
            "100000\n"
          ]
        }
      ]
    },
    {
      "cell_type": "markdown",
      "metadata": {
        "id": "4Vv2Ci5c3_ty"
      },
      "source": [
        "6. Сколько и каких различных значений кол-ва ингредиентов присутвует в рецептах из датасета?"
      ]
    },
    {
      "cell_type": "code",
      "source": [
        "print(np.unique(numpy_array[:, 2]))\n",
        "print(len(np.unique(numpy_array[:, 2])))"
      ],
      "metadata": {
        "colab": {
          "base_uri": "https://localhost:8080/"
        },
        "id": "ge_qa-16qGik",
        "outputId": "b9818362-4da7-4720-8f2d-4e4d4d632d25"
      },
      "execution_count": null,
      "outputs": [
        {
          "output_type": "stream",
          "name": "stdout",
          "text": [
            "[ 1  2  3  4  5  6  7  8  9 10 11 12 13 14 15 16 17 18 19 20 21 22 23 24\n",
            " 25 26 27 28 29 30 31 32 33 34 35 37 39]\n",
            "37\n"
          ]
        }
      ]
    },
    {
      "cell_type": "markdown",
      "metadata": {
        "id": "MWhWXEBm3_ty"
      },
      "source": [
        "7. Создайте версию массива, содержащую информацию только о рецептах, состоящих не более чем из 5 ингредиентов."
      ]
    },
    {
      "cell_type": "code",
      "source": [
        "some_reciped = (numpy_array)[numpy_array[:, 2] <= 5]\n",
        "print(some_reciped)"
      ],
      "metadata": {
        "colab": {
          "base_uri": "https://localhost:8080/"
        },
        "id": "B4UulolbqR8Q",
        "outputId": "09076473-343b-42d6-90b4-45c0b4e5cf40"
      },
      "execution_count": null,
      "outputs": [
        {
          "output_type": "stream",
          "name": "stdout",
          "text": [
            "[[446597     15      5]\n",
            " [204134      5      3]\n",
            " [ 25623      6      4]\n",
            " ...\n",
            " [ 52088     60      5]\n",
            " [128811     15      4]\n",
            " [370915      5      4]]\n"
          ]
        }
      ]
    },
    {
      "cell_type": "markdown",
      "metadata": {
        "id": "Hlfm2q5d3_ty"
      },
      "source": [
        "8. Для каждого рецепта посчитайте, сколько в среднем ингредиентов приходится на одну минуту рецепта. Найдите максимальное значение этой величины для всего датасета"
      ]
    },
    {
      "cell_type": "code",
      "source": [
        "average_ingredients = numpy_array[:, 2] / numpy_array[:, 1]\n",
        "print(average_ingredients)\n",
        "print(max(average_ingredients))"
      ],
      "metadata": {
        "colab": {
          "base_uri": "https://localhost:8080/"
        },
        "id": "cAfPYE_hq1Im",
        "outputId": "0b681966-702c-49a8-b05c-e536cd7d18b9"
      },
      "execution_count": null,
      "outputs": [
        {
          "output_type": "stream",
          "name": "stdout",
          "text": [
            "[0.26666667 0.28       0.6        ... 0.23076923 0.8        0.1       ]\n",
            "inf\n"
          ]
        },
        {
          "output_type": "stream",
          "name": "stderr",
          "text": [
            "<ipython-input-19-6c1ac1e83294>:1: RuntimeWarning: divide by zero encountered in divide\n",
            "  average_ingredients = numpy_array[:, 2] / numpy_array[:, 1]\n"
          ]
        }
      ]
    },
    {
      "cell_type": "markdown",
      "metadata": {
        "id": "bQlyAaYk3_ty"
      },
      "source": [
        "9. Вычислите среднее количество ингредиентов для топ-100 рецептов с наибольшей продолжительностью"
      ]
    },
    {
      "cell_type": "code",
      "source": [
        "import statistics\n",
        "top_100_recipes = numpy_array[numpy_array[:, 1].argsort()][::-1][:100]\n",
        "print(top_100_recipes)\n",
        "average_ingredients = top_100_recipes[:, 2].sum(axis=0) / 100\n",
        "print(average_ingredients)"
      ],
      "metadata": {
        "id": "2hZEeSRwr1_j"
      },
      "execution_count": null,
      "outputs": []
    },
    {
      "cell_type": "markdown",
      "metadata": {
        "id": "bl0nzeTv3_ty"
      },
      "source": [
        "10. Выберите случайным образом и выведите информацию о 10 различных рецептах"
      ]
    },
    {
      "cell_type": "code",
      "source": [
        "random_recipes = np.random.randint(numpy_array.shape[0], size=10)\n",
        "print(random_recipes)\n",
        "numpy_array[random_recipes, :], random_recipes"
      ],
      "metadata": {
        "id": "IQwU4kr5ZLvi",
        "colab": {
          "base_uri": "https://localhost:8080/"
        },
        "outputId": "77c53d5c-9d5b-41a3-952c-aa1ef4662877"
      },
      "execution_count": null,
      "outputs": [
        {
          "output_type": "stream",
          "name": "stdout",
          "text": [
            "[61900 13811 78057 77206 72029 43829 86200 24624 17791 90905]\n"
          ]
        },
        {
          "output_type": "execute_result",
          "data": {
            "text/plain": [
              "(array([[ 84517,    130,      9],\n",
              "        [486019,     30,     12],\n",
              "        [182464,     15,     11],\n",
              "        [279732,     10,      5],\n",
              "        [305016,     30,      9],\n",
              "        [361957,     20,     10],\n",
              "        [334803,     35,     12],\n",
              "        [243626,     80,      9],\n",
              "        [  4019,      0,     15],\n",
              "        [  4807,      0,      3]]),\n",
              " array([61900, 13811, 78057, 77206, 72029, 43829, 86200, 24624, 17791,\n",
              "        90905]))"
            ]
          },
          "metadata": {},
          "execution_count": 27
        }
      ]
    },
    {
      "cell_type": "markdown",
      "metadata": {
        "id": "Zb-_F2QE3_ty"
      },
      "source": [
        "11. Выведите процент рецептов, кол-во ингредиентов в которых меньше среднего."
      ]
    },
    {
      "cell_type": "code",
      "source": [
        "less_average = numpy_array[numpy_array[:, 2] < ((numpy_array[:, 2]).sum(axis=0) / 100000)]\n",
        "p = len(less_average) / len(numpy_array)\n",
        "print(p * 100, \"%\")"
      ],
      "metadata": {
        "colab": {
          "base_uri": "https://localhost:8080/"
        },
        "id": "1kdEOpdpvC2t",
        "outputId": "ed72106d-aa36-4558-eac4-376bcf6e30dc"
      },
      "execution_count": null,
      "outputs": [
        {
          "output_type": "stream",
          "name": "stdout",
          "text": [
            "58.802 %\n"
          ]
        }
      ]
    },
    {
      "cell_type": "markdown",
      "metadata": {
        "id": "xhR0T6o53_tz"
      },
      "source": [
        "12. Назовем \"простым\" такой рецепт, длительность выполнения которого не больше 20 минут и кол-во ингредиентов в котором не больше 5. Создайте версию датасета с дополнительным столбцом, значениями которого являются 1, если рецепт простой, и 0 в противном случае."
      ]
    },
    {
      "cell_type": "code",
      "source": [
        "easy_recipes = np.zeros((numpy_array.shape[0], 4), dtype=int)\n",
        "easy_recipes[:, :3] = numpy_array\n",
        "easy_recipes[np.where((numpy_array[:, 2] <= 5) & (numpy_array[:, 1] <= 20)), 3] = 1\n",
        "print(easy_recipes)"
      ],
      "metadata": {
        "colab": {
          "base_uri": "https://localhost:8080/"
        },
        "id": "dlVvEnpBv1EH",
        "outputId": "b6676889-cdbb-44de-fd29-6fd6b7ac913b"
      },
      "execution_count": null,
      "outputs": [
        {
          "output_type": "stream",
          "name": "stdout",
          "text": [
            "[[127244     60     16      0]\n",
            " [ 23891     25      7      0]\n",
            " [ 94746     10      6      0]\n",
            " ...\n",
            " [498432     65     15      0]\n",
            " [370915      5      4      1]\n",
            " [ 81993    140     14      0]]\n"
          ]
        }
      ]
    },
    {
      "cell_type": "markdown",
      "metadata": {
        "id": "OQoQLNQ53_tz"
      },
      "source": [
        "13. Выведите процент \"простых\" рецептов в датасете"
      ]
    },
    {
      "cell_type": "code",
      "source": [
        "str(sum(easy_recipes[:, 3]) / easy_recipes.shape[0] * 100) + \"%\""
      ],
      "metadata": {
        "colab": {
          "base_uri": "https://localhost:8080/",
          "height": 35
        },
        "id": "W6__SpeqxYue",
        "outputId": "4c81f7a6-9c01-4dc2-860b-1066edf1f089"
      },
      "execution_count": null,
      "outputs": [
        {
          "output_type": "execute_result",
          "data": {
            "text/plain": [
              "'9.552%'"
            ],
            "application/vnd.google.colaboratory.intrinsic+json": {
              "type": "string"
            }
          },
          "metadata": {},
          "execution_count": 35
        }
      ]
    },
    {
      "cell_type": "markdown",
      "metadata": {
        "id": "EhItVV7p3_tz"
      },
      "source": [
        "14. Разделим рецепты на группы по следующему правилу. Назовем рецепты короткими, если их продолжительность составляет менее 10 минут; стандартными, если их продолжительность составляет более 10, но менее 20 минут; и длинными, если их продолжительность составляет не менее 20 минут. Создайте трехмерный массив, где нулевая ось отвечает за номер группы (короткий, стандартный или длинный рецепт), первая ось - за сам рецепт и вторая ось - за характеристики рецепта. Выберите максимальное количество рецептов из каждой группы таким образом, чтобы было возможно сформировать трехмерный массив. Выведите форму полученного массива."
      ]
    },
    {
      "cell_type": "code",
      "execution_count": null,
      "metadata": {
        "id": "KO3iQGSx3_tz"
      },
      "outputs": [],
      "source": []
    }
  ],
  "metadata": {
    "kernelspec": {
      "display_name": "Python 3 (ipykernel)",
      "language": "python",
      "name": "python3"
    },
    "language_info": {
      "codemirror_mode": {
        "name": "ipython",
        "version": 3
      },
      "file_extension": ".py",
      "mimetype": "text/x-python",
      "name": "python",
      "nbconvert_exporter": "python",
      "pygments_lexer": "ipython3",
      "version": "3.9.12"
    },
    "colab": {
      "provenance": []
    }
  },
  "nbformat": 4,
  "nbformat_minor": 0
}