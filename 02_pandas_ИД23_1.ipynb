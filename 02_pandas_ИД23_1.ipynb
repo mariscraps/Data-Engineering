{
  "cells": [
    {
      "cell_type": "markdown",
      "metadata": {
        "id": "5-HtLb31x4Oq"
      },
      "source": [
        "# Pandas"
      ]
    },
    {
      "cell_type": "markdown",
      "metadata": {
        "id": "on3Xhwwnx4Os"
      },
      "source": [
        "Материалы:\n",
        "* Макрушин С.В. \"Лекция 2: Библиотека Pandas\"\n",
        "* https://pandas.pydata.org/docs/user_guide/index.html#\n",
        "* https://pandas.pydata.org/docs/reference/index.html\n",
        "* Уэс Маккини. Python и анализ данных"
      ]
    },
    {
      "cell_type": "markdown",
      "metadata": {
        "id": "_kgWfMqYx4Ot"
      },
      "source": [
        "## Задачи для совместного разбора"
      ]
    },
    {
      "cell_type": "markdown",
      "metadata": {
        "id": "MFRK8cJ9x4Ot"
      },
      "source": [
        "1. Загрузите данные из файла `sp500hst.txt` и обозначьте столбцы в соответствии с содержимым: `\"date\", \"ticker\", \"open\", \"high\", \"low\", \"close\", \"volume\"`."
      ]
    },
    {
      "cell_type": "code",
      "source": [
        "import pandas as pd\n",
        "import numpy as np\n",
        "\n",
        "data = pd.read_csv(\"sp500hst.txt\", sep=\",\")\n",
        "data.columns = [\"date\", \"ticker\", \"open\", \"high\", \"low\", \"close\", \"volume\"]\n",
        "print(data[:5])"
      ],
      "metadata": {
        "colab": {
          "base_uri": "https://localhost:8080/"
        },
        "id": "oy7zxXVq8hL1",
        "outputId": "de877a3c-8c37-4738-f86d-75bbb6071fb3"
      },
      "execution_count": null,
      "outputs": [
        {
          "output_type": "stream",
          "name": "stdout",
          "text": [
            "       date ticker   open     high     low  close  volume\n",
            "0  20090824      A  25.64  25.7400  25.330  25.50   22247\n",
            "1  20090825      A  25.50  25.7000  25.225  25.34   30891\n",
            "2  20090826      A  25.32  25.6425  25.145  25.48   33334\n",
            "3  20090827      A  25.50  25.5700  25.230  25.54   70176\n",
            "4  20090828      A  25.67  26.0500  25.630  25.83   39694\n"
          ]
        }
      ]
    },
    {
      "cell_type": "markdown",
      "metadata": {
        "id": "Jh_zw-CSx4Ou"
      },
      "source": [
        "2. Рассчитайте среднее значение показателей для каждого из столбцов c номерами 3-6."
      ]
    },
    {
      "cell_type": "code",
      "source": [
        "import statistics\n",
        "mean_3 = statistics.mean(data[\"open\"])\n",
        "print(\"среднее значение показателей 3-го столбца:\", mean_3)\n",
        "\n",
        "mean_4 = statistics.mean(data[\"high\"])\n",
        "print(\"среднее значение показателей 4-го столбца:\", mean_4)\n",
        "\n",
        "mean_5 = statistics.mean(data[\"low\"])\n",
        "print(\"среднее значение показателей 5-го столбца:\", mean_5)\n",
        "\n",
        "mean_6 = statistics.mean(data[\"close\"])\n",
        "print(\"среднее значение показателей 6-го столбца:\", mean_6)"
      ],
      "metadata": {
        "colab": {
          "base_uri": "https://localhost:8080/"
        },
        "id": "9kAi0aykBAiu",
        "outputId": "989a7f6b-3928-495a-978f-c24ba8396292"
      },
      "execution_count": null,
      "outputs": [
        {
          "output_type": "stream",
          "name": "stdout",
          "text": [
            "среднее значение показателей 3-го столбца: 42.59559631484911\n",
            "среднее значение показателей 4-го столбца: 43.10238609644865\n",
            "среднее значение показателей 5-го столбца: 42.05460100756284\n",
            "среднее значение показателей 6-го столбца: 42.60200396416829\n"
          ]
        }
      ]
    },
    {
      "cell_type": "markdown",
      "metadata": {
        "id": "FFxwPr5mx4Ou"
      },
      "source": [
        "3. Добавьте столбец, содержащий только число месяца, к которому относится дата."
      ]
    },
    {
      "cell_type": "code",
      "source": [
        "data['date'] = pd.to_datetime(data['date'], format='%Y%m%d')\n",
        "data[\"Month number\"] = data[\"date\"].dt.month\n",
        "print(data[:5])"
      ],
      "metadata": {
        "id": "xApvQ8hUxzd0",
        "colab": {
          "base_uri": "https://localhost:8080/"
        },
        "outputId": "16eaa41f-a2cc-490c-fe0a-bceeb371c96a"
      },
      "execution_count": null,
      "outputs": [
        {
          "output_type": "stream",
          "name": "stdout",
          "text": [
            "        date ticker   open     high     low  close  volume  Month number\n",
            "0 2009-08-24      A  25.64  25.7400  25.330  25.50   22247             8\n",
            "1 2009-08-25      A  25.50  25.7000  25.225  25.34   30891             8\n",
            "2 2009-08-26      A  25.32  25.6425  25.145  25.48   33334             8\n",
            "3 2009-08-27      A  25.50  25.5700  25.230  25.54   70176             8\n",
            "4 2009-08-28      A  25.67  26.0500  25.630  25.83   39694             8\n"
          ]
        }
      ]
    },
    {
      "cell_type": "markdown",
      "metadata": {
        "id": "WjSrpwTxx4Ou"
      },
      "source": [
        "4. Рассчитайте суммарный объем торгов для для одинаковых значений тикеров."
      ]
    },
    {
      "cell_type": "code",
      "source": [
        "tickers = data[\"ticker\"].unique()\n",
        "result = []\n",
        "for i in tickers:\n",
        "  result.append(data.loc[data[\"ticker\"] == i, \"volume\"].sum())\n",
        "result"
      ],
      "metadata": {
        "id": "jUUl-w0L51r_"
      },
      "execution_count": null,
      "outputs": []
    },
    {
      "cell_type": "code",
      "source": [
        "data.groupby(\"ticker\").volume.sum()"
      ],
      "metadata": {
        "colab": {
          "base_uri": "https://localhost:8080/"
        },
        "id": "OxaDIoDygQKF",
        "outputId": "334b1651-0650-4414-8eb9-02a5af11c6c3"
      },
      "execution_count": null,
      "outputs": [
        {
          "output_type": "execute_result",
          "data": {
            "text/plain": [
              "ticker\n",
              "A        8574578\n",
              "AA      81898998\n",
              "AAPL    52261170\n",
              "ABC      9006756\n",
              "ABT     18975870\n",
              "          ...   \n",
              "XTO     21297931\n",
              "YHOO    56837171\n",
              "YUM     10971538\n",
              "ZION    15551119\n",
              "ZMH      4938916\n",
              "Name: volume, Length: 524, dtype: int64"
            ]
          },
          "metadata": {},
          "execution_count": 14
        }
      ]
    },
    {
      "cell_type": "markdown",
      "metadata": {
        "id": "Kh4UHKs1x4Ou"
      },
      "source": [
        "5. Загрузите данные из файла sp500hst.txt и обозначьте столбцы в соответствии с содержимым: \"date\", \"ticker\", \"open\", \"high\", \"low\", \"close\", \"volume\". Добавьте столбец с расшифровкой названия тикера, используя данные из файла `sp_data2.csv` . В случае нехватки данных об именах тикеров корректно обработать их."
      ]
    },
    {
      "cell_type": "code",
      "source": [
        "new_data = pd.read_csv(\"sp_data2.csv\", sep=\";\", error_bad_lines=False)\n",
        "new_data.columns = [\"Abbreviation\", \"Full name\", \"Percent\"]\n",
        "print(new_data)"
      ],
      "metadata": {
        "colab": {
          "base_uri": "https://localhost:8080/"
        },
        "id": "LuCAerCL_WEr",
        "outputId": "f3fc3a21-2714-48c3-cbdc-25e723d375c0"
      },
      "execution_count": null,
      "outputs": [
        {
          "output_type": "stream",
          "name": "stdout",
          "text": [
            "    Abbreviation        Full name Percent\n",
            "0           AMZN       Amazon.com    3.2%\n",
            "1          GOOGL         Alphabet    3.1%\n",
            "2           GOOG         Alphabet    3.1%\n",
            "3           MSFT        Microsoft    3.0%\n",
            "4             FB         Facebook    2.2%\n",
            "..           ...              ...     ...\n",
            "499          SCG            SCANA    0.0%\n",
            "500          AIZ         Assurant    0.0%\n",
            "501          AYI    Acuity Brands    0.0%\n",
            "502          HRB        H&R Block    0.0%\n",
            "503          RRC  Range Resources    0.0%\n",
            "\n",
            "[504 rows x 3 columns]\n"
          ]
        },
        {
          "output_type": "stream",
          "name": "stderr",
          "text": [
            "<ipython-input-6-9a862d09cfdb>:1: FutureWarning: The error_bad_lines argument has been deprecated and will be removed in a future version. Use on_bad_lines in the future.\n",
            "\n",
            "\n",
            "  new_data = pd.read_csv(\"sp_data2.csv\", sep=\";\", error_bad_lines=False)\n"
          ]
        }
      ]
    },
    {
      "cell_type": "code",
      "source": [
        "#data[\"Full name\"] = new_data.loc[new_data[\"Abbreviation\"] == data[\"ticker\"], \"Full name\"]\n",
        "#data"
      ],
      "metadata": {
        "id": "1O4M8y3UA_Sc"
      },
      "execution_count": null,
      "outputs": []
    },
    {
      "cell_type": "markdown",
      "metadata": {
        "id": "cNFG5E6Zx4Ov"
      },
      "source": [
        "## Лабораторная работа №2"
      ]
    },
    {
      "cell_type": "markdown",
      "metadata": {
        "id": "uNybIYSjx4Ov"
      },
      "source": [
        "### Базовые операции с `DataFrame`"
      ]
    },
    {
      "cell_type": "markdown",
      "metadata": {
        "id": "7TjSbIFrx4Ov"
      },
      "source": [
        "1.1 В файлах `recipes_sample.csv` и `reviews_sample.csv` находится информация об рецептах блюд и отзывах на эти рецепты соответственно. Загрузите данные из файлов в виде `pd.DataFrame` с названиями `recipes` и `reviews`. Обратите внимание на корректное считывание столбца с индексами в таблице `reviews` (безымянный столбец)."
      ]
    },
    {
      "cell_type": "code",
      "source": [
        "recipes = pd.read_csv('recipes_sample.csv', parse_dates=[\"submitted\"])\n",
        "reviews = pd.read_csv('reviews_sample.csv', index_col=0)\n",
        "reviews.head()"
      ],
      "metadata": {
        "id": "ScYiq3pvC94Y",
        "colab": {
          "base_uri": "https://localhost:8080/",
          "height": 206
        },
        "outputId": "f6031b11-1189-43f2-ec41-2aec4139698e"
      },
      "execution_count": null,
      "outputs": [
        {
          "output_type": "execute_result",
          "data": {
            "text/plain": [
              "           user_id  recipe_id        date  rating  \\\n",
              "370476       21752      57993  2003-05-01       5   \n",
              "624300      431813     142201  2007-09-16       5   \n",
              "187037      400708     252013  2008-01-10       4   \n",
              "706134  2001852463     404716  2017-12-11       5   \n",
              "312179       95810     129396  2008-03-14       5   \n",
              "\n",
              "                                                   review  \n",
              "370476  Last week whole sides of frozen salmon fillet ...  \n",
              "624300  So simple and so tasty!  I used a yellow capsi...  \n",
              "187037  Very nice breakfast HH, easy to make and yummy...  \n",
              "706134  These are a favorite for the holidays and so e...  \n",
              "312179  Excellent soup!  The tomato flavor is just gre...  "
            ],
            "text/html": [
              "\n",
              "  <div id=\"df-7ef22dc2-7a96-479b-a67f-288619ee4cc9\" class=\"colab-df-container\">\n",
              "    <div>\n",
              "<style scoped>\n",
              "    .dataframe tbody tr th:only-of-type {\n",
              "        vertical-align: middle;\n",
              "    }\n",
              "\n",
              "    .dataframe tbody tr th {\n",
              "        vertical-align: top;\n",
              "    }\n",
              "\n",
              "    .dataframe thead th {\n",
              "        text-align: right;\n",
              "    }\n",
              "</style>\n",
              "<table border=\"1\" class=\"dataframe\">\n",
              "  <thead>\n",
              "    <tr style=\"text-align: right;\">\n",
              "      <th></th>\n",
              "      <th>user_id</th>\n",
              "      <th>recipe_id</th>\n",
              "      <th>date</th>\n",
              "      <th>rating</th>\n",
              "      <th>review</th>\n",
              "    </tr>\n",
              "  </thead>\n",
              "  <tbody>\n",
              "    <tr>\n",
              "      <th>370476</th>\n",
              "      <td>21752</td>\n",
              "      <td>57993</td>\n",
              "      <td>2003-05-01</td>\n",
              "      <td>5</td>\n",
              "      <td>Last week whole sides of frozen salmon fillet ...</td>\n",
              "    </tr>\n",
              "    <tr>\n",
              "      <th>624300</th>\n",
              "      <td>431813</td>\n",
              "      <td>142201</td>\n",
              "      <td>2007-09-16</td>\n",
              "      <td>5</td>\n",
              "      <td>So simple and so tasty!  I used a yellow capsi...</td>\n",
              "    </tr>\n",
              "    <tr>\n",
              "      <th>187037</th>\n",
              "      <td>400708</td>\n",
              "      <td>252013</td>\n",
              "      <td>2008-01-10</td>\n",
              "      <td>4</td>\n",
              "      <td>Very nice breakfast HH, easy to make and yummy...</td>\n",
              "    </tr>\n",
              "    <tr>\n",
              "      <th>706134</th>\n",
              "      <td>2001852463</td>\n",
              "      <td>404716</td>\n",
              "      <td>2017-12-11</td>\n",
              "      <td>5</td>\n",
              "      <td>These are a favorite for the holidays and so e...</td>\n",
              "    </tr>\n",
              "    <tr>\n",
              "      <th>312179</th>\n",
              "      <td>95810</td>\n",
              "      <td>129396</td>\n",
              "      <td>2008-03-14</td>\n",
              "      <td>5</td>\n",
              "      <td>Excellent soup!  The tomato flavor is just gre...</td>\n",
              "    </tr>\n",
              "  </tbody>\n",
              "</table>\n",
              "</div>\n",
              "    <div class=\"colab-df-buttons\">\n",
              "\n",
              "  <div class=\"colab-df-container\">\n",
              "    <button class=\"colab-df-convert\" onclick=\"convertToInteractive('df-7ef22dc2-7a96-479b-a67f-288619ee4cc9')\"\n",
              "            title=\"Convert this dataframe to an interactive table.\"\n",
              "            style=\"display:none;\">\n",
              "\n",
              "  <svg xmlns=\"http://www.w3.org/2000/svg\" height=\"24px\" viewBox=\"0 -960 960 960\">\n",
              "    <path d=\"M120-120v-720h720v720H120Zm60-500h600v-160H180v160Zm220 220h160v-160H400v160Zm0 220h160v-160H400v160ZM180-400h160v-160H180v160Zm440 0h160v-160H620v160ZM180-180h160v-160H180v160Zm440 0h160v-160H620v160Z\"/>\n",
              "  </svg>\n",
              "    </button>\n",
              "\n",
              "  <style>\n",
              "    .colab-df-container {\n",
              "      display:flex;\n",
              "      gap: 12px;\n",
              "    }\n",
              "\n",
              "    .colab-df-convert {\n",
              "      background-color: #E8F0FE;\n",
              "      border: none;\n",
              "      border-radius: 50%;\n",
              "      cursor: pointer;\n",
              "      display: none;\n",
              "      fill: #1967D2;\n",
              "      height: 32px;\n",
              "      padding: 0 0 0 0;\n",
              "      width: 32px;\n",
              "    }\n",
              "\n",
              "    .colab-df-convert:hover {\n",
              "      background-color: #E2EBFA;\n",
              "      box-shadow: 0px 1px 2px rgba(60, 64, 67, 0.3), 0px 1px 3px 1px rgba(60, 64, 67, 0.15);\n",
              "      fill: #174EA6;\n",
              "    }\n",
              "\n",
              "    .colab-df-buttons div {\n",
              "      margin-bottom: 4px;\n",
              "    }\n",
              "\n",
              "    [theme=dark] .colab-df-convert {\n",
              "      background-color: #3B4455;\n",
              "      fill: #D2E3FC;\n",
              "    }\n",
              "\n",
              "    [theme=dark] .colab-df-convert:hover {\n",
              "      background-color: #434B5C;\n",
              "      box-shadow: 0px 1px 3px 1px rgba(0, 0, 0, 0.15);\n",
              "      filter: drop-shadow(0px 1px 2px rgba(0, 0, 0, 0.3));\n",
              "      fill: #FFFFFF;\n",
              "    }\n",
              "  </style>\n",
              "\n",
              "    <script>\n",
              "      const buttonEl =\n",
              "        document.querySelector('#df-7ef22dc2-7a96-479b-a67f-288619ee4cc9 button.colab-df-convert');\n",
              "      buttonEl.style.display =\n",
              "        google.colab.kernel.accessAllowed ? 'block' : 'none';\n",
              "\n",
              "      async function convertToInteractive(key) {\n",
              "        const element = document.querySelector('#df-7ef22dc2-7a96-479b-a67f-288619ee4cc9');\n",
              "        const dataTable =\n",
              "          await google.colab.kernel.invokeFunction('convertToInteractive',\n",
              "                                                    [key], {});\n",
              "        if (!dataTable) return;\n",
              "\n",
              "        const docLinkHtml = 'Like what you see? Visit the ' +\n",
              "          '<a target=\"_blank\" href=https://colab.research.google.com/notebooks/data_table.ipynb>data table notebook</a>'\n",
              "          + ' to learn more about interactive tables.';\n",
              "        element.innerHTML = '';\n",
              "        dataTable['output_type'] = 'display_data';\n",
              "        await google.colab.output.renderOutput(dataTable, element);\n",
              "        const docLink = document.createElement('div');\n",
              "        docLink.innerHTML = docLinkHtml;\n",
              "        element.appendChild(docLink);\n",
              "      }\n",
              "    </script>\n",
              "  </div>\n",
              "\n",
              "\n",
              "<div id=\"df-abbb186d-7f80-4573-aab9-e322fe63cf26\">\n",
              "  <button class=\"colab-df-quickchart\" onclick=\"quickchart('df-abbb186d-7f80-4573-aab9-e322fe63cf26')\"\n",
              "            title=\"Suggest charts\"\n",
              "            style=\"display:none;\">\n",
              "\n",
              "<svg xmlns=\"http://www.w3.org/2000/svg\" height=\"24px\"viewBox=\"0 0 24 24\"\n",
              "     width=\"24px\">\n",
              "    <g>\n",
              "        <path d=\"M19 3H5c-1.1 0-2 .9-2 2v14c0 1.1.9 2 2 2h14c1.1 0 2-.9 2-2V5c0-1.1-.9-2-2-2zM9 17H7v-7h2v7zm4 0h-2V7h2v10zm4 0h-2v-4h2v4z\"/>\n",
              "    </g>\n",
              "</svg>\n",
              "  </button>\n",
              "\n",
              "<style>\n",
              "  .colab-df-quickchart {\n",
              "      --bg-color: #E8F0FE;\n",
              "      --fill-color: #1967D2;\n",
              "      --hover-bg-color: #E2EBFA;\n",
              "      --hover-fill-color: #174EA6;\n",
              "      --disabled-fill-color: #AAA;\n",
              "      --disabled-bg-color: #DDD;\n",
              "  }\n",
              "\n",
              "  [theme=dark] .colab-df-quickchart {\n",
              "      --bg-color: #3B4455;\n",
              "      --fill-color: #D2E3FC;\n",
              "      --hover-bg-color: #434B5C;\n",
              "      --hover-fill-color: #FFFFFF;\n",
              "      --disabled-bg-color: #3B4455;\n",
              "      --disabled-fill-color: #666;\n",
              "  }\n",
              "\n",
              "  .colab-df-quickchart {\n",
              "    background-color: var(--bg-color);\n",
              "    border: none;\n",
              "    border-radius: 50%;\n",
              "    cursor: pointer;\n",
              "    display: none;\n",
              "    fill: var(--fill-color);\n",
              "    height: 32px;\n",
              "    padding: 0;\n",
              "    width: 32px;\n",
              "  }\n",
              "\n",
              "  .colab-df-quickchart:hover {\n",
              "    background-color: var(--hover-bg-color);\n",
              "    box-shadow: 0 1px 2px rgba(60, 64, 67, 0.3), 0 1px 3px 1px rgba(60, 64, 67, 0.15);\n",
              "    fill: var(--button-hover-fill-color);\n",
              "  }\n",
              "\n",
              "  .colab-df-quickchart-complete:disabled,\n",
              "  .colab-df-quickchart-complete:disabled:hover {\n",
              "    background-color: var(--disabled-bg-color);\n",
              "    fill: var(--disabled-fill-color);\n",
              "    box-shadow: none;\n",
              "  }\n",
              "\n",
              "  .colab-df-spinner {\n",
              "    border: 2px solid var(--fill-color);\n",
              "    border-color: transparent;\n",
              "    border-bottom-color: var(--fill-color);\n",
              "    animation:\n",
              "      spin 1s steps(1) infinite;\n",
              "  }\n",
              "\n",
              "  @keyframes spin {\n",
              "    0% {\n",
              "      border-color: transparent;\n",
              "      border-bottom-color: var(--fill-color);\n",
              "      border-left-color: var(--fill-color);\n",
              "    }\n",
              "    20% {\n",
              "      border-color: transparent;\n",
              "      border-left-color: var(--fill-color);\n",
              "      border-top-color: var(--fill-color);\n",
              "    }\n",
              "    30% {\n",
              "      border-color: transparent;\n",
              "      border-left-color: var(--fill-color);\n",
              "      border-top-color: var(--fill-color);\n",
              "      border-right-color: var(--fill-color);\n",
              "    }\n",
              "    40% {\n",
              "      border-color: transparent;\n",
              "      border-right-color: var(--fill-color);\n",
              "      border-top-color: var(--fill-color);\n",
              "    }\n",
              "    60% {\n",
              "      border-color: transparent;\n",
              "      border-right-color: var(--fill-color);\n",
              "    }\n",
              "    80% {\n",
              "      border-color: transparent;\n",
              "      border-right-color: var(--fill-color);\n",
              "      border-bottom-color: var(--fill-color);\n",
              "    }\n",
              "    90% {\n",
              "      border-color: transparent;\n",
              "      border-bottom-color: var(--fill-color);\n",
              "    }\n",
              "  }\n",
              "</style>\n",
              "\n",
              "  <script>\n",
              "    async function quickchart(key) {\n",
              "      const quickchartButtonEl =\n",
              "        document.querySelector('#' + key + ' button');\n",
              "      quickchartButtonEl.disabled = true;  // To prevent multiple clicks.\n",
              "      quickchartButtonEl.classList.add('colab-df-spinner');\n",
              "      try {\n",
              "        const charts = await google.colab.kernel.invokeFunction(\n",
              "            'suggestCharts', [key], {});\n",
              "      } catch (error) {\n",
              "        console.error('Error during call to suggestCharts:', error);\n",
              "      }\n",
              "      quickchartButtonEl.classList.remove('colab-df-spinner');\n",
              "      quickchartButtonEl.classList.add('colab-df-quickchart-complete');\n",
              "    }\n",
              "    (() => {\n",
              "      let quickchartButtonEl =\n",
              "        document.querySelector('#df-abbb186d-7f80-4573-aab9-e322fe63cf26 button');\n",
              "      quickchartButtonEl.style.display =\n",
              "        google.colab.kernel.accessAllowed ? 'block' : 'none';\n",
              "    })();\n",
              "  </script>\n",
              "</div>\n",
              "    </div>\n",
              "  </div>\n"
            ],
            "application/vnd.google.colaboratory.intrinsic+json": {
              "type": "dataframe",
              "variable_name": "reviews"
            }
          },
          "metadata": {},
          "execution_count": 27
        }
      ]
    },
    {
      "cell_type": "code",
      "source": [
        "recipes.head()"
      ],
      "metadata": {
        "colab": {
          "base_uri": "https://localhost:8080/",
          "height": 362
        },
        "id": "gDjuniu_K1uh",
        "outputId": "245bbec9-3cb7-4c85-bc4d-0c5c1c8e3130"
      },
      "execution_count": null,
      "outputs": [
        {
          "output_type": "execute_result",
          "data": {
            "text/plain": [
              "                                       name     id  minutes  contributor_id  \\\n",
              "0     george s at the cove  black bean soup  44123       90           35193   \n",
              "1        healthy for them  yogurt popsicles  67664       10           91970   \n",
              "2              i can t believe it s spinach  38798       30            1533   \n",
              "3                      italian  gut busters  35173       45           22724   \n",
              "4  love is in the air  beef fondue   sauces  84797       25            4470   \n",
              "\n",
              "    submitted  n_steps                                        description  \\\n",
              "0  2002-10-25      NaN  an original recipe created by chef scott meska...   \n",
              "1  2003-07-26      NaN  my children and their friends ask for my homem...   \n",
              "2  2002-08-29      NaN            these were so go, it surprised even me.   \n",
              "3  2002-07-27      NaN  my sister-in-law made these for us at a family...   \n",
              "4  2004-02-23      4.0  i think a fondue is a very romantic casual din...   \n",
              "\n",
              "   n_ingredients  \n",
              "0           18.0  \n",
              "1            NaN  \n",
              "2            8.0  \n",
              "3            NaN  \n",
              "4            NaN  "
            ],
            "text/html": [
              "\n",
              "  <div id=\"df-8266c055-ad11-4b38-b81a-a0d3f10b95c6\" class=\"colab-df-container\">\n",
              "    <div>\n",
              "<style scoped>\n",
              "    .dataframe tbody tr th:only-of-type {\n",
              "        vertical-align: middle;\n",
              "    }\n",
              "\n",
              "    .dataframe tbody tr th {\n",
              "        vertical-align: top;\n",
              "    }\n",
              "\n",
              "    .dataframe thead th {\n",
              "        text-align: right;\n",
              "    }\n",
              "</style>\n",
              "<table border=\"1\" class=\"dataframe\">\n",
              "  <thead>\n",
              "    <tr style=\"text-align: right;\">\n",
              "      <th></th>\n",
              "      <th>name</th>\n",
              "      <th>id</th>\n",
              "      <th>minutes</th>\n",
              "      <th>contributor_id</th>\n",
              "      <th>submitted</th>\n",
              "      <th>n_steps</th>\n",
              "      <th>description</th>\n",
              "      <th>n_ingredients</th>\n",
              "    </tr>\n",
              "  </thead>\n",
              "  <tbody>\n",
              "    <tr>\n",
              "      <th>0</th>\n",
              "      <td>george s at the cove  black bean soup</td>\n",
              "      <td>44123</td>\n",
              "      <td>90</td>\n",
              "      <td>35193</td>\n",
              "      <td>2002-10-25</td>\n",
              "      <td>NaN</td>\n",
              "      <td>an original recipe created by chef scott meska...</td>\n",
              "      <td>18.0</td>\n",
              "    </tr>\n",
              "    <tr>\n",
              "      <th>1</th>\n",
              "      <td>healthy for them  yogurt popsicles</td>\n",
              "      <td>67664</td>\n",
              "      <td>10</td>\n",
              "      <td>91970</td>\n",
              "      <td>2003-07-26</td>\n",
              "      <td>NaN</td>\n",
              "      <td>my children and their friends ask for my homem...</td>\n",
              "      <td>NaN</td>\n",
              "    </tr>\n",
              "    <tr>\n",
              "      <th>2</th>\n",
              "      <td>i can t believe it s spinach</td>\n",
              "      <td>38798</td>\n",
              "      <td>30</td>\n",
              "      <td>1533</td>\n",
              "      <td>2002-08-29</td>\n",
              "      <td>NaN</td>\n",
              "      <td>these were so go, it surprised even me.</td>\n",
              "      <td>8.0</td>\n",
              "    </tr>\n",
              "    <tr>\n",
              "      <th>3</th>\n",
              "      <td>italian  gut busters</td>\n",
              "      <td>35173</td>\n",
              "      <td>45</td>\n",
              "      <td>22724</td>\n",
              "      <td>2002-07-27</td>\n",
              "      <td>NaN</td>\n",
              "      <td>my sister-in-law made these for us at a family...</td>\n",
              "      <td>NaN</td>\n",
              "    </tr>\n",
              "    <tr>\n",
              "      <th>4</th>\n",
              "      <td>love is in the air  beef fondue   sauces</td>\n",
              "      <td>84797</td>\n",
              "      <td>25</td>\n",
              "      <td>4470</td>\n",
              "      <td>2004-02-23</td>\n",
              "      <td>4.0</td>\n",
              "      <td>i think a fondue is a very romantic casual din...</td>\n",
              "      <td>NaN</td>\n",
              "    </tr>\n",
              "  </tbody>\n",
              "</table>\n",
              "</div>\n",
              "    <div class=\"colab-df-buttons\">\n",
              "\n",
              "  <div class=\"colab-df-container\">\n",
              "    <button class=\"colab-df-convert\" onclick=\"convertToInteractive('df-8266c055-ad11-4b38-b81a-a0d3f10b95c6')\"\n",
              "            title=\"Convert this dataframe to an interactive table.\"\n",
              "            style=\"display:none;\">\n",
              "\n",
              "  <svg xmlns=\"http://www.w3.org/2000/svg\" height=\"24px\" viewBox=\"0 -960 960 960\">\n",
              "    <path d=\"M120-120v-720h720v720H120Zm60-500h600v-160H180v160Zm220 220h160v-160H400v160Zm0 220h160v-160H400v160ZM180-400h160v-160H180v160Zm440 0h160v-160H620v160ZM180-180h160v-160H180v160Zm440 0h160v-160H620v160Z\"/>\n",
              "  </svg>\n",
              "    </button>\n",
              "\n",
              "  <style>\n",
              "    .colab-df-container {\n",
              "      display:flex;\n",
              "      gap: 12px;\n",
              "    }\n",
              "\n",
              "    .colab-df-convert {\n",
              "      background-color: #E8F0FE;\n",
              "      border: none;\n",
              "      border-radius: 50%;\n",
              "      cursor: pointer;\n",
              "      display: none;\n",
              "      fill: #1967D2;\n",
              "      height: 32px;\n",
              "      padding: 0 0 0 0;\n",
              "      width: 32px;\n",
              "    }\n",
              "\n",
              "    .colab-df-convert:hover {\n",
              "      background-color: #E2EBFA;\n",
              "      box-shadow: 0px 1px 2px rgba(60, 64, 67, 0.3), 0px 1px 3px 1px rgba(60, 64, 67, 0.15);\n",
              "      fill: #174EA6;\n",
              "    }\n",
              "\n",
              "    .colab-df-buttons div {\n",
              "      margin-bottom: 4px;\n",
              "    }\n",
              "\n",
              "    [theme=dark] .colab-df-convert {\n",
              "      background-color: #3B4455;\n",
              "      fill: #D2E3FC;\n",
              "    }\n",
              "\n",
              "    [theme=dark] .colab-df-convert:hover {\n",
              "      background-color: #434B5C;\n",
              "      box-shadow: 0px 1px 3px 1px rgba(0, 0, 0, 0.15);\n",
              "      filter: drop-shadow(0px 1px 2px rgba(0, 0, 0, 0.3));\n",
              "      fill: #FFFFFF;\n",
              "    }\n",
              "  </style>\n",
              "\n",
              "    <script>\n",
              "      const buttonEl =\n",
              "        document.querySelector('#df-8266c055-ad11-4b38-b81a-a0d3f10b95c6 button.colab-df-convert');\n",
              "      buttonEl.style.display =\n",
              "        google.colab.kernel.accessAllowed ? 'block' : 'none';\n",
              "\n",
              "      async function convertToInteractive(key) {\n",
              "        const element = document.querySelector('#df-8266c055-ad11-4b38-b81a-a0d3f10b95c6');\n",
              "        const dataTable =\n",
              "          await google.colab.kernel.invokeFunction('convertToInteractive',\n",
              "                                                    [key], {});\n",
              "        if (!dataTable) return;\n",
              "\n",
              "        const docLinkHtml = 'Like what you see? Visit the ' +\n",
              "          '<a target=\"_blank\" href=https://colab.research.google.com/notebooks/data_table.ipynb>data table notebook</a>'\n",
              "          + ' to learn more about interactive tables.';\n",
              "        element.innerHTML = '';\n",
              "        dataTable['output_type'] = 'display_data';\n",
              "        await google.colab.output.renderOutput(dataTable, element);\n",
              "        const docLink = document.createElement('div');\n",
              "        docLink.innerHTML = docLinkHtml;\n",
              "        element.appendChild(docLink);\n",
              "      }\n",
              "    </script>\n",
              "  </div>\n",
              "\n",
              "\n",
              "<div id=\"df-f21f8fd7-9b50-4cdc-90f3-c5350e2ee9c0\">\n",
              "  <button class=\"colab-df-quickchart\" onclick=\"quickchart('df-f21f8fd7-9b50-4cdc-90f3-c5350e2ee9c0')\"\n",
              "            title=\"Suggest charts\"\n",
              "            style=\"display:none;\">\n",
              "\n",
              "<svg xmlns=\"http://www.w3.org/2000/svg\" height=\"24px\"viewBox=\"0 0 24 24\"\n",
              "     width=\"24px\">\n",
              "    <g>\n",
              "        <path d=\"M19 3H5c-1.1 0-2 .9-2 2v14c0 1.1.9 2 2 2h14c1.1 0 2-.9 2-2V5c0-1.1-.9-2-2-2zM9 17H7v-7h2v7zm4 0h-2V7h2v10zm4 0h-2v-4h2v4z\"/>\n",
              "    </g>\n",
              "</svg>\n",
              "  </button>\n",
              "\n",
              "<style>\n",
              "  .colab-df-quickchart {\n",
              "      --bg-color: #E8F0FE;\n",
              "      --fill-color: #1967D2;\n",
              "      --hover-bg-color: #E2EBFA;\n",
              "      --hover-fill-color: #174EA6;\n",
              "      --disabled-fill-color: #AAA;\n",
              "      --disabled-bg-color: #DDD;\n",
              "  }\n",
              "\n",
              "  [theme=dark] .colab-df-quickchart {\n",
              "      --bg-color: #3B4455;\n",
              "      --fill-color: #D2E3FC;\n",
              "      --hover-bg-color: #434B5C;\n",
              "      --hover-fill-color: #FFFFFF;\n",
              "      --disabled-bg-color: #3B4455;\n",
              "      --disabled-fill-color: #666;\n",
              "  }\n",
              "\n",
              "  .colab-df-quickchart {\n",
              "    background-color: var(--bg-color);\n",
              "    border: none;\n",
              "    border-radius: 50%;\n",
              "    cursor: pointer;\n",
              "    display: none;\n",
              "    fill: var(--fill-color);\n",
              "    height: 32px;\n",
              "    padding: 0;\n",
              "    width: 32px;\n",
              "  }\n",
              "\n",
              "  .colab-df-quickchart:hover {\n",
              "    background-color: var(--hover-bg-color);\n",
              "    box-shadow: 0 1px 2px rgba(60, 64, 67, 0.3), 0 1px 3px 1px rgba(60, 64, 67, 0.15);\n",
              "    fill: var(--button-hover-fill-color);\n",
              "  }\n",
              "\n",
              "  .colab-df-quickchart-complete:disabled,\n",
              "  .colab-df-quickchart-complete:disabled:hover {\n",
              "    background-color: var(--disabled-bg-color);\n",
              "    fill: var(--disabled-fill-color);\n",
              "    box-shadow: none;\n",
              "  }\n",
              "\n",
              "  .colab-df-spinner {\n",
              "    border: 2px solid var(--fill-color);\n",
              "    border-color: transparent;\n",
              "    border-bottom-color: var(--fill-color);\n",
              "    animation:\n",
              "      spin 1s steps(1) infinite;\n",
              "  }\n",
              "\n",
              "  @keyframes spin {\n",
              "    0% {\n",
              "      border-color: transparent;\n",
              "      border-bottom-color: var(--fill-color);\n",
              "      border-left-color: var(--fill-color);\n",
              "    }\n",
              "    20% {\n",
              "      border-color: transparent;\n",
              "      border-left-color: var(--fill-color);\n",
              "      border-top-color: var(--fill-color);\n",
              "    }\n",
              "    30% {\n",
              "      border-color: transparent;\n",
              "      border-left-color: var(--fill-color);\n",
              "      border-top-color: var(--fill-color);\n",
              "      border-right-color: var(--fill-color);\n",
              "    }\n",
              "    40% {\n",
              "      border-color: transparent;\n",
              "      border-right-color: var(--fill-color);\n",
              "      border-top-color: var(--fill-color);\n",
              "    }\n",
              "    60% {\n",
              "      border-color: transparent;\n",
              "      border-right-color: var(--fill-color);\n",
              "    }\n",
              "    80% {\n",
              "      border-color: transparent;\n",
              "      border-right-color: var(--fill-color);\n",
              "      border-bottom-color: var(--fill-color);\n",
              "    }\n",
              "    90% {\n",
              "      border-color: transparent;\n",
              "      border-bottom-color: var(--fill-color);\n",
              "    }\n",
              "  }\n",
              "</style>\n",
              "\n",
              "  <script>\n",
              "    async function quickchart(key) {\n",
              "      const quickchartButtonEl =\n",
              "        document.querySelector('#' + key + ' button');\n",
              "      quickchartButtonEl.disabled = true;  // To prevent multiple clicks.\n",
              "      quickchartButtonEl.classList.add('colab-df-spinner');\n",
              "      try {\n",
              "        const charts = await google.colab.kernel.invokeFunction(\n",
              "            'suggestCharts', [key], {});\n",
              "      } catch (error) {\n",
              "        console.error('Error during call to suggestCharts:', error);\n",
              "      }\n",
              "      quickchartButtonEl.classList.remove('colab-df-spinner');\n",
              "      quickchartButtonEl.classList.add('colab-df-quickchart-complete');\n",
              "    }\n",
              "    (() => {\n",
              "      let quickchartButtonEl =\n",
              "        document.querySelector('#df-f21f8fd7-9b50-4cdc-90f3-c5350e2ee9c0 button');\n",
              "      quickchartButtonEl.style.display =\n",
              "        google.colab.kernel.accessAllowed ? 'block' : 'none';\n",
              "    })();\n",
              "  </script>\n",
              "</div>\n",
              "    </div>\n",
              "  </div>\n"
            ],
            "application/vnd.google.colaboratory.intrinsic+json": {
              "type": "dataframe",
              "variable_name": "recipes",
              "repr_error": "'str' object has no attribute 'empty'"
            }
          },
          "metadata": {},
          "execution_count": 9
        }
      ]
    },
    {
      "cell_type": "markdown",
      "metadata": {
        "id": "XhL2j4Plx4Ow"
      },
      "source": [
        "1.2 Для каждой из таблиц выведите основные параметры:\n",
        "* количество точек данных (строк);\n",
        "* количество столбцов;\n",
        "* тип данных каждого столбца."
      ]
    },
    {
      "cell_type": "code",
      "source": [
        "print(recipes.shape[0])\n",
        "print(reviews.shape[0])\n",
        "print(recipes.shape[1])\n",
        "print(reviews.shape[1])\n",
        "print(recipes[\"name\"].dtype)\n",
        "print(recipes[\"id\"].dtype)\n",
        "print(recipes[\"minutes\"].dtype)\n",
        "print(recipes[\"contributor_id\"].dtype)\n",
        "print(recipes[\"submitted\"].dtype)\n",
        "print(recipes[\"n_steps\"].dtype)\n",
        "print(recipes[\"description\"].dtype)\n",
        "print(recipes[\"n_ingredients\"].dtype)"
      ],
      "metadata": {
        "colab": {
          "base_uri": "https://localhost:8080/"
        },
        "id": "eMfTMjaiZxJf",
        "outputId": "956d629f-5032-42d6-85b0-0f7f2c17f1b1"
      },
      "execution_count": null,
      "outputs": [
        {
          "output_type": "stream",
          "name": "stdout",
          "text": [
            "30000\n",
            "23239\n",
            "8\n",
            "5\n",
            "object\n",
            "int64\n",
            "int64\n",
            "int64\n",
            "object\n",
            "float64\n",
            "object\n",
            "float64\n"
          ]
        }
      ]
    },
    {
      "cell_type": "markdown",
      "metadata": {
        "id": "Myjbq8k4x4Ow"
      },
      "source": [
        "1.3 Исследуйте, в каких столбцах таблиц содержатся пропуски. Посчитайте долю строк, содержащих пропуски, в отношении к общему количеству строк."
      ]
    },
    {
      "cell_type": "code",
      "source": [
        "missing_values_recipes = recipes.isnull().sum()\n",
        "print(\"Пропуски в таблице с рецептами:\")\n",
        "print(missing_values_recipes)"
      ],
      "metadata": {
        "id": "Wna3je4RbW8r",
        "colab": {
          "base_uri": "https://localhost:8080/"
        },
        "outputId": "569a1ebe-98a8-4d6e-848b-af29f42e260c"
      },
      "execution_count": null,
      "outputs": [
        {
          "output_type": "stream",
          "name": "stdout",
          "text": [
            "Пропуски в таблице с рецептами:\n",
            "name                  0\n",
            "id                    0\n",
            "minutes               0\n",
            "contributor_id        0\n",
            "submitted             0\n",
            "n_steps           11190\n",
            "description         623\n",
            "n_ingredients      8880\n",
            "dtype: int64\n"
          ]
        }
      ]
    },
    {
      "cell_type": "code",
      "source": [
        "missing_values_reviews = reviews.isnull().sum()\n",
        "print(\"Пропуски в таблице с отзывами:\")\n",
        "print(missing_values_reviews)"
      ],
      "metadata": {
        "colab": {
          "base_uri": "https://localhost:8080/"
        },
        "id": "peuuKhb9hVEQ",
        "outputId": "11e3799b-d949-4449-a9b4-7a38e59c8810"
      },
      "execution_count": null,
      "outputs": [
        {
          "output_type": "stream",
          "name": "stdout",
          "text": [
            "Пропуски в таблице с отзывами:\n",
            "user_id      1\n",
            "recipe_id    1\n",
            "date         1\n",
            "rating       1\n",
            "review       5\n",
            "dtype: int64\n"
          ]
        }
      ]
    },
    {
      "cell_type": "code",
      "source": [
        "missing_row_recipes = recipes.isnull().any(axis=1).mean()\n",
        "print(missing_values_recipes)"
      ],
      "metadata": {
        "colab": {
          "base_uri": "https://localhost:8080/"
        },
        "id": "r3znT4HAhh3Z",
        "outputId": "be5688e2-076d-4c00-cc1c-ced71f6aabda"
      },
      "execution_count": null,
      "outputs": [
        {
          "output_type": "stream",
          "name": "stdout",
          "text": [
            "name                  0\n",
            "id                    0\n",
            "minutes               0\n",
            "contributor_id        0\n",
            "submitted             0\n",
            "n_steps           11190\n",
            "description         623\n",
            "n_ingredients      8880\n",
            "dtype: int64\n",
            "30000\n"
          ]
        }
      ]
    },
    {
      "cell_type": "code",
      "source": [
        "missing_row_reviews = reviews.isnull().any(axis=1).mean()\n",
        "print(missing_values_reviews)"
      ],
      "metadata": {
        "colab": {
          "base_uri": "https://localhost:8080/"
        },
        "id": "eZZFU0_fi0ag",
        "outputId": "851fec01-141a-4a5a-fd9b-b6718eb634e4"
      },
      "execution_count": null,
      "outputs": [
        {
          "output_type": "stream",
          "name": "stdout",
          "text": [
            "user_id      1\n",
            "recipe_id    1\n",
            "date         1\n",
            "rating       1\n",
            "review       5\n",
            "dtype: int64\n"
          ]
        }
      ]
    },
    {
      "cell_type": "markdown",
      "metadata": {
        "id": "b6JcFTqPx4Ow"
      },
      "source": [
        "1.4 Рассчитайте среднее значение для каждого из числовых столбцов (где это имеет смысл)."
      ]
    },
    {
      "cell_type": "code",
      "source": [
        "recipes.loc[:, [\"minutes\", \"n_ingredients\"]].mean(), reviews.loc[:, [\"rating\"]].mean()"
      ],
      "metadata": {
        "id": "9hIVcV4ZfmXR",
        "colab": {
          "base_uri": "https://localhost:8080/"
        },
        "outputId": "675a737d-c941-463f-d809-2016c2ca7c20"
      },
      "execution_count": null,
      "outputs": [
        {
          "output_type": "execute_result",
          "data": {
            "text/plain": [
              "(minutes          123.358133\n",
              " n_ingredients      9.008286\n",
              " dtype: float64,\n",
              " rating    4.425553\n",
              " dtype: float64)"
            ]
          },
          "metadata": {},
          "execution_count": 22
        }
      ]
    },
    {
      "cell_type": "markdown",
      "metadata": {
        "id": "S3G0UQBfx4Ow"
      },
      "source": [
        "1.5 Создайте серию из 10 случайных названий рецептов."
      ]
    },
    {
      "cell_type": "code",
      "source": [
        "names = recipes.name.sample(n=10)\n",
        "names, type(names)"
      ],
      "metadata": {
        "colab": {
          "base_uri": "https://localhost:8080/"
        },
        "id": "4UqzNjVZhi7U",
        "outputId": "ffd50cf7-834d-44f3-e748-e5c51581fd33"
      },
      "execution_count": null,
      "outputs": [
        {
          "output_type": "execute_result",
          "data": {
            "text/plain": [
              "(18383    my  base for everything  zippy  marinara sauce\n",
              " 26582            sweet  sugar free gluten free  granola\n",
              " 10246                       easy sweet potato casserole\n",
              " 11604                               fruit dessert salad\n",
              " 8900                                  cucumber lemonade\n",
              " 19797       pannbiff med lok   meat patties with onions\n",
              " 7347                          coffee can campfire bread\n",
              " 19553                                      ouzo martini\n",
              " 14151                                 hot apple toddies\n",
              " 19776           panch phoron  indian spice seed mixture\n",
              " Name: name, dtype: object,\n",
              " pandas.core.series.Series)"
            ]
          },
          "metadata": {},
          "execution_count": 11
        }
      ]
    },
    {
      "cell_type": "markdown",
      "metadata": {
        "id": "DbCU4N7Qx4Ox"
      },
      "source": [
        "1.6 Измените индекс в таблице `reviews`, пронумеровав строки, начиная с нуля."
      ]
    },
    {
      "cell_type": "code",
      "source": [
        "reviews.index = range(0, reviews.shape[0])\n",
        "reviews"
      ],
      "metadata": {
        "id": "znNulSKnhxMv"
      },
      "execution_count": null,
      "outputs": []
    },
    {
      "cell_type": "code",
      "source": [
        "reviews.reset_index(drop=True, inplace=True)\n",
        "print(reviews.head())"
      ],
      "metadata": {
        "colab": {
          "base_uri": "https://localhost:8080/"
        },
        "id": "Kk1C_4RzkJ13",
        "outputId": "a0ef2488-c072-49f8-cca6-8e04b6ab8236"
      },
      "execution_count": null,
      "outputs": [
        {
          "output_type": "stream",
          "name": "stdout",
          "text": [
            "        user_id  recipe_id        date  rating  \\\n",
            "0  2.175200e+04    57993.0  2003-05-01     5.0   \n",
            "1  4.318130e+05   142201.0  2007-09-16     5.0   \n",
            "2  4.007080e+05   252013.0  2008-01-10     4.0   \n",
            "3  2.001852e+09   404716.0  2017-12-11     5.0   \n",
            "4  9.581000e+04   129396.0  2008-03-14     5.0   \n",
            "\n",
            "                                              review  \n",
            "0  Last week whole sides of frozen salmon fillet ...  \n",
            "1  So simple and so tasty!  I used a yellow capsi...  \n",
            "2  Very nice breakfast HH, easy to make and yummy...  \n",
            "3  These are a favorite for the holidays and so e...  \n",
            "4  Excellent soup!  The tomato flavor is just gre...  \n"
          ]
        }
      ]
    },
    {
      "cell_type": "markdown",
      "metadata": {
        "id": "PNdxbfNlx4Ox"
      },
      "source": [
        "\\1.7 Выведите информацию о рецептах, время выполнения которых не больше 20 минут и кол-во ингредиентов в которых не больше 5."
      ]
    },
    {
      "cell_type": "code",
      "source": [
        "result = recipes.query(\"minutes <= 20 and n_ingredients <= 5\")\n",
        "print(result)"
      ],
      "metadata": {
        "id": "PYo-nxZCkWl3"
      },
      "execution_count": null,
      "outputs": []
    },
    {
      "cell_type": "code",
      "source": [
        "result1 = recipes.loc[(recipes[\"minutes\"] <= 20) & (recipes[\"n_ingredients\"] <= 5)]\n",
        "print(result1)"
      ],
      "metadata": {
        "id": "8MEy9mFlk-J2"
      },
      "execution_count": null,
      "outputs": []
    },
    {
      "cell_type": "markdown",
      "metadata": {
        "id": "c7qHqU4Gx4Ox"
      },
      "source": [
        "### Работа с датами в `pandas`"
      ]
    },
    {
      "cell_type": "markdown",
      "metadata": {
        "id": "Ob62k6o7x4Oy"
      },
      "source": [
        "2.1 Преобразуйте столбец `submitted` из таблицы `recipes` в формат времени. Модифицируйте решение задачи 1.1 так, чтобы считать столбец сразу в нужном формате."
      ]
    },
    {
      "cell_type": "code",
      "source": [
        "recipes[\"submitted\"] = pd.to_datetime(recipes[\"submitted\"])\n",
        "recipes.dtypes"
      ],
      "metadata": {
        "colab": {
          "base_uri": "https://localhost:8080/"
        },
        "id": "Yeq3Yrh8iPAY",
        "outputId": "f0b7ba2a-9451-4825-86ae-a839594d8a3e"
      },
      "execution_count": null,
      "outputs": [
        {
          "output_type": "execute_result",
          "data": {
            "text/plain": [
              "name                      object\n",
              "id                         int64\n",
              "minutes                    int64\n",
              "contributor_id             int64\n",
              "submitted         datetime64[ns]\n",
              "n_steps                  float64\n",
              "description               object\n",
              "n_ingredients            float64\n",
              "dtype: object"
            ]
          },
          "metadata": {},
          "execution_count": 26
        }
      ]
    },
    {
      "cell_type": "markdown",
      "metadata": {
        "id": "A9AOTyR3x4Oy"
      },
      "source": [
        "2.2 Выведите информацию о рецептах, добавленных в датасет не позже 2010 года."
      ]
    },
    {
      "cell_type": "code",
      "source": [
        "recipes[(recipes.submitted < \"2010.01.01\")]"
      ],
      "metadata": {
        "id": "G-xZip5FmAp6"
      },
      "execution_count": null,
      "outputs": []
    },
    {
      "cell_type": "markdown",
      "metadata": {
        "id": "c2jnMVuYx4Oy"
      },
      "source": [
        "### Работа со строковыми данными в `pandas`"
      ]
    },
    {
      "cell_type": "markdown",
      "metadata": {
        "id": "pnN5EgpZx4Oy"
      },
      "source": [
        "3.1  Добавьте в таблицу `recipes` столбец `description_length`, в котором хранится длина описания рецепта из столбца `description`."
      ]
    },
    {
      "cell_type": "code",
      "source": [
        "recipes[\"description_length\"] = recipes.description.apply(lambda x: len(str(x)))\n",
        "recipes"
      ],
      "metadata": {
        "id": "h9QYMdpDmbRS"
      },
      "execution_count": null,
      "outputs": []
    },
    {
      "cell_type": "markdown",
      "metadata": {
        "id": "jlyZFPCZx4Oz"
      },
      "source": [
        "3.2 Измените название каждого рецепта в таблице `recipes` таким образом, чтобы каждое слово в названии начиналось с прописной буквы."
      ]
    },
    {
      "cell_type": "code",
      "source": [
        "recipes[\"name\"] = recipes[\"name\"].apply(lambda x: x.title())\n",
        "print(recipes.head())"
      ],
      "metadata": {
        "id": "XZR6Frx-lvH3"
      },
      "execution_count": null,
      "outputs": []
    },
    {
      "cell_type": "markdown",
      "metadata": {
        "id": "5WJevzu2x4Oz"
      },
      "source": [
        "3.3 Добавьте в таблицу `recipes` столбец `name_word_count`, в котором хранится количество слов из названии рецепта (считайте, что слова в названии разделяются только пробелами). Обратите внимание, что между словами может располагаться несколько пробелов подряд."
      ]
    },
    {
      "cell_type": "code",
      "source": [
        "recipes[\"name_word_count\"] = recipes[\"name\"].apply(lambda x: len(x.split()))\n",
        "recipes"
      ],
      "metadata": {
        "id": "kXZ-gMqFmiM6"
      },
      "execution_count": null,
      "outputs": []
    },
    {
      "cell_type": "markdown",
      "metadata": {
        "id": "no7kiSdMx4Oz"
      },
      "source": [
        "### Группировки таблиц `pd.DataFrame`"
      ]
    },
    {
      "cell_type": "markdown",
      "metadata": {
        "id": "JGHS1Nt3x4Oz"
      },
      "source": [
        "4.1 Посчитайте количество рецептов, представленных каждым из участников (`contributor_id`). Какой участник добавил максимальное кол-во рецептов?"
      ]
    },
    {
      "cell_type": "code",
      "source": [
        "recipe_counts = recipes[\"contributor_id\"].value_counts()\n",
        "recipe_counts\n",
        "\n",
        "max_contributor_id = recipe_counts.idxmax()\n",
        "print(max_contributor_id)\n",
        "\n",
        "max_recipe_count = recipe_counts.max()\n",
        "print(max_recipe_count)"
      ],
      "metadata": {
        "colab": {
          "base_uri": "https://localhost:8080/"
        },
        "id": "gG3_3AU-nUUG",
        "outputId": "72d6a19a-7c9f-4fb9-8db9-363275985dac"
      },
      "execution_count": null,
      "outputs": [
        {
          "output_type": "stream",
          "name": "stdout",
          "text": [
            "89831\n",
            "421\n"
          ]
        }
      ]
    },
    {
      "cell_type": "markdown",
      "metadata": {
        "id": "5VP7SUv8x4Oz"
      },
      "source": [
        "4.2 Посчитайте средний рейтинг к каждому из рецептов. Для скольких рецептов\n",
        "\n",
        "*   List item\n",
        "*   List item\n",
        "\n",
        "отсутствуют отзывы? Обратите внимание, что отзыв с нулевым рейтингом или не заполненным текстовым описанием не считается отсутствующим."
      ]
    },
    {
      "cell_type": "code",
      "source": [
        "marks = reviews.groupby(\"recipe_id\").rating.mean()\n",
        "marks\n",
        "\n",
        "print(\"Отзывы отсутсвуют для рецептов:\")\n",
        "recipes.shape[0] - pd.unique(reviews.recipe_id).shape[0]"
      ],
      "metadata": {
        "colab": {
          "base_uri": "https://localhost:8080/"
        },
        "id": "jtGCgZAbofnj",
        "outputId": "3bccf299-35f3-4eef-c4ff-197aad92910d"
      },
      "execution_count": null,
      "outputs": [
        {
          "output_type": "stream",
          "name": "stdout",
          "text": [
            "Отзывы отсутсвуют для рецептов:\n"
          ]
        },
        {
          "output_type": "execute_result",
          "data": {
            "text/plain": [
              "1900"
            ]
          },
          "metadata": {},
          "execution_count": 40
        }
      ]
    },
    {
      "cell_type": "markdown",
      "metadata": {
        "id": "oEgt-w9jx4Oz"
      },
      "source": [
        "4.3 Посчитайте количество рецептов с разбивкой по годам создания."
      ]
    },
    {
      "cell_type": "code",
      "source": [
        "print(pd.DatetimeIndex(recipes[\"submitted\"]).year.value_counts().sort_index())"
      ],
      "metadata": {
        "id": "5fNGkE8epbGU"
      },
      "execution_count": null,
      "outputs": []
    },
    {
      "cell_type": "code",
      "source": [
        "recipes.groupby(recipes[\"submitted\"].dt.year).size()"
      ],
      "metadata": {
        "id": "t26HstzSqCWA"
      },
      "execution_count": null,
      "outputs": []
    },
    {
      "cell_type": "markdown",
      "metadata": {
        "id": "cCJ1BcMQx4O0"
      },
      "source": [
        "### Объединение таблиц `pd.DataFrame`"
      ]
    },
    {
      "cell_type": "markdown",
      "metadata": {
        "id": "H0zLwy1Gx4O0"
      },
      "source": [
        "5.1 При помощи объединения таблиц, создайте `DataFrame`, состоящий из четырех столбцов: `id`, `name`, `user_id`, `rating`. Рецепты, на которые не оставлен ни один отзыв, должны отсутствовать в полученной таблице. Подтвердите правильность работы вашего кода, выбрав рецепт, не имеющий отзывов, и попытавшись найти строку, соответствующую этому рецепту, в полученном `DataFrame`."
      ]
    },
    {
      "cell_type": "code",
      "source": [
        "merge_df = pd.merge(recipes, reviews, left_on=\"id\", right_on=\"recipe_id\")\n",
        "result_df = merge_df[[\"id\", \"name\", \"user_id\", \"rating\"]]\n",
        "print(result_df.head())\n",
        "#Проверка рецепта без отзывов:\n",
        "recipe_without_reviews = recipes.loc[recipes.id == 48]\n",
        "print(recipe_without_reviews)"
      ],
      "metadata": {
        "colab": {
          "base_uri": "https://localhost:8080/"
        },
        "id": "87u1Q5_5qKpa",
        "outputId": "a69b455b-2dce-441a-a84c-964389a4067a"
      },
      "execution_count": null,
      "outputs": [
        {
          "output_type": "stream",
          "name": "stdout",
          "text": [
            "      id                                   name  user_id  rating\n",
            "0  44123  George S At The Cove  Black Bean Soup   743566       5\n",
            "1  44123  George S At The Cove  Black Bean Soup    76503       5\n",
            "2  44123  George S At The Cove  Black Bean Soup    34206       5\n",
            "3  67664     Healthy For Them  Yogurt Popsicles   494084       5\n",
            "4  67664     Healthy For Them  Yogurt Popsicles   303445       5\n",
            "                  name  id  minutes  contributor_id  submitted  n_steps  \\\n",
            "3535  Boston Cream Pie  48      135            1545 1999-08-24     32.0   \n",
            "\n",
            "     description  n_ingredients  description_length  name_word_count  \n",
            "3535         NaN           15.0                   3                3  \n"
          ]
        }
      ]
    },
    {
      "cell_type": "markdown",
      "metadata": {
        "id": "hO4bdQ7Gx4O0"
      },
      "source": [
        "5.2 При помощи объединения таблиц и группировок, создайте `DataFrame`, состоящий из трех столбцов: `recipe_id`, `name`, `review_count`, где столбец `review_count` содержит кол-во отзывов, оставленных на рецепт `recipe_id`. У рецептов, на которые не оставлен ни один отзыв, в столбце `review_count` должен быть указан 0. Подтвердите правильность работы вашего кода, выбрав рецепт, не имеющий отзывов, и найдя строку, соответствующую этому рецепту, в полученном `DataFrame`."
      ]
    },
    {
      "cell_type": "code",
      "source": [
        "merged_df = pd.merge(recipes, reviews, left_on=\"id\", right_on=\"recipe_id\", how=\"left\")\n",
        "review_count_df = merged_df.groupby([\"id\", \"name\"]).size().reset_index(name=\"review_count\")\n",
        "result_df = pd.merge(recipes[[\"id\", \"name\"]], review_count_df, left_on=\"id\", right_on=\"id\", how=\"left\").fillna(0)\n",
        "\n",
        "recipe_without_reviews = recipes.loc[recipes.id == 48]\n",
        "print(recipe_without_reviews)\n",
        "\n",
        "print(result_df.head())"
      ],
      "metadata": {
        "colab": {
          "base_uri": "https://localhost:8080/"
        },
        "id": "95srXGvXrEFi",
        "outputId": "4f1b78fd-c9a8-4da0-b0e8-b5d28bde2e90"
      },
      "execution_count": null,
      "outputs": [
        {
          "output_type": "stream",
          "name": "stdout",
          "text": [
            "                  name  id  minutes  contributor_id  submitted  n_steps  \\\n",
            "3535  Boston Cream Pie  48      135            1545 1999-08-24     32.0   \n",
            "\n",
            "     description  n_ingredients  description_length  name_word_count  \n",
            "3535         NaN           15.0                   3                3  \n",
            "      id                                    name_x  \\\n",
            "0  44123     George S At The Cove  Black Bean Soup   \n",
            "1  67664        Healthy For Them  Yogurt Popsicles   \n",
            "2  38798              I Can T Believe It S Spinach   \n",
            "3  35173                      Italian  Gut Busters   \n",
            "4  84797  Love Is In The Air  Beef Fondue   Sauces   \n",
            "\n",
            "                                     name_y  review_count  \n",
            "0     George S At The Cove  Black Bean Soup             3  \n",
            "1        Healthy For Them  Yogurt Popsicles             8  \n",
            "2              I Can T Believe It S Spinach             3  \n",
            "3                      Italian  Gut Busters             1  \n",
            "4  Love Is In The Air  Beef Fondue   Sauces             8  \n"
          ]
        }
      ]
    },
    {
      "cell_type": "markdown",
      "metadata": {
        "id": "tZGzJRxjx4O1"
      },
      "source": [
        "5.3. Выясните, рецепты, добавленные в каком году, имеют наименьший средний рейтинг?"
      ]
    },
    {
      "cell_type": "code",
      "source": [
        "#avr_rating_per_year = reviews.groupby(reviews[\"date\"].dt.year)[\"rating\"].mean()\n",
        "#avr_rating_per_year[avr_rating_per_year < avr_rating_per_year.quantile(q=0.1)]"
      ],
      "metadata": {
        "id": "miXw75tZsNCe"
      },
      "execution_count": null,
      "outputs": []
    },
    {
      "cell_type": "markdown",
      "metadata": {
        "id": "0JuEP3bRx4O1"
      },
      "source": [
        "### Сохранение таблиц `pd.DataFrame`"
      ]
    },
    {
      "cell_type": "markdown",
      "metadata": {
        "id": "LM_ntJO7x4O1"
      },
      "source": [
        "6.1 Отсортируйте таблицу в порядке убывания величины столбца `name_word_count` и сохраните результаты выполнения заданий 3.1-3.3 в csv файл."
      ]
    },
    {
      "cell_type": "markdown",
      "metadata": {
        "id": "gBGqX49Fx4O2"
      },
      "source": [
        "6.2 Воспользовавшись `pd.ExcelWriter`, cохраните результаты 5.1 и 5.2 в файл: на лист с названием `Рецепты с оценками` сохраните результаты выполнения 5.1; на лист с названием `Количество отзывов по рецептам` сохраните результаты выполнения 5.2."
      ]
    },
    {
      "cell_type": "code",
      "execution_count": null,
      "metadata": {
        "id": "WAxwR4qix4O2"
      },
      "outputs": [],
      "source": []
    },
    {
      "cell_type": "code",
      "execution_count": null,
      "metadata": {
        "id": "r5K9j4jTx4O2"
      },
      "outputs": [],
      "source": []
    },
    {
      "cell_type": "markdown",
      "metadata": {
        "id": "kbfjeKv8x4O2"
      },
      "source": [
        "#### [версия 2]\n",
        "* Уточнены формулировки задач 1.1, 3.3, 4.2, 5.1, 5.2, 5.3"
      ]
    },
    {
      "cell_type": "code",
      "execution_count": null,
      "metadata": {
        "id": "5R3tP5BYx4O3"
      },
      "outputs": [],
      "source": []
    }
  ],
  "metadata": {
    "kernelspec": {
      "display_name": "Python 3",
      "language": "python",
      "name": "python3"
    },
    "language_info": {
      "codemirror_mode": {
        "name": "ipython",
        "version": 3
      },
      "file_extension": ".py",
      "mimetype": "text/x-python",
      "name": "python",
      "nbconvert_exporter": "python",
      "pygments_lexer": "ipython3",
      "version": "3.7.4"
    },
    "colab": {
      "provenance": []
    }
  },
  "nbformat": 4,
  "nbformat_minor": 0
}